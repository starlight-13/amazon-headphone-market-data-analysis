{
 "cells": [
  {
   "cell_type": "markdown",
   "metadata": {},
   "source": [
    "I wrote SQL queries and ran them on sqlliteonline.com. This is all that code documented, just for reference."
   ]
  },
  {
   "cell_type": "code",
   "execution_count": null,
   "metadata": {},
   "outputs": [],
   "source": [
    "SELECT DISTINCT \"ASIN\"\n",
    "FROM amazon_data;  -- to check how many unique products there are"
   ]
  },
  {
   "cell_type": "code",
   "execution_count": null,
   "metadata": {},
   "outputs": [],
   "source": [
    "SELECT \"Brand\", COUNT(*) AS count\n",
    "FROM amazon_data\n",
    "GROUP BY \"Brand\"\n",
    "ORDER BY count DESC;  -- to see brands, and to check if they are actual brands, or some error in webscraping"
   ]
  },
  {
   "cell_type": "code",
   "execution_count": null,
   "metadata": {},
   "outputs": [],
   "source": [
    "-- STANDARDIZING BRAND NAMES\n",
    "UPDATE amazon_data\n",
    "SET \"Brand\" = CASE\n",
    "\tWHEN LOWER(\"Brand\") = 'boat' THEN 'boAt'\n",
    "    WHEN LOWER(\"Brand\") = 'oneplus' THEN 'OnePlus'\n",
    "    WHEN LOWER(\"Brand\") = 'amazon' THEN 'Amazon Basics'\n",
    "    WHEN \"Brand\" IN ('Q', 'W20', 'Mustang') then 'Boult'\n",
    "    ELSE \"Brand\"\n",
    "    END;"
   ]
  },
  {
   "cell_type": "code",
   "execution_count": null,
   "metadata": {},
   "outputs": [],
   "source": [
    "-- CREATE A NEW TABLE FOR DEDUPLICATION\n",
    "CREATE TABLE cleaned_amazon_data AS\n",
    "SELECT\n",
    "    \"Title\",\n",
    "    \"Brand\",\n",
    "    \"Price\",\n",
    "    \"MRP\",\n",
    "    \"Discount\",\n",
    "    \"Rating\",\n",
    "    \"Review_Count\",\n",
    "    \"Prime\",\n",
    "    \"ASIN\",\n",
    "    \"URL\"\n",
    "FROM (\n",
    "    SELECT *,\n",
    "           ROW_NUMBER() OVER (PARTITION BY \"ASIN\" ORDER BY \"Title\") as rn\n",
    "    FROM amazon_data\n",
    "    WHERE \"ASIN\" IS NOT NULL AND \"ASIN\" != ''\n",
    ") ranked\n",
    "WHERE rn = 1;"
   ]
  },
  {
   "cell_type": "code",
   "execution_count": null,
   "metadata": {},
   "outputs": [],
   "source": [
    "-- CLEAN PRICE COLUMN\n",
    "UPDATE cleaned_amazon_data\n",
    "SET \"Price\" = REGEXP_REPLACE(\"Price\", '[^0-9]', '', 'g')::INTEGER\n",
    "WHERE \"Price\" IS NOT NULL AND \"Price\" ~ '[0-9]';\n",
    "\n",
    "-- CLEAN MRP COLUMN\n",
    "UPDATE cleaned_amazon_data\n",
    "SET \"MRP\" = REGEXP_REPLACE(\"MRP\", '[^0-9]', '', 'g')::INTEGER\n",
    "WHERE \"MRP\" IS NOT NULL AND \"MRP\" ~ '[0-9]';\n",
    "\n",
    "-- CLEAN DISCOUNT COLUMN\n",
    "UPDATE cleaned_amazon_data\n",
    "SET \"Discount\" = SUBSTRING(\"Discount\" FROM '\\((\\d+)%')::INTEGER\n",
    "WHERE \"Discount\" IS NOT NULL AND \"Discount\" ~ '\\(\\d+%';\n",
    "\n",
    "-- CLEAN RATING COLUMN\n",
    "UPDATE cleaned_amazon_data\n",
    "SET \"Rating\" = SPLIT_PART(\"Rating\", ' ', 1)::FLOAT\n",
    "WHERE \"Rating\" IS NOT NULL AND \"Rating\" ~ '^[0-9\\.]+';\n",
    "\n",
    "-- CLEAN REVIEW_COUNT COLUMN\n",
    "UPDATE cleaned_amazon_data\n",
    "SET \"Review_Count\" = REPLACE(\"Review_Count\", ',', '')::INTEGER\n",
    "WHERE \"Review_Count\" IS NOT NULL AND \"Review_Count\" ~ '^[0-9,]+$';\n",
    "\n",
    "-- CLEAN PRIME COLUMNN\n",
    "UPDATE cleaned_amazon_data\n",
    "SET \"Prime\" = CASE WHEN LOWER(\"Prime\") = 'true' THEN 'TRUE' ELSE 'FALSE' END;\n",
    "\n",
    "-- CHECK THE TABLE AFTER CLEANING\n",
    "SELECT * FROM cleaned_amazon_data LIMIT 5;"
   ]
  },
  {
   "cell_type": "code",
   "execution_count": null,
   "metadata": {},
   "outputs": [],
   "source": [
    "-- CHECK DATA TYPES OF ALL COLUMNS, AND CONVERT NUMERIC ONES TO INTEGERS\n",
    "SELECT\n",
    "  column_name,\n",
    "  data_type\n",
    "FROM information_schema.columns\n",
    "WHERE table_name = 'cleaned_amazon_data';\n",
    "\n",
    "-- Need to convert '' to NULL first, SQL can't convert empty strings to INTEGER or whatever\n",
    "-- Clean Price\n",
    "UPDATE cleaned_amazon_data\n",
    "SET \"Price\" = NULL\n",
    "WHERE \"Price\" = '';\n",
    "\n",
    "ALTER TABLE cleaned_amazon_data\n",
    "ALTER COLUMN \"Price\" TYPE INTEGER USING \"Price\"::INTEGER;\n",
    "\n",
    "-- Clean MRP\n",
    "UPDATE cleaned_amazon_data\n",
    "SET \"MRP\" = NULL\n",
    "WHERE \"MRP\" = '';\n",
    "\n",
    "ALTER TABLE cleaned_amazon_data\n",
    "ALTER COLUMN \"MRP\" TYPE INTEGER USING \"MRP\"::INTEGER;\n",
    "\n",
    "-- Clean Review_Count\n",
    "UPDATE cleaned_amazon_data\n",
    "SET \"Review_Count\" = NULL\n",
    "WHERE \"Review_Count\" = '';\n",
    "\n",
    "ALTER TABLE cleaned_amazon_data\n",
    "ALTER COLUMN \"Review_Count\" TYPE INTEGER USING \"Review_Count\"::INTEGER;\n",
    "\n",
    "-- Clean Discount\n",
    "UPDATE cleaned_amazon_data\n",
    "SET \"Discount\" = NULL\n",
    "WHERE \"Discount\" = '';\n",
    "\n",
    "ALTER TABLE cleaned_amazon_data\n",
    "ALTER COLUMN \"Discount\" TYPE INTEGER USING \"Discount\"::INTEGER;\n",
    "\n",
    "-- Clean Rating\n",
    "UPDATE cleaned_amazon_data\n",
    "SET \"Rating\" = NULL\n",
    "WHERE \"Rating\" = '';\n",
    "\n",
    "ALTER TABLE cleaned_amazon_data\n",
    "ALTER COLUMN \"Rating\" TYPE FLOAT USING \"Rating\"::FLOAT;\n"
   ]
  },
  {
   "cell_type": "code",
   "execution_count": null,
   "metadata": {},
   "outputs": [],
   "source": [
    "-- CREATE SAVINGS COLUMN\n",
    "ALTER TABLE cleaned_amazon_data ADD COLUMN \"Savings\" INTEGER;\n",
    "\n",
    "UPDATE cleaned_amazon_data\n",
    "SET \"Savings\" = \"MRP\" - \"Price\"\n",
    "WHERE \"MRP\" IS NOT NULL AND \"Price\" IS NOT NULL;"
   ]
  },
  {
   "cell_type": "code",
   "execution_count": null,
   "metadata": {},
   "outputs": [],
   "source": [
    "-- DROP DELIVERY INFO AND AVAILABILITY\n",
    "ALTER TABLE cleaned_amazon_data DROP COLUMN \"Delivery_Details\";\n",
    "ALTER TABLE cleaned_amazon_data DROP COLUMN \"Availability\";\n"
   ]
  },
  {
   "cell_type": "code",
   "execution_count": null,
   "metadata": {},
   "outputs": [],
   "source": [
    "-- DROP ROWS WITH MISSING PRICE\n",
    "DELETE FROM cleaned_amazon_data\n",
    "WHERE \"Price\" IS NULL OR \"Price\" = '' OR \"Price\" = '₹';\n"
   ]
  },
  {
   "cell_type": "code",
   "execution_count": null,
   "metadata": {},
   "outputs": [],
   "source": [
    "-- CHECK AFTER BASIC CLEANING\n",
    "-- Check remaining data quality\n",
    "SELECT\n",
    "    COUNT(*) as total_rows,\n",
    "    COUNT(\"Price\") as rows_with_price,\n",
    "    COUNT(\"MRP\") as rows_with_mrp,\n",
    "    COUNT(\"Rating\") as rows_with_rating\n",
    "FROM cleaned_amazon_data;"
   ]
  },
  {
   "cell_type": "code",
   "execution_count": null,
   "metadata": {},
   "outputs": [],
   "source": [
    "-- CHECK FOR BROKEN URLs\n",
    "SELECT \"Title\", \"URL\"\n",
    "FROM cleaned_amazon_data\n",
    "WHERE\n",
    "  \"URL\" ILIKE '%javascript%'\n",
    "  OR \"URL\" ILIKE '%void%'\n",
    "  OR \"URL\" ILIKE '%0)%';\n",
    "\n",
    "-- FIX BROKEN URLs BY RECONSTRUCTING THEM WITH ASIN\n",
    "UPDATE cleaned_amazon_data\n",
    "SET \"URL\" = 'https://www.amazon.in/dp/' || \"ASIN\"\n",
    "WHERE \"URL\" ILIKE '%javascript:void(0)%';"
   ]
  }
 ],
 "metadata": {
  "kernelspec": {
   "display_name": "base",
   "language": "python",
   "name": "python3"
  },
  "language_info": {
   "name": "python",
   "version": "3.11.7"
  }
 },
 "nbformat": 4,
 "nbformat_minor": 2
}
