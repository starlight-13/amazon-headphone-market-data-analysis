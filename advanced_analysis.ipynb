{
 "cells": [
  {
   "cell_type": "markdown",
   "metadata": {},
   "source": [
    "Required imports first!"
   ]
  },
  {
   "cell_type": "code",
   "execution_count": null,
   "metadata": {},
   "outputs": [],
   "source": [
    "# For data manipulation and analysis\n",
    "import pandas as pd\n",
    "import numpy as np\n",
    "# For data visualization\n",
    "import matplotlib.pyplot as plt\n",
    "import seaborn as sns\n",
    "import plotly.express as px\n",
    "import plotly.graph_objects as go\n",
    "from plotly.subplots import make_subplots\n",
    "# For statistical analysis, and ML\n",
    "from scipy import stats\n",
    "from scipy.stats import pearsonr, spearmanr\n",
    "from sklearn.preprocessing import StandardScaler\n",
    "from sklearn.cluster import KMeans\n",
    "from sklearn.linear_model import LinearRegression\n",
    "from sklearn.metrics import r2_score\n",
    "from sklearn.model_selection import train_test_split\n",
    "from sklearn.ensemble import RandomForestRegressor\n",
    "from sklearn.metrics import r2_score, mean_squared_error\n",
    "from sklearn.preprocessing import OneHotEncoder\n",
    "from sklearn.compose import ColumnTransformer\n",
    "\n",
    "\n",
    "# Configuration\n",
    "plt.style.use('seaborn-v0_8')\n",
    "sns.set_palette('husl')\n",
    "pd.set_option('display.max_columns', None)"
   ]
  },
  {
   "cell_type": "markdown",
   "metadata": {},
   "source": [
    "Loading the data I cleaned using SQL and exploring it"
   ]
  },
  {
   "cell_type": "code",
   "execution_count": 10,
   "metadata": {},
   "outputs": [
    {
     "name": "stdout",
     "output_type": "stream",
     "text": [
      "Dataset Shape : (723, 11)\n",
      "Dataset Columns : ['Title', 'Brand', 'Price', 'MRP', 'Discount', 'Rating', 'Review_Count', 'Prime', 'ASIN', 'URL', 'Savings']\n",
      "<class 'pandas.core.frame.DataFrame'>\n",
      "RangeIndex: 723 entries, 0 to 722\n",
      "Data columns (total 11 columns):\n",
      " #   Column        Non-Null Count  Dtype  \n",
      "---  ------        --------------  -----  \n",
      " 0   Title         723 non-null    object \n",
      " 1   Brand         723 non-null    object \n",
      " 2   Price         723 non-null    int64  \n",
      " 3   MRP           716 non-null    float64\n",
      " 4   Discount      716 non-null    float64\n",
      " 5   Rating        723 non-null    float64\n",
      " 6   Review_Count  723 non-null    int64  \n",
      " 7   Prime         723 non-null    bool   \n",
      " 8   ASIN          723 non-null    object \n",
      " 9   URL           723 non-null    object \n",
      " 10  Savings       716 non-null    float64\n",
      "dtypes: bool(1), float64(4), int64(2), object(4)\n",
      "memory usage: 57.3+ KB\n",
      "Dataset Info : None\n"
     ]
    }
   ],
   "source": [
    "df = pd.read_csv('cleaned_amazon_data_copy.csv')\n",
    "# Basic exploration\n",
    "print(f\"Dataset Shape : {df.shape}\")\n",
    "print(f\"Dataset Columns : {df.columns.tolist()}\")\n",
    "print(f\"Dataset Info : {df.info()}\")"
   ]
  },
  {
   "cell_type": "code",
   "execution_count": 11,
   "metadata": {},
   "outputs": [
    {
     "data": {
      "text/html": [
       "<div>\n",
       "<style scoped>\n",
       "    .dataframe tbody tr th:only-of-type {\n",
       "        vertical-align: middle;\n",
       "    }\n",
       "\n",
       "    .dataframe tbody tr th {\n",
       "        vertical-align: top;\n",
       "    }\n",
       "\n",
       "    .dataframe thead th {\n",
       "        text-align: right;\n",
       "    }\n",
       "</style>\n",
       "<table border=\"1\" class=\"dataframe\">\n",
       "  <thead>\n",
       "    <tr style=\"text-align: right;\">\n",
       "      <th></th>\n",
       "      <th>Title</th>\n",
       "      <th>Brand</th>\n",
       "      <th>Price</th>\n",
       "      <th>MRP</th>\n",
       "      <th>Discount</th>\n",
       "      <th>Rating</th>\n",
       "      <th>Review_Count</th>\n",
       "      <th>Prime</th>\n",
       "      <th>ASIN</th>\n",
       "      <th>URL</th>\n",
       "      <th>Savings</th>\n",
       "    </tr>\n",
       "  </thead>\n",
       "  <tbody>\n",
       "    <tr>\n",
       "      <th>0</th>\n",
       "      <td>Noise Newly Launched Airwave Max 5 Wireless Ov...</td>\n",
       "      <td>Noise</td>\n",
       "      <td>4999</td>\n",
       "      <td>5999.0</td>\n",
       "      <td>17.0</td>\n",
       "      <td>4.1</td>\n",
       "      <td>131</td>\n",
       "      <td>True</td>\n",
       "      <td>B0DGV6TB8D</td>\n",
       "      <td>https://www.amazon.in/dp/B0DGV6TB8D</td>\n",
       "      <td>1000.0</td>\n",
       "    </tr>\n",
       "    <tr>\n",
       "      <th>1</th>\n",
       "      <td>Boult Audio Z20 Pro Truly Wireless Bluetooth E...</td>\n",
       "      <td>Boult</td>\n",
       "      <td>1099</td>\n",
       "      <td>5999.0</td>\n",
       "      <td>82.0</td>\n",
       "      <td>4.0</td>\n",
       "      <td>4321</td>\n",
       "      <td>True</td>\n",
       "      <td>B0D22QWQHR</td>\n",
       "      <td>https://www.amazon.in/dp/B0D22QWQHR</td>\n",
       "      <td>4900.0</td>\n",
       "    </tr>\n",
       "    <tr>\n",
       "      <th>2</th>\n",
       "      <td>Sony MDR-EX255AP Wired in-Ear Headphones with ...</td>\n",
       "      <td>Sony</td>\n",
       "      <td>1990</td>\n",
       "      <td>NaN</td>\n",
       "      <td>NaN</td>\n",
       "      <td>4.1</td>\n",
       "      <td>2849</td>\n",
       "      <td>True</td>\n",
       "      <td>B073JQQK1Q</td>\n",
       "      <td>https://www.amazon.in/Sony-MDR-EX255AP-Ear-Hea...</td>\n",
       "      <td>NaN</td>\n",
       "    </tr>\n",
       "    <tr>\n",
       "      <th>3</th>\n",
       "      <td>Sony WI-XB400 Wireless Extra Bass in Ear Headp...</td>\n",
       "      <td>Sony</td>\n",
       "      <td>4990</td>\n",
       "      <td>NaN</td>\n",
       "      <td>NaN</td>\n",
       "      <td>4.0</td>\n",
       "      <td>51527</td>\n",
       "      <td>True</td>\n",
       "      <td>B07WTX73MB</td>\n",
       "      <td>https://www.amazon.in/Sony-WI-XB400-Wireless-B...</td>\n",
       "      <td>NaN</td>\n",
       "    </tr>\n",
       "    <tr>\n",
       "      <th>4</th>\n",
       "      <td>Bose New QuietComfort Ultra Wireless Noise Can...</td>\n",
       "      <td>Bose</td>\n",
       "      <td>25900</td>\n",
       "      <td>NaN</td>\n",
       "      <td>NaN</td>\n",
       "      <td>3.6</td>\n",
       "      <td>7324</td>\n",
       "      <td>True</td>\n",
       "      <td>B0CD2FSRDD</td>\n",
       "      <td>https://www.amazon.in/Bose-QuietComfort-Cancel...</td>\n",
       "      <td>NaN</td>\n",
       "    </tr>\n",
       "  </tbody>\n",
       "</table>\n",
       "</div>"
      ],
      "text/plain": [
       "                                               Title  Brand  Price     MRP  \\\n",
       "0  Noise Newly Launched Airwave Max 5 Wireless Ov...  Noise   4999  5999.0   \n",
       "1  Boult Audio Z20 Pro Truly Wireless Bluetooth E...  Boult   1099  5999.0   \n",
       "2  Sony MDR-EX255AP Wired in-Ear Headphones with ...   Sony   1990     NaN   \n",
       "3  Sony WI-XB400 Wireless Extra Bass in Ear Headp...   Sony   4990     NaN   \n",
       "4  Bose New QuietComfort Ultra Wireless Noise Can...   Bose  25900     NaN   \n",
       "\n",
       "   Discount  Rating  Review_Count  Prime        ASIN  \\\n",
       "0      17.0     4.1           131   True  B0DGV6TB8D   \n",
       "1      82.0     4.0          4321   True  B0D22QWQHR   \n",
       "2       NaN     4.1          2849   True  B073JQQK1Q   \n",
       "3       NaN     4.0         51527   True  B07WTX73MB   \n",
       "4       NaN     3.6          7324   True  B0CD2FSRDD   \n",
       "\n",
       "                                                 URL  Savings  \n",
       "0                https://www.amazon.in/dp/B0DGV6TB8D   1000.0  \n",
       "1                https://www.amazon.in/dp/B0D22QWQHR   4900.0  \n",
       "2  https://www.amazon.in/Sony-MDR-EX255AP-Ear-Hea...      NaN  \n",
       "3  https://www.amazon.in/Sony-WI-XB400-Wireless-B...      NaN  \n",
       "4  https://www.amazon.in/Bose-QuietComfort-Cancel...      NaN  "
      ]
     },
     "execution_count": 11,
     "metadata": {},
     "output_type": "execute_result"
    }
   ],
   "source": [
    "df.head()"
   ]
  },
  {
   "cell_type": "markdown",
   "metadata": {},
   "source": [
    "Data Preprocessing and Advanced Analysis"
   ]
  },
  {
   "cell_type": "code",
   "execution_count": 40,
   "metadata": {},
   "outputs": [],
   "source": [
    "# Create additional columns helpful for analysis\n",
    "\n",
    "df['Price_Range'] = pd.cut(df['Price'], \n",
    "                           bins=[0, 500, 1500, 5000, float('inf')], \n",
    "                           labels=['Budget', 'Mid-range', 'Premium', 'Luxury'])\n",
    "\n",
    "df['Rating_Category'] = pd.cut(df['Rating'], \n",
    "                            bins=[0, 3.5, 4.0, 4.2, 5.0], \n",
    "                            labels=['Poor', 'Average', 'Good', 'Excellent'])\n",
    "\n",
    "# Value Score = Rating per INR 1000 spent\n",
    "df['Value_Score'] = (df['Rating'] / (df['Price'] / 1000)).round(3)\n",
    "\n",
    "# Fill missing MRP with Price. Calculate missing Discount and Savings accordingly\n",
    "df['MRP'] = df['MRP'].fillna(df['Price'])\n",
    "df['Discount'] = df['Discount'].fillna(0)\n",
    "df['Savings'] = df['Savings'].fillna(0)\n"
   ]
  },
  {
   "cell_type": "code",
   "execution_count": 17,
   "metadata": {},
   "outputs": [
    {
     "data": {
      "text/html": [
       "<div>\n",
       "<style scoped>\n",
       "    .dataframe tbody tr th:only-of-type {\n",
       "        vertical-align: middle;\n",
       "    }\n",
       "\n",
       "    .dataframe tbody tr th {\n",
       "        vertical-align: top;\n",
       "    }\n",
       "\n",
       "    .dataframe thead th {\n",
       "        text-align: right;\n",
       "    }\n",
       "</style>\n",
       "<table border=\"1\" class=\"dataframe\">\n",
       "  <thead>\n",
       "    <tr style=\"text-align: right;\">\n",
       "      <th></th>\n",
       "      <th>Title</th>\n",
       "      <th>Brand</th>\n",
       "      <th>Price</th>\n",
       "      <th>MRP</th>\n",
       "      <th>Discount</th>\n",
       "      <th>Rating</th>\n",
       "      <th>Review_Count</th>\n",
       "      <th>Prime</th>\n",
       "      <th>ASIN</th>\n",
       "      <th>URL</th>\n",
       "      <th>Savings</th>\n",
       "      <th>Price_Range</th>\n",
       "      <th>Rating_Category</th>\n",
       "      <th>Value_Score</th>\n",
       "    </tr>\n",
       "  </thead>\n",
       "  <tbody>\n",
       "    <tr>\n",
       "      <th>0</th>\n",
       "      <td>Noise Newly Launched Airwave Max 5 Wireless Ov...</td>\n",
       "      <td>Noise</td>\n",
       "      <td>4999</td>\n",
       "      <td>5999.0</td>\n",
       "      <td>17.0</td>\n",
       "      <td>4.1</td>\n",
       "      <td>131</td>\n",
       "      <td>True</td>\n",
       "      <td>B0DGV6TB8D</td>\n",
       "      <td>https://www.amazon.in/dp/B0DGV6TB8D</td>\n",
       "      <td>1000.0</td>\n",
       "      <td>Premium</td>\n",
       "      <td>Good</td>\n",
       "      <td>0.820</td>\n",
       "    </tr>\n",
       "    <tr>\n",
       "      <th>1</th>\n",
       "      <td>Boult Audio Z20 Pro Truly Wireless Bluetooth E...</td>\n",
       "      <td>Boult</td>\n",
       "      <td>1099</td>\n",
       "      <td>5999.0</td>\n",
       "      <td>82.0</td>\n",
       "      <td>4.0</td>\n",
       "      <td>4321</td>\n",
       "      <td>True</td>\n",
       "      <td>B0D22QWQHR</td>\n",
       "      <td>https://www.amazon.in/dp/B0D22QWQHR</td>\n",
       "      <td>4900.0</td>\n",
       "      <td>Mid-range</td>\n",
       "      <td>Average</td>\n",
       "      <td>3.640</td>\n",
       "    </tr>\n",
       "    <tr>\n",
       "      <th>2</th>\n",
       "      <td>Sony MDR-EX255AP Wired in-Ear Headphones with ...</td>\n",
       "      <td>Sony</td>\n",
       "      <td>1990</td>\n",
       "      <td>1990.0</td>\n",
       "      <td>0.0</td>\n",
       "      <td>4.1</td>\n",
       "      <td>2849</td>\n",
       "      <td>True</td>\n",
       "      <td>B073JQQK1Q</td>\n",
       "      <td>https://www.amazon.in/Sony-MDR-EX255AP-Ear-Hea...</td>\n",
       "      <td>0.0</td>\n",
       "      <td>Premium</td>\n",
       "      <td>Good</td>\n",
       "      <td>2.060</td>\n",
       "    </tr>\n",
       "    <tr>\n",
       "      <th>3</th>\n",
       "      <td>Sony WI-XB400 Wireless Extra Bass in Ear Headp...</td>\n",
       "      <td>Sony</td>\n",
       "      <td>4990</td>\n",
       "      <td>4990.0</td>\n",
       "      <td>0.0</td>\n",
       "      <td>4.0</td>\n",
       "      <td>51527</td>\n",
       "      <td>True</td>\n",
       "      <td>B07WTX73MB</td>\n",
       "      <td>https://www.amazon.in/Sony-WI-XB400-Wireless-B...</td>\n",
       "      <td>0.0</td>\n",
       "      <td>Premium</td>\n",
       "      <td>Average</td>\n",
       "      <td>0.802</td>\n",
       "    </tr>\n",
       "    <tr>\n",
       "      <th>4</th>\n",
       "      <td>Bose New QuietComfort Ultra Wireless Noise Can...</td>\n",
       "      <td>Bose</td>\n",
       "      <td>25900</td>\n",
       "      <td>25900.0</td>\n",
       "      <td>0.0</td>\n",
       "      <td>3.6</td>\n",
       "      <td>7324</td>\n",
       "      <td>True</td>\n",
       "      <td>B0CD2FSRDD</td>\n",
       "      <td>https://www.amazon.in/Bose-QuietComfort-Cancel...</td>\n",
       "      <td>0.0</td>\n",
       "      <td>Luxury</td>\n",
       "      <td>Average</td>\n",
       "      <td>0.139</td>\n",
       "    </tr>\n",
       "  </tbody>\n",
       "</table>\n",
       "</div>"
      ],
      "text/plain": [
       "                                               Title  Brand  Price      MRP  \\\n",
       "0  Noise Newly Launched Airwave Max 5 Wireless Ov...  Noise   4999   5999.0   \n",
       "1  Boult Audio Z20 Pro Truly Wireless Bluetooth E...  Boult   1099   5999.0   \n",
       "2  Sony MDR-EX255AP Wired in-Ear Headphones with ...   Sony   1990   1990.0   \n",
       "3  Sony WI-XB400 Wireless Extra Bass in Ear Headp...   Sony   4990   4990.0   \n",
       "4  Bose New QuietComfort Ultra Wireless Noise Can...   Bose  25900  25900.0   \n",
       "\n",
       "   Discount  Rating  Review_Count  Prime        ASIN  \\\n",
       "0      17.0     4.1           131   True  B0DGV6TB8D   \n",
       "1      82.0     4.0          4321   True  B0D22QWQHR   \n",
       "2       0.0     4.1          2849   True  B073JQQK1Q   \n",
       "3       0.0     4.0         51527   True  B07WTX73MB   \n",
       "4       0.0     3.6          7324   True  B0CD2FSRDD   \n",
       "\n",
       "                                                 URL  Savings Price_Range  \\\n",
       "0                https://www.amazon.in/dp/B0DGV6TB8D   1000.0     Premium   \n",
       "1                https://www.amazon.in/dp/B0D22QWQHR   4900.0   Mid-range   \n",
       "2  https://www.amazon.in/Sony-MDR-EX255AP-Ear-Hea...      0.0     Premium   \n",
       "3  https://www.amazon.in/Sony-WI-XB400-Wireless-B...      0.0     Premium   \n",
       "4  https://www.amazon.in/Bose-QuietComfort-Cancel...      0.0      Luxury   \n",
       "\n",
       "  Rating_Category  Value_Score  \n",
       "0            Good        0.820  \n",
       "1         Average        3.640  \n",
       "2            Good        2.060  \n",
       "3         Average        0.802  \n",
       "4         Average        0.139  "
      ]
     },
     "execution_count": 17,
     "metadata": {},
     "output_type": "execute_result"
    }
   ],
   "source": [
    "df.head()"
   ]
  },
  {
   "cell_type": "code",
   "execution_count": 19,
   "metadata": {},
   "outputs": [
    {
     "data": {
      "image/png": "[encoded data removed]",
      "text/plain": [
       "<Figure size 1000x800 with 2 Axes>"
      ]
     },
     "metadata": {},
     "output_type": "display_data"
    },
    {
     "name": "stdout",
     "output_type": "stream",
     "text": [
      "Price-Rating Correlation : 0.225, p-value : 0.000\n",
      "Price-Reviews Correlation : -0.074, p-value : 0.048\n"
     ]
    }
   ],
   "source": [
    "# Advanced Statistical Analysis\n",
    "\n",
    "# Correlation analysis\n",
    "numeric_cols = ['Price', 'Rating', 'Review_Count', 'Value_Score']\n",
    "correlation_matrix = df[numeric_cols].corr()\n",
    "\n",
    "# Correlation heatmap\n",
    "plt.figure(figsize = (10, 8))\n",
    "sns.heatmap(correlation_matrix, annot=True, cmap='coolwarm', center=0, \n",
    "            square=True, linewidths=0.5)\n",
    "plt.title('Correlation Matrix - Key Metrics', fontsize=16, fontweight='bold')\n",
    "plt.tight_layout()\n",
    "plt.show()\n",
    "\n",
    "# Statistical significance tests\n",
    "price_rating_corr, price_rating_p_val = pearsonr(df['Price'].dropna(), df['Rating'].dropna())\n",
    "print(f\"Price-Rating Correlation : {price_rating_corr:.3f}, p-value : {price_rating_p_val:.3f}\")\n",
    "\n",
    "price_reviews_corr, price_reviews_p_val = pearsonr(df['Price'].dropna(), df['Review_Count'].dropna())\n",
    "print(f\"Price-Reviews Correlation : {price_reviews_corr:.3f}, p-value : {price_reviews_p_val:.3f}\")"
   ]
  },
  {
   "cell_type": "markdown",
   "metadata": {},
   "source": [
    "Advanced Visualizations"
   ]
  },
  {
   "cell_type": "code",
   "execution_count": 21,
   "metadata": {},
   "outputs": [
    {
     "data": {
      "application/vnd.plotly.v1+json": {
       "config": {
        "plotlyServerURL": "https://plot.ly"
       },
       "data": [
        {
         "customdata": [
          [
           "Noise Newly Launched Airwave Max 5 Wireless Over-Ear Headphones with Adaptive Hybrid ANC (up to 50dB), HFA Tech, 80H Playtime, Dual Pairing(Calm Beige)",
           0.82
          ],
          [
           "Noise Master Buds, Sound by Bose in-Ear Bluetooth Earbuds, Up to 49dB Adaptive ANC, LHDC 5.0, Immersive Spatial Audio, 44H Playtime with 6 mic ENC, Dual Pairing, IPX5 Ear Buds TWS (Titanium)",
           0.488
          ],
          [
           "Noise Master Buds, Sound by Bose in-Ear Bluetooth Earbuds, Up to 49dB Adaptive ANC, LHDC 5.0, Immersive Spatial Audio, 44H Playtime with 6 mic ENC, Dual Pairing, IPX5 Ear Buds TWS (Onyx)",
           0.488
          ],
          [
           "Noise Master Buds, Sound by Bose in-Ear Bluetooth Earbuds, Up to 49dB Adaptive ANC, LHDC 5.0, Immersive Spatial Audio, 44H Playtime with 6 mic ENC, Dual Pairing, IPX5 Ear Buds TWS (Silver)",
           0.488
          ],
          [
           "Noise Buds VS104 Truly Wireless Earbuds with 45H of Playtime, Quad Mic with ENC, Instacharge(10 min=200 min), 13mm Driver,Low Latency, BT v5.2 (Midnight Blue)",
           3.458
          ],
          [
           "Noise Buds VS104 Truly Wireless Earbuds with 45H of Playtime, Quad Mic with ENC, Instacharge(10 min=200 min), 13mm Driver,Low Latency, BT v5.2 (Mint Green)",
           3.458
          ],
          [
           "Noise Buds VS104 Truly Wireless Earbuds with 45H of Playtime, Quad Mic with ENC, Instacharge(10 min=200 min), 13mm Driver,Low Latency, BT v5.2 (Charcoal Black)",
           3.458
          ],
          [
           "Noise Buds VS104 Truly Wireless Earbuds with 45H of Playtime, Quad Mic with ENC, Instacharge(10 min=200 min), 13mm Driver,Low Latency, BT v5.2 (Snow White)",
           3.657
          ],
          [
           "Noise Two Wireless On-Ear Headphones with 50 Hours Playtime, Low Latency(up to 40ms), 4 Play Modes, Dual Pairing, BT v5.3 (Calm White)",
           2.335
          ],
          [
           "Noise Two Wireless On-Ear Headphones with 50 Hours Playtime, Low Latency(up to 40ms), 4 Play Modes, Dual Pairing, BT v5.3 (Bold Black)",
           2.335
          ],
          [
           "Noise Two Wireless On-Ear Headphones with 50 Hours Playtime, Low Latency(up to 40ms), 4 Play Modes, Dual Pairing, BT v5.3 (Serene Blue)",
           2.335
          ],
          [
           "Noise Buds VS402 in-Ear Truly Wireless Earbuds with 50H of Playtime, Low Latency, Quad Mic with ENC, Instacharge(10 min=120 min),10mm Driver, BT v5.3, Breathing LED Lights (Neon Black)",
           2.716
          ],
          [
           "Noise Buds VS402 in-Ear Truly Wireless Earbuds with 50H of Playtime, Low Latency, Quad Mic with ENC, Instacharge(10 min=120 min),10mm Driver, BT v5.3, Breathing LED Lights (Neon White)",
           2.716
          ],
          [
           "Noise Buds Connect Truly Wireless in Ear Earbuds with 50H Playtime, Quad Mic with ENC, Instacharge(10 min=120 min), 13mm Driver, Hyper Sync, and BT v5.2 (Mint Green)",
           3.367
          ],
          [
           "Noise Buds VS201 V3 in-Ear Truly Wireless Earbuds with 60H of Playtime, Dual Equalizer, Full Touch Control, Mic, BTv5.1 (Matte Black)",
           3.704
          ],
          [
           "Noise Aura Buds in Ear Truly Wireless Earbuds with 60H of Playtime, Quad Mic with ENC, Dual Device Pairing, Instacharge(10 Min=150 Min),12Mm Polymer Composite Driver,BT V5.3(Aura White)",
           3.079
          ],
          [
           "Noise Aura Buds in Ear Truly Wireless Earbuds with 60H of Playtime, Quad Mic with ENC, Dual Device Pairing, Instacharge(10 Min=150 Min),12Mm Polymer Composite Driver, BT V5.3(Aura Blue)",
           3.079
          ],
          [
           "Noise Buds X Prime in Ear Truly Wireless Earbuds with 120H of Playtime, Quad Mic with ENC, Instacharge(10 Min=200 Min),Premium Dual Tone Finish, 11Mm Driver, BT V5.3(Silver Grey)",
           2.376
          ],
          [
           "Noise Buds X Prime in-Ear True Wireless Earbuds with 120H of Playtime, Quad Mic with ENC, Instacharge(10 Min=200 Min),Premium Dual Tone Finish, 11Mm Driver, BT V5.3(Sheen Green)",
           2.376
          ],
          [
           "Noise Aura Buds in-Ear Truly Wireless in Ear Earbuds with 60H of Playtime, Quad Mic with ENC, Dual Device Pairing, Instacharge(10 min=150 min),12mm Polymer Composite Driver,BT v5.3(Aura Black)",
           3.079
          ],
          [
           "Noise Buds X Prime in-Ear True Wireless Earbuds with 120H of Playtime, Quad Mic with ENC, Instacharge(10 Min=200 Min),Premium Dual Tone Finish, 11Mm Driver, BT V5.3(Champagne White)",
           2.376
          ],
          [
           "Noise Pure Pods Wireless Open Ear Earbuds with AirWave™ Technology,Up-to 80H Playtime,Quad Mic with ENC,16mm Neodymium Dynamic Driver,Detachable Pure Band,BTv5.3 (Power Black)",
           1.234
          ],
          [
           "Noise Airwave Bluetooth in Ear Neckband with 50H of Playtime, 3 EQ Modes, ENC for Calling, Low Latency(Upto 50ms), 10mm Driver, BT v5.3(Midnight Blue)",
           3.804
          ],
          [
           "Noise Airwave Bluetooth in Ear Neckband with 50H of Playtime, 3 EQ Modes, ENC for Calling, Low Latency(Upto 50ms), 10mm Driver, BT v5.3(Jet Black)",
           3.804
          ],
          [
           "Noise Airwave Bluetooth in Ear Neckband with 50H of Playtime, 3 EQ Modes, ENC for Calling, Low Latency(Upto 50ms), 10mm Driver, BT v5.3(Ice Blue)",
           3.804
          ],
          [
           "Noise Airwave Bluetooth in Ear Neckband with 50H of Playtime, 3 EQ Modes, ENC for Calling, Low Latency(Upto 50ms), 10mm Driver, BT v5.3(Olive Green)",
           3.804
          ],
          [
           "Noise Buds N1 in-Ear True Wireless Earbuds with Chrome Finish, 40H of Playtime, Quad Mic with ENC, Ultra Low Latency(Up to 40 Ms), Instacharge(10 Min=120 Min), BT V5.3(Carbon Black)",
           4.004
          ],
          [
           "Noise Buds N1 in Ear True Wireless Earbuds with Chrome Finish, 40H of Playtime, Quad Mic with Enc, Ultra Low Latency(Up to 40 Ms), Instacharge(10 Min=120 Min), BT V5.3(Forest Green)",
           4.004
          ],
          [
           "Noise Buds N1 in Ear True Wireless Earbuds with Chrome Finish, 40H of Playtime, Quad Mic with Enc, Ultra Low Latency(Up to 40 Ms), Instacharge(10 Min=120 Min), BT V5.3(Calm Beige)",
           4.004
          ],
          [
           "Noise Buds N1 in-Ear True Wireless Earbuds with Chrome Finish, 40H of Playtime, Quad Mic with ENC, Ultra Low Latency (Up to 40 Ms), Instacharge (10 Min=120 Min), BT V5.3 (Ice Blue)",
           4.004
          ],
          [
           "Noise Airwave Max 4 Wireless Over-Ear Headphones with 70H Playtime, ENC, 40mm Driver, Low Latency(up to 40ms), Dual Pairing, BT v5.4 (Calm Beige)",
           1.521
          ],
          [
           "Noise Airwave Max 3 Bluetooth On-Ear Headphones with 70H Playtime, 40mm Driver, Low Latency(up to 45ms),Dual Pairing, BT v5.3 (Midnight Blue)",
           2.295
          ],
          [
           "Noise Airwave Max 4 Wireless Over-Ear Headphones with 70H Playtime, ENC, 40mm Driver, Low Latency(up to 40ms), Dual Pairing, BT v5.4 (Carbon Black)",
           1.521
          ],
          [
           "Noise Airwave Max 3 Bluetooth On-Ear Headphones with 70H Playtime, 40mm Driver, Low Latency(up to 45ms),Dual Pairing, BT v5.3 (Carbon Black)",
           2.295
          ],
          [
           "Noise Newly Launched Buds Verve 2 in Ear Truly Wireless Earbuds with Chrome Finish, 50H of Playtime, Quad Mic with Enc, 13Mm Driver, Instacharge(10 Min=200 Min), BT V5.3(Carbon Black)",
           2.668
          ],
          [
           "Noise Newly Launched Buds Verve 2 in-Ear True Wireless Earbuds with Chrome Finish, 50H of Playtime, Quad Mic with ENC, 13Mm Driver, Instacharge(10 Min=200 Min), BT V5.3(Stone Beige)",
           2.668
          ],
          [
           "Noise Airwave Pro Bluetooth in Ear Neckband with Upto 32 dB ANC, 60H of Playtime, Dual Device Pairing, 3 Mic ENC for Calling, Low Latency(Upto 40ms), 13mm Driver (Metallic Green)",
           2.535
          ],
          [
           "Noise Airwave Pro Bluetooth in Ear Neckband with Upto 32 dB ANC, 60H of Playtime, Dual Device Pairing, 3 Mic ENC for Calling, Low Latency(Upto 40ms), 13mm Driver (Matte Black)",
           2.468
          ],
          [
           "Noise Newly Launched Buds Trooper in-Ear True Wireless Earbuds with 45H of Playtime, Quad Mic with ENC, 13Mm Driver, Ultra Low Latency(Up to 40 Ms), Instacharge(10 Min=150 Min), BT V5.3(Knight Black)",
           3.804
          ],
          [
           "Noise Airwave Pro Bluetooth in Ear Neckband with Upto 32 dB ANC, 60H of Playtime, Dual Device Pairing, 3 Mic ENC for Calling, Low Latency(Upto 40ms), 13mm Driver (Metallic Beige)",
           2.668
          ],
          [
           "Noise Airwave Pro Bluetooth in Ear Neckband with Upto 32 dB ANC, 60H of Playtime, Dual Device Pairing, 3 Mic ENC for Calling, Low Latency(Upto 40ms), 13mm Driver (Metallic Blue)",
           2.402
          ],
          [
           "Noise Newly Launched Buds Trance 2 in-Ear Truly Wireless Earbuds with 45H of Playtime, Quad Mic with ENC, Low Latency(up to 40 ms), Instacharge(10 min=120 min), BT v5.3(Slate Black)",
           2.419
          ],
          [
           "Noise Buds N1 Pro in-Ear True Wireless Earbuds with Metallic Finish, ANC(Upto 30Db), 60H of Playtime, Dual Pairing, Instacharge(10 Min=200 Min), BT V5.3(Chrome Green)",
           2.168
          ],
          [
           "Noise Buds N1 Pro in-Ear Truly Wireless Earbuds with Metallic Finish, ANC(Upto 30dB), 60H of Playtime, Dual Pairing, Instacharge(10 min=200 min), BT v5.3(Chrome Black)",
           2.168
          ],
          [
           "Noise Buds N1 Pro in-Ear Truly Wireless Earbuds with Metallic Finish, ANC(Upto 30dB), 60H of Playtime, Dual Pairing, Instacharge(10 min=200 min), BT v5.3(Chrome Beige)",
           2.168
          ],
          [
           "Noise Buds N1 Pro in Ear Truly Wireless Earbuds with Metallic Finish, ANC(Upto 30Db), 60H of Playtime, Dual Pairing, Instacharge(10 Min=200 Min), BT V5.3(Chrome Purple)",
           2.168
          ],
          [
           "Noise Airwave Max 4 Wireless Over-Ear Headphones with 70H Playtime, ENC, 40mm Driver, Low Latency(up to 40ms), Dual Pairing, BT v5.4 (Tropical Teal)",
           1.521
          ],
          [
           "Noise Newly Launched Airwave Max 5 Wireless Over-Ear Headphones with Adaptive Hybrid ANC (up to 50dB), HFA Tech, 80H Playtime, Dual Pairing(Carbon Black)",
           0.82
          ],
          [
           "Noise Newly Launched Air Buds 6 in-Ear Bluetooth TWS - AI Enabled Smartbuds, ANC (up to 32db), Personalised App, in-Ear Detection, Voice Control, Google Fast Pair, BT v5.3(Pebble Grey)",
           1.601
          ],
          [
           "Noise Newly Launched Air Clips Wireless Open Ear Earbuds with Chrome Finish, AirWave™ Technology,Up-to 40H Playtime, Dual Device Pairing, Quad Mic with ENC,12mm Driver,BTv5.4 (Pearl Black)",
           0.8
          ],
          [
           "Noise Newly Launched Air Clips Wireless Open Ear Earbuds with Chrome Finish, AirWave™ Technology,Up-to 40H Playtime, Dual Device Pairing, Quad Mic with ENC,12mm Driver,BTv5.4 (Pearl White)",
           0.867
          ],
          [
           "Noise Newly Launched Air Clips Wireless Open Ear Earbuds with Chrome Finish, AirWave™ Technology,Up-to 40H Playtime, Dual Device Pairing, Quad Mic with ENC,12mm Driver,BTv5.4 (Pearl Purple)",
           0.967
          ],
          [
           "Noise Newly Launched Air Buds 6 in-Ear Bluetooth TWS - AI Enabled Smartbuds, ANC (up to 32db), Personalised App, in-Ear Detection, Voice Control, Google Fast Pair, BT v5.3(Sage Blue)",
           1.601
          ],
          [
           "Noise Newly Launched Air Buds Pro 6 in-Ear Truly Wireless Earbuds with Hybrid ANC (up to 49dB), LHDC with 12.4mm Titanium Driver, 50H of Playtime, Google Fast Pair, BT v5.3(Nimbus Grey)",
           1.334
          ],
          [
           "Noise Newly Launched Air Buds Pro 6 in-Ear Truly Wireless Earbuds with Hybrid ANC (up to 49dB), LHDC with 12.4mm Titanium Driver, 50H of Playtime, Google Fast Pair, BT v5.3(Slate Black)",
           1.334
          ],
          [
           "Noise Newly Launched Buds VS601 in-Ear Truly Wireless Earbuds with 50H of Playtime, Transparent case lid, Quad mic ENC, Dual Device Pairing, 10mm Driver, BT v5.3 (Emerald Green)",
           2.716
          ],
          [
           "Noise Newly Launched Buds VS601 in-Ear Truly Wireless Earbuds with 50H of Playtime, Transparent case lid, Quad mic ENC, Dual Device Pairing, 10mm Driver, BT v5.3 (Copper Brown)",
           2.716
          ],
          [
           "Noise Newly Launched Buds VS601 in-Ear Truly Wireless Earbuds with 50H of Playtime, Transparent case lid, Quad mic ENC, Dual Device Pairing, 10mm Driver, BT v5.3 (Graphite Black)",
           2.716
          ],
          [
           "Noise Newly Launched Buds VS601 in-Ear Truly Wireless Earbuds with 50H of Playtime, Transparent case lid, Quad mic ENC, Dual Device Pairing, 10mm Driver, BT v5.3 (Silver Grey)",
           2.716
          ],
          [
           "Noise Newly Launched Buds VS601 in-Ear Truly Wireless Earbuds with 50H of Playtime, Transparent case lid, Quad mic ENC, Dual Device Pairing, 10mm Driver, BT v5.3 (Cobalt Blue)",
           2.716
          ]
         ],
         "hovertemplate": "Brand=Noise<br>Price (₹)=%{x}<br>Customer Rating=%{y}<br>Review_Count=%{marker.size}<br>Title=%{customdata[0]}<br>Value_Score=%{customdata[1]}<extra></extra>",
         "legendgroup": "Noise",
         "marker": {
          "color": "#636efa",
          "size": [
           131,
           636,
           636,
           636,
           26465,
           26465,
           26465,
           26465,
           3303,
           3303,
           3303,
           12185,
           12185,
           5071,
           22894,
           2841,
           2841,
           4189,
           4189,
           2841,
           4189,
           1337,
           18072,
           18072,
           18072,
           18072,
           9463,
           9463,
           9463,
           9463,
           1770,
           1932,
           1770,
           1932,
           456,
           456,
           84,
           227,
           4189,
           51,
           99,
           409,
           4877,
           4877,
           4877,
           4877,
           1770,
           131,
           2841,
           116,
           60,
           66,
           2841,
           2841,
           2841,
           394,
           394,
           394,
           394,
           394
          ],
          "sizemode": "area",
          "sizeref": 1047.575,
          "symbol": "circle"
         },
         "mode": "markers",
         "name": "Noise",
         "orientation": "v",
         "showlegend": true,
         "type": "scatter",
         "x": [
          4999,
          7999,
          7999,
          7999,
          1099,
          1099,
          1099,
          1039,
          1499,
          1499,
          1499,
          1399,
          1399,
          1099,
          999,
          1299,
          1299,
          1599,
          1599,
          1299,
          1599,
          2999,
          999,
          999,
          999,
          999,
          999,
          999,
          999,
          999,
          2499,
          1699,
          2499,
          1699,
          1499,
          1499,
          1499,
          1499,
          999,
          1499,
          1499,
          1199,
          1799,
          1799,
          1799,
          1799,
          2499,
          4999,
          2499,
          2999,
          2999,
          2999,
          2499,
          2999,
          2999,
          1399,
          1399,
          1399,
          1399,
          1399
         ],
         "xaxis": "x",
         "y": [
          4.1,
          3.9,
          3.9,
          3.9,
          3.8,
          3.8,
          3.8,
          3.8,
          3.5,
          3.5,
          3.5,
          3.8,
          3.8,
          3.7,
          3.7,
          4,
          4,
          3.8,
          3.8,
          4,
          3.8,
          3.7,
          3.8,
          3.8,
          3.8,
          3.8,
          4,
          4,
          4,
          4,
          3.8,
          3.9,
          3.8,
          3.9,
          4,
          4,
          3.8,
          3.7,
          3.8,
          4,
          3.6,
          2.9,
          3.9,
          3.9,
          3.9,
          3.9,
          3.8,
          4.1,
          4,
          2.4,
          2.6,
          2.9,
          4,
          4,
          4,
          3.8,
          3.8,
          3.8,
          3.8,
          3.8
         ],
         "yaxis": "y"
        },
        {
         "customdata": [
          [
           "Boult Audio Z20 Pro Truly Wireless Bluetooth Ear Buds with 60H Playtime, 4 Mics Clear Calling, 45ms Low Latency, Rich Bass Drivers, Touch Controls, IPX5 TWS Earbuds Bluetooth Wireless (Powder Blue)",
           3.64
          ],
          [
           "Boult Audio UFO Truly Wireless in Ear Earbuds with 48H Playtime, Built-in App Support, 45ms Low Latency Gaming, 4 Mics ENC, Breathing LEDs, 13mm Bass Drivers Ear Buds TWS, Made in India (Black Gloss)",
           3.002
          ],
          [
           "Boult Audio BassBuds X1 in-Ear Wired Earphones with 10mm Extra Bass Driver and HD Sound with mic(Black)",
           11.854
          ],
          [
           "Boult Audio BassBuds X1 in-Ear Wired Earphones with 10mm Extra Bass Driver and HD Sound with mic(Red)",
           11.175
          ],
          [
           "Boult Audio BassBuds X1 in-Ear Wired Earphones with 10mm Extra Bass Driver and HD Sound with mic(Blue)",
           11.175
          ],
          [
           "Boult Audio ZCharge Bluetooth Earphones with 40H Playtime, Dual Pairing Neckband, Zen™ ENC Mic, Type-C Fast Charging (10Mins=15Hrs), Biggest 14.2mm Bass Driver IPX5 Premium Silicone Neck Band (Black)",
           4.631
          ],
          [
           "Boult Audio ZCharge Bluetooth Earphones with 40H Playtime, Dual Pairing Neckband, Zen™ ENC Mic, Type-C Fast Charging (10Mins=15Hrs), Biggest 14.2mm Bass Driver IPX5 Premium Silicone Neck Band (Blue)",
           4.631
          ],
          [
           "Boult Audio FXCharge Bluetooth Earphones with 32H Playtime, Dual Pairing Neckband, Zen™ ENC Mic, Type-C Fast Charging (5Mins=7.5Hrs), Biggest 14.2mm Bass Driver IPX5 Premium Silicone Neck band (Black)",
           4.116
          ],
          [
           "Boult Audio Z20 Truly Wireless Bluetooth Ear buds with 51 Hours Playtime, Zen™ Clear Calling ENC Mic, Made in India, Low Latency Gaming, Rich Bass Drivers, IPX5, TWS earbuds bluetooth wireless (Green)",
           3.704
          ],
          [
           "Boult Audio Z20 Truly Wireless Bluetooth Ear buds with 51 Hours Playtime, Zen™ Clear Calling ENC Mic, Made in India, Low Latency Gaming, Rich Bass Drivers, IPX5, TWS earbuds bluetooth wireless (Black)",
           3.704
          ],
          [
           "Boult Audio Bassbuds Loop 2 Wired in Ear Earphones with Mic, 10mm Powerful Driver for Extra Bass with Customizable Ear Loop (Black)",
           10.888
          ],
          [
           "Boult Audio Bassbuds Loop 2 Wired in Ear Earphones with Mic, 10mm Powerful Driver for Extra Bass with Customizable Ear Loop (Teal Blue)",
           10.888
          ],
          [
           "Boult Audio Maverick with 35H Playtime, 45ms Xtreme Low Latency Mode, Quad Mic ENC, Type C Fast Charging (10Mins=120Mins), 10mm Drivers, BT 5.3, IPX5 Airbass True Wireless in Ear Earbuds (Black)",
           4.756
          ],
          [
           "Boult Audio Z40 True Wireless in Ear Earbuds with 60H Playtime, Zen™ ENC Mic, Low Latency Gaming, Type-C Fast Charging, Made in India, 10mm Rich Bass Drivers, IPX5, Bluetooth 5.3 Ear Buds TWS (Brown)",
           3.804
          ],
          [
           "Boult Audio Z40 True Wireless in Ear Earbuds with 60H Playtime, Zen™ ENC Mic, Low Latency Gaming, Type-C Fast Charging, Made in India, 10mm Rich Bass Drivers, IPX5, Bluetooth 5.3 Ear Buds TWS (Blue)",
           3.808
          ],
          [
           "Boult Audio Z40 True Wireless in Ear Earbuds with 60H Playtime, Zen™ ENC Mic, Low Latency Gaming, Type-C Fast Charging, Made in India, 10mm Rich Bass Drivers, IPX5, Bluetooth 5.3 Ear Buds TWS (White)",
           3.804
          ],
          [
           "Boult Z60 Truly Wireless in Ear Earbuds with 60H Playtime, Zen™ ENC Mic, 50ms Low Latency, 13mm Bass Drivers, Type-C Fast Charging, Made in India, BT V5.3, Touch Control, IPX5 Ear Buds (Raven Black)",
           4.756
          ],
          [
           "Boult Z60 Truly Wireless in Ear Earbuds with 60H Playtime, Zen™ ENC Mic, 50ms Low Latency, 13mm Bass Drivers, Type-C Fast Charging, Made in India, BT V5.3, Touch Control, IPX5 Ear Buds (Powder Blue)",
           4.756
          ],
          [
           "Boult Z60 Truly Wireless in Ear Earbuds with 60H Playtime, Zen™ ENC Mic, 50ms Low Latency, 13mm Bass Drivers, Type-C Fast Charging, Made in India, BT V5.3, Touch Control, IPX5 Ear Buds (Spring Green)",
           4.756
          ],
          [
           "Boult Audio X1 Pro Wired Earphones with Type-C Port, 10mm Bass Drivers, Inline Control, IPX5 Water Resistant, Comfort Fit earphones wired headphones with mic, Type C earphones, Voice Assistant (Black)",
           8.686
          ],
          [
           "Boult Audio X1 Pro Wired Earphones with Type-C Port, 10mm Bass Drivers, Inline Controls, IPX5 Water Resistant, Comfort Fit earphones wired headphones with mic, Type C earphones, Voice Assistant (Blue)",
           8.686
          ],
          [
           "Boult Audio Z40 Pro with 100H Playtime, Quad Mic ENC, 45ms Low Latency Gaming, Premium Rubber Grip Case, 13mm Bass Drivers, Made in India TWS Bluetooth 5.3 Truly Wireless in Ear Earbuds (Jungle)",
           2.928
          ],
          [
           "Boult Audio Z40 Pro with 100H Playtime, Quad Mic ENC, 45ms Low Latency Gaming, Premium Rubber Grip Case, 13mm Bass Drivers, Made in India TWS Bluetooth 5.3 Truly Wireless in Ear Earbuds (Midnight)",
           2.925
          ],
          [
           "Boult Audio Curve Max Bluetooth Earphones with 100H Playtime, Clear Calling ENC Mic, Dual Device Connectivity, Lowest Latency Gaming, 13mm Bass Driver, Made in India Neckband Wireless Earphone (Black)",
           4.116
          ],
          [
           "Boult Audio K40 True Wireless in Ear Earbuds with 48H Playtime, Clear Calling 4 Mics, 45ms Low Latency Gaming, Premium Grip, 13mm Bass Drivers, Type-C Fast Charging, BTv 5.3 Ear Buds (Electric Black)",
           4.338
          ],
          [
           "Boult Audio K40 True Wireless in Ear Earbuds with 48H Playtime, Clear Calling 4 Mics, 45ms Low Latency Gaming, Premium Grip, 13mm Bass Drivers, Type-C Fast Charging, BTv 5.3 Ear Buds TWS (Denim Blue)",
           4.338
          ],
          [
           "Boult Audio K40 True Wireless in Ear Earbuds with 48H Playtime, Clear Calling 4 Mics, 45ms Low Latency Gaming, Premium Grip, 13mm Bass Drivers, Type-C Fast Charging, BTv 5.3 Ear Buds TWS (Berry Red)",
           4.338
          ],
          [
           "Boult Audio K40 True Wireless in Ear Earbuds with 48H Playtime, Clear Calling 4 Mics, 45ms Low Latency Gaming, Premium Grip, 13mm Bass Drivers, Type-C Fast Charging, BTv 5.3 Ear Buds TWS (Ivory White)",
           4.338
          ],
          [
           "Boult Audio UFO Truly Wireless in Ear Earbuds with 48H Playtime, Built-in App Support, 45ms Low Latency Gaming, 4 Mics ENC, Breathing LEDs, 13mm Bass Drivers Ear Buds TWS, Made in India (Smoky Metal)",
           3.002
          ],
          [
           "Boult Audio UFO Truly Wireless in Ear Earbuds with 48H Playtime, Built-in App Support, 45ms Low Latency Gaming, 4 Mics ENC, Breathing LEDs, 13mm Bass Drivers Ear Buds TWS, Made in India (White Opal)",
           3.253
          ],
          [
           "Boult Audio Z40 Gaming in Ear Earbuds with 60H Playtime, 40ms Ultra Low Latency, Quad Mic ENC, Fast Pairing, Breathing LEDs, Type-C Fast Charging, BTv 5.4, Made in India, Earbuds TWS (Black Moss)",
           3.904
          ],
          [
           "Boult Audio Z40 Gaming in Ear Earbuds with 60H Playtime, 40ms Ultra Low Latency, Quad Mic ENC, Fast Pairing, Breathing LEDs, Type-C Fast Charging, BTv 5.4, Made in India, Earbuds TWS (Electric White)",
           3.904
          ],
          [
           "Boult Audio Z20 Pro Truly Wireless Bluetooth Ear buds with 60 Hours Playtime, 4 Mics Clear Calling, 45ms Low Latency, Rich Bass Drivers, ouch Controls, IPX5,TWS earbuds bluetooth wireless (Candy Cane)",
           3.64
          ],
          [
           "W20 Truly Wireless in Ear Earbuds with 40H Playtime, Zen™ ENC Mic, 45ms Low Latency, 13mm Bass Drivers, Type-C Fast Charging, Made in India, BTv 5.3, Touch Control, IPX5 Ear Buds TWS (Glacier Blue)",
           4.338
          ],
          [
           "Boult Audio W20 Truly Wireless in Ear Earbuds with 40H Playtime, Zen™ ENC Mic, 45ms Low Latency, 13mm Bass Drivers, Type-C Fast Charging, Made in India, Touch Controls, IPX5 ear buds TWS (Space Black)",
           4.881
          ],
          [
           "W20 Truly Wireless in Ear Earbuds with 40H Playtime, Zen™ ENC Mic, 45ms Low Latency, 13mm Bass Drivers, Type-C Fast Charging, Made in India, BTv 5.3, Touch Control, IPX5 Ear Buds TWS (Pine Green)",
           4.881
          ],
          [
           "Mustang Torq Wireless in Ear Earbuds with 50H Playtime, App Support, Quad Mic ENC, 45ms Low Latency, Breathing LEDs, 13mm Drivers, Touch Control, Made in India IPX5 Ear Buds TWS Bluetooth 5.4",
           2.223
          ],
          [
           "Boult x Mustang Dash Truly Wireless in Ear Earbuds with 100H Playtime, App Support, Dual Device Pairing, 4 Clear Calling ENC Mics, 45ms Low Latency, Made in India, IPX5 Ear Buds TWS Bluetooth 5.4",
           2.468
          ],
          [
           "Boult Audio Z40 True Wireless in Ear Earbuds with 60H Playtime, Zen™ ENC Mic, Low Latency Gaming, Type-C Fast Charging, Made in India, 10mm Rich Bass Drivers, IPX5, Bluetooth 5.3 Ear Buds TWS (Black)",
           3.804
          ],
          [
           "Boult Audio Z20 Pro Truly Wireless Bluetooth Ear buds with 60 Hours Playtime, 4 Mics Clear Calling, Made in India, 45ms Low Latency, Rich Bass Drivers, IPX5, TWS earbuds bluetooth wireless (Jet Black)",
           3.64
          ],
          [
           "Boult Klarity 3 6-Mic Hybrid ANC (Upto 50dB) in Ear Earbuds, Spatial Audio, Dual Device Pairing, 50H Playtime, Wind Noise Reduction 6 Mic Calling, Type-C Fast Charging, 13mm Bass Driver TWS (Silver)",
           1.701
          ],
          [
           "Boult Klarity 3 6-Mic Hybrid ANC (Upto 50dB) in Ear Earbuds, Spatial Audio, Dual Device Pairing, 50H Playtime, Wind Noise Reduction 6 Mic Calling, Type-C Fast Charging, 13mm Bass Driver TWS (Black)",
           1.701
          ],
          [
           "Q Over Ear Bluetooth Headphones with 70H Playtime, 40mm Bass Drivers, Zen™ ENC Mic, Type-C Fast Charging, 4 EQ Modes, Bluetooth 5.4, AUX Option, Easy Control, IPX5 headphones wireless with mic (Black)",
           2.051
          ],
          [
           "Q Over Ear Bluetooth Headphones with 70H Playtime, 40mm Bass Drivers, Zen™ ENC Mic, Type-C Fast Charging, 4 EQ Modes, Bluetooth 5.4, AUX Option, Easy Control, IPX5 headphones wireless with mic (Beige)",
           2.051
          ],
          [
           "Boult K10 Truly Wireless Bluetooth In Ear Earbuds with 50H Playtime, 4 Mic Clear Calling, 45ms Low Latency, 10mm Drivers, Touch Controls, Type-C Fast Charging, IPX5, TWS Ear buds Wireless (Pure Black)",
           4.004
          ],
          [
           "Boult K10 Truly Wireless Bluetooth in Ear Earbuds with 50H Playtime, 4 Mic Clear Calling, 45ms Low Latency, 10mm Drivers, Touch Controls, Type-C Fast Charging, IPX5, TWS Ear Buds Wireless (Ice Blue)",
           4.004
          ],
          [
           "Boult Newly Launched Klarity 1 in Ear TWS Earbuds with 80Hrs Playtime, Liquid Metal Body, Dual Device Pairing, 4 Mics ENC, 45ms Low Latency, IPX5, 13mm Bass Drivers Ear Buds Bluetooth 5.4 (Black)",
           2.694
          ],
          [
           "Boult Newly Launched Klarity 1 in Ear TWS Earbuds with 80Hrs Playtime, Liquid Metal Body, Dual Device Pairing, 4 Mics ENC, 45ms Low Latency, 13mm Bass Drivers Ear Buds Bluetooth 5.4 (Grey)",
           2.694
          ],
          [
           "Boult Mustang Newly Launched Torq TWS Earbuds with 60H Playtime, App Support, 4 Mics, ENC, 45ms Low Latency, 13mm Driver, Breathing LEDs,Touch Control, Made in India, IPX5, Ear Buds Wireless (Yellow)",
           2.106
          ],
          [
           "Mustang Newly Launched Torq TWS Earbuds with 60H Playtime, App Support, 4 Mics ENC, 45ms Low Latency, 13mm Driver, Breathing LEDs, Touch Control, Made in India, IPX5 Ear Buds Wireless (Silver)",
           2.106
          ],
          [
           "Boult Z20 Truly Wireless Bluetooth Ear Buds with 51H Playtime, Zen™ Calling ENC Mic, Made in India, Low Latency Gaming, Touch Controls, Rich Bass Drivers, TWS Earbuds Bluetooth Wireless (Ivory White)",
           4.204
          ],
          [
           "Boult Z20 Truly Wireless Bluetooth Ear Buds with 51H Playtime, Zen™ Calling ENC Mic, Made in India, Low Latency Gaming, Touch Controls, Rich Bass Drivers, TWS Earbuds Bluetooth Wireless (Jet Black)",
           4.204
          ],
          [
           "Boult Z20 Truly Wireless Bluetooth Ear Buds with 51H Playtime, Zen™ Calling ENC Mic, Made in India, Low Latency Gaming, Touch Controls, Rich Bass Drivers, TWS Earbuds Bluetooth Wireless (Pine Green)",
           4.204
          ],
          [
           "Boult X Mustang Newly Launched Q Over Ear Bluetooth Headphones with 70H Playtime, 40mm Bass Drivers, Zen™ ENC Mic, Type-C Fast Charging, 4 EQ Modes, Bluetooth 5.4, AUX Option, IPX5 Wireless Headphones",
           1.641
          ],
          [
           "Mustang Newly Launched Dyno TWS Earbuds with 60H Playtime, App Support, Dual Pairing, 4 Mics ENC, 45ms Low Latency, 13mm Drivers, Touch Controls, Made in India, IPX5 Ear Buds Wireless (Grey)",
           2.223
          ],
          [
           "Boult Buds Klarity 4 ANC in-Ear Truly Wireless Earbuds with 35dB Active Noise Cancellation, 60H Playtime, 4 Mics Calling, 45ms Low Latency, 10mm Driver, Type-C Fast Charging, TWS ANC Ear Buds Wireless",
           2.068
          ],
          [
           "Boult Audio Newly Launched XO Pro Black Wired Earphones with Type-C Jack, Extra Bass, 10mm Dynamic Driver, Inline Control, IPX5 Water Resistant, Radial Finish, Earphones Wired Headphones with Mic",
           8.909
          ],
          [
           "Boult Audio Newly Launched XO Black Wired Earphones with 3.5mm Jack, Extra Bass, 10mm Dynamic Driver, Inline Control, IPX5 Water Resistant, HD Mic, Radial Finish, Earphones Wired Headphones with Mic",
           11.461
          ],
          [
           "Boult Newly Launched Flex On Ear Bluetooth Headphones with 80H Playtime, 40mm Bass Drivers, Zen™ ENC Mic, Type-C Fast Charging, Bluetooth 5.4, AUX Option, 60ms Low Latency, IPX5 (Navy Blue)",
           2.446
          ],
          [
           "Boult Newly Launched Flex On Ear Bluetooth Headphones with 80H Playtime, 40mm Bass Drivers, Zen™ ENC Mic, Type-C Fast Charging, Bluetooth 5.4, AUX Option, 60ms Low Latency, IPX5 (Jet Black)",
           2.446
          ]
         ],
         "hovertemplate": "Brand=Boult<br>Price (₹)=%{x}<br>Customer Rating=%{y}<br>Review_Count=%{marker.size}<br>Title=%{customdata[0]}<br>Value_Score=%{customdata[1]}<extra></extra>",
         "legendgroup": "Boult",
         "marker": {
          "color": "#EF553B",
          "size": [
           4321,
           5404,
           89042,
           89042,
           89042,
           29786,
           29786,
           29786,
           17045,
           17045,
           15713,
           15713,
           10859,
           34257,
           34257,
           34257,
           10859,
           10859,
           10859,
           89042,
           89042,
           34257,
           34257,
           110764,
           7012,
           7012,
           7012,
           7012,
           5404,
           5404,
           1191,
           1191,
           4321,
           8960,
           8960,
           8960,
           6001,
           1785,
           34257,
           4321,
           2021,
           2021,
           2656,
           2656,
           4296,
           4296,
           837,
           837,
           6001,
           6001,
           2325,
           2325,
           2325,
           2656,
           6001,
           309,
           191,
           191,
           99,
           99
          ],
          "sizemode": "area",
          "sizeref": 1047.575,
          "symbol": "circle"
         },
         "mode": "markers",
         "name": "Boult",
         "orientation": "v",
         "showlegend": true,
         "type": "scatter",
         "x": [
          1099,
          1299,
          329,
          349,
          349,
          799,
          799,
          899,
          999,
          999,
          349,
          349,
          799,
          999,
          998,
          999,
          799,
          799,
          799,
          449,
          449,
          1298,
          1299,
          899,
          899,
          899,
          899,
          899,
          1299,
          1199,
          999,
          999,
          1099,
          899,
          799,
          799,
          1799,
          1499,
          999,
          1099,
          1999,
          1999,
          1999,
          1999,
          999,
          999,
          1299,
          1299,
          1899,
          1899,
          999,
          999,
          999,
          2499,
          1799,
          1499,
          449,
          349,
          1799,
          1799
         ],
         "xaxis": "x",
         "y": [
          4,
          3.9,
          3.9,
          3.9,
          3.9,
          3.7,
          3.7,
          3.7,
          3.7,
          3.7,
          3.8,
          3.8,
          3.8,
          3.8,
          3.8,
          3.8,
          3.8,
          3.8,
          3.8,
          3.9,
          3.9,
          3.8,
          3.8,
          3.7,
          3.9,
          3.9,
          3.9,
          3.9,
          3.9,
          3.9,
          3.9,
          3.9,
          4,
          3.9,
          3.9,
          3.9,
          4,
          3.7,
          3.8,
          4,
          3.4,
          3.4,
          4.1,
          4.1,
          4,
          4,
          3.5,
          3.5,
          4,
          4,
          4.2,
          4.2,
          4.2,
          4.1,
          4,
          3.1,
          4,
          4,
          4.4,
          4.4
         ],
         "yaxis": "y"
        },
        {
         "customdata": [
          [
           "Sony MDR-EX255AP Wired in-Ear Headphones with Tangle Free Cable, 3.5mm Jack, Headset with Mic for Phone Calls and 1 Year Warranty - (Black)",
           2.06
          ],
          [
           "Sony WI-XB400 Wireless Extra Bass in Ear Headphones with 15 Hrs Battery, Quick Charge, Magnetic Earbuds, Tangle Free Cord, BT Ver 5.0, Work from Home,Bluetooth Headset with Mic for Phone Calls (Blue)",
           0.802
          ],
          [
           "Sony MDR-ZX110AP Wired On-Ear Headphones with tangle free cable, 3.5mm Jack, Headset with Mic for phone calls and 1 Year Warranty - (Black)",
           2.685
          ],
          [
           "Sony MDR-EX14AP Wired in Ear Headphone with Mic (Blue)",
           6.177
          ],
          [
           "Sony MDR-EX14AP Wired in Ear Headphone with Mic (Black)",
           4.768
          ],
          [
           "Sony MDR-EX155AP Wired in-Ear Headphones with Tangle Free Cable, 3.5mm Jack, Headset with Mic for Phone Calls and 1 Year Warranty - (Black)",
           4.004
          ],
          [
           "Sony MDR-EX15AP EX Stereo Headphones with Mic (Black)",
           5.436
          ],
          [
           "Sony ZX Series MDR-ZX310AP Headband Stereo Headset -Blue",
           2.957
          ],
          [
           "Sony MDR-ZX110A On-Ear Stereo Headphones (White), without mic",
           5.006
          ],
          [
           "Sony WH-1000XM4 Noise Cancellation Wireless Bluetooth Over-Ear Headphones with Mic, Hi-Res Audio, Up to 38Hrs Battery- Black",
           0.196
          ],
          [
           "Sony WF-C500 Bluetooth Earbuds with Mic, TWS, Up to 20Hrs Battery-Green",
           0.891
          ],
          [
           "Sony WH-1000XM5 Best Active Noise Cancelling Wireless Bluetooth Over Ear Headphones with Mic for Clear Calling, up to 40 Hours Battery -Black",
           0.147
          ],
          [
           "Sony WI-C100 Wireless Headphones with Customizable Equalizer for Deep Bass & 25 Hrs Battery, DSEE-Upscale, Splash Proof, 360RA, Fast Pair, in-Ear Bluetooth Headset with mic for Phone Calls (White)",
           2.178
          ],
          [
           "Sony WI-C100 Wireless Headphones with Customizable Equalizer for Deep Bass & 25 Hrs Battery, DSEE-Upscale, Splash Proof, 360RA, Fast Pair, in-Ear Bluetooth Headset with mic for Phone Calls (Blue)",
           2.47
          ],
          [
           "Sony WI-C100 Wireless Headphones with Customizable Equalizer for Deep Bass & 25 Hrs Battery, DSEE-Upscale, Splash Proof, 360RA, Fast Pair, in-Ear Bluetooth Headset with mic for Phone Calls (Black)",
           2.468
          ],
          [
           "Sony WH-CH520 Wireless Bluetooth Headphones with Mic, Up to 50Hrs Battery, Quick Charge, DSEE Upscale, Multipoint Connectivity, Voice Assistant, Customized EQ-White",
           0.927
          ],
          [
           "Sony WH-CH720N, Wireless Over-Ear Active Noise Cancellation Headphones with Mic, up to 35 Hours Playtime, Multi-Point Connection, App Support, AUX & Voice Assistant Support for Mobile Phones (Black)",
           0.433
          ],
          [
           "Sony WH-CH520 Wireless Bluetooth Headphones with Mic, Up to 50Hrs Battery, Quick Charge, DSEE Upscale, Multipoint Connectivity, Voice Assistant, Customized EQ-Blue",
           0.938
          ],
          [
           "Sony WH-CH720N, Wireless Over-Ear Active Noise Cancellation Headphones with Mic, up to 50 Hours Playtime, Multi-Point Connection, App Support, AUX & Voice Assistant Support for Mobile Phones (White)",
           0.443
          ],
          [
           "Sony WH-CH720N, Wireless Over-Ear Active Noise Cancellation Headphones with Mic, up to 35 Hours Playtime, Multi-Point Connection, App Support, AUX & Voice Assistant Support for Mobile Phones (Blue)",
           0.495
          ],
          [
           "Sony WF-C700N Noise Cancellation Bluetooth Earbuds with Mic, TWS, Up to 20Hrs Battery, Adaptive Sound Control- Black",
           0.476
          ],
          [
           "Sony WH-CH520 Wireless Bluetooth Headphones with Mic, Up to 50Hrs Battery, Quick Charge, DSEE Upscale, Multipoint Connectivity, Voice Assistant, Customized EQ-Beige",
           0.927
          ],
          [
           "Sony WF-1000XM5 Best Active Noise Cancelling Wireless Bluetooth Earbuds with Mic, TWS, Up to 36 Hours Battery Life - Black",
           0.181
          ],
          [
           "Sony WH-CH520 Wireless Bluetooth Headphones with Mic, Up to 50Hrs Battery-Pink",
           0.913
          ],
          [
           "Sony ULT Wear WH-ULT900N Noise Cancellation Wireless Bluetooth Over Ear Headphones with Massive Bass, Up to 50Hrs Battery-Black",
           0.289
          ],
          [
           "Sony ULT Wear WH-ULT900N Noise Cancellation Wireless Bluetooth Over Ear Headphones with Massive Bass, Up to 50Hrs Battery-Grey",
           0.287
          ],
          [
           "Sony WF-C510 Wireless Bluetooth Earbuds with Mic, TWS, in Ear, Ambient Sound Mode, Small and Comfortable, IPX4, Quick Charge, Multipoint Connectivity, Customized EQ, Up to 22 Hours Battery- Black",
           0.978
          ],
          [
           "Sony WF-C510 Wireless Bluetooth Earbuds with Mic, TWS, in Ear, Ambient Sound Mode, Small and Comfortable, IPX4, Quick Charge, Multipoint Connectivity, Customized EQ, Up to 22 Hours Battery- Blue",
           0.978
          ]
         ],
         "hovertemplate": "Brand=Sony<br>Price (₹)=%{x}<br>Customer Rating=%{y}<br>Review_Count=%{marker.size}<br>Title=%{customdata[0]}<br>Value_Score=%{customdata[1]}<extra></extra>",
         "legendgroup": "Sony",
         "marker": {
          "color": "#00cc96",
          "size": [
           2849,
           51527,
           66769,
           1648,
           1648,
           7874,
           7724,
           854,
           66769,
           55255,
           1493,
           15356,
           11904,
           11904,
           11904,
           20462,
           10368,
           20462,
           10368,
           10368,
           3860,
           20462,
           4162,
           20462,
           1523,
           1523,
           1282,
           1282
          ],
          "sizemode": "area",
          "sizeref": 1047.575,
          "symbol": "circle"
         },
         "mode": "markers",
         "name": "Sony",
         "orientation": "v",
         "showlegend": true,
         "type": "scatter",
         "x": [
          1990,
          4990,
          1490,
          599,
          776,
          999,
          699,
          1319,
          799,
          22990,
          4490,
          29990,
          1699,
          1498,
          1499,
          4424,
          9699,
          4369,
          9489,
          8490,
          7989,
          4424,
          20990,
          4490,
          14883,
          14989,
          3989,
          3989
         ],
         "xaxis": "x",
         "y": [
          4.1,
          4,
          4,
          3.7,
          3.7,
          4,
          3.8,
          3.9,
          4,
          4.5,
          4,
          4.4,
          3.7,
          3.7,
          3.7,
          4.1,
          4.2,
          4.1,
          4.2,
          4.2,
          3.8,
          4.1,
          3.8,
          4.1,
          4.3,
          4.3,
          3.9,
          3.9
         ],
         "yaxis": "y"
        },
        {
         "customdata": [
          [
           "Bose New QuietComfort Ultra Wireless Noise Cancelling Earbuds, Bluetooth Earbuds with Spatial Audio and World-Class Noise Cancellation, Black",
           0.139
          ],
          [
           "Bose New QuietComfort Ultra Wireless Noise Cancelling Headphones with Spatial Audio, Over-The-Ear Headphones with Mic, Up to 24 Hours of Battery Life, Black",
           0.15
          ]
         ],
         "hovertemplate": "Brand=Bose<br>Price (₹)=%{x}<br>Customer Rating=%{y}<br>Review_Count=%{marker.size}<br>Title=%{customdata[0]}<br>Value_Score=%{customdata[1]}<extra></extra>",
         "legendgroup": "Bose",
         "marker": {
          "color": "#ab63fa",
          "size": [
           7324,
           6400
          ],
          "sizemode": "area",
          "sizeref": 1047.575,
          "symbol": "circle"
         },
         "mode": "markers",
         "name": "Bose",
         "orientation": "v",
         "showlegend": true,
         "type": "scatter",
         "x": [
          25900,
          28699
         ],
         "xaxis": "x",
         "y": [
          3.6,
          4.3
         ],
         "yaxis": "y"
        },
        {
         "customdata": [
          [
           "AKG K52 Closed Back Wired Headphones,Over Ear Wired,Black",
           1.586
          ],
          [
           "AKG K92 Closed Back Over Ear Headphones,Wired,Black",
           1.313
          ],
          [
           "AKG K72 Closed Back Studio Over Ear Wired Headphones, Black, Pack of 1",
           1.449
          ]
         ],
         "hovertemplate": "Brand=AKG<br>Price (₹)=%{x}<br>Customer Rating=%{y}<br>Review_Count=%{marker.size}<br>Title=%{customdata[0]}<br>Value_Score=%{customdata[1]}<extra></extra>",
         "legendgroup": "AKG",
         "marker": {
          "color": "#FFA15A",
          "size": [
           14333,
           14333,
           14333
          ],
          "sizemode": "area",
          "sizeref": 1047.575,
          "symbol": "circle"
         },
         "mode": "markers",
         "name": "AKG",
         "orientation": "v",
         "showlegend": true,
         "type": "scatter",
         "x": [
          2649,
          3199,
          2899
         ],
         "xaxis": "x",
         "y": [
          4.2,
          4.2,
          4.2
         ],
         "yaxis": "y"
        },
        {
         "customdata": [
          [
           "OPPO Enco Air 2 Bluetooth Truly Wireless in Ear Earbuds with Mic, Fast Charging & Up to 24Hrs Battery - Blue",
           1.81
          ],
          [
           "OPPO Enco Air3 Pro True Wireless in Ear Earbuds with Industry First Composite Bamboo Fiber, 49dB ANC, 30H Playtime, 47ms Ultra Low Latency,Fast Charge,BT 5.3 (Green)",
           0.82
          ]
         ],
         "hovertemplate": "Brand=OPPO<br>Price (₹)=%{x}<br>Customer Rating=%{y}<br>Review_Count=%{marker.size}<br>Title=%{customdata[0]}<br>Value_Score=%{customdata[1]}<extra></extra>",
         "legendgroup": "OPPO",
         "marker": {
          "color": "#19d3f3",
          "size": [
           2223,
           1710
          ],
          "sizemode": "area",
          "sizeref": 1047.575,
          "symbol": "circle"
         },
         "mode": "markers",
         "name": "OPPO",
         "orientation": "v",
         "showlegend": true,
         "type": "scatter",
         "x": [
          2100,
          4999
         ],
         "xaxis": "x",
         "y": [
          3.8,
          4.1
         ],
         "yaxis": "y"
        },
        {
         "customdata": [
          [
           "HP H100 Wireless Neckband Headset, Tablets, Smartphones, PCs, and Other Devices with Bluetooth®",
           5.01
          ],
          [
           "HP H150 Wireless in Ear Earbuds, Compatible with Tablets, Smartphones, Pcs, and Other Devices with Bluetooth,Noise-Reduction,Water Resistant Design,Black,0.036Kg",
           5.611
          ],
          [
           "HP H120 Stereo USB On Ear Headset, Plug-and-Play USB-A, Built-in Noise-Canceling Mic, Adjustable Head Strap, Padded Ear Cushions, 360-Degree Bendable Mic, 1-Year Limited Warranty, Black, 9Z4V9Aa",
           2.594
          ],
          [
           "HP H150 True Wireless Earbuds, Bluetooth Connectivity, Digital Active Noise Cancelation, 7 Hours of Playtime, Fingerprint Touch, IPX3 Water-Resistant Design, 1-Year Limited Warranty, Blue, A20QBAA",
           4.006
          ]
         ],
         "hovertemplate": "Brand=HP<br>Price (₹)=%{x}<br>Customer Rating=%{y}<br>Review_Count=%{marker.size}<br>Title=%{customdata[0]}<br>Value_Score=%{customdata[1]}<extra></extra>",
         "legendgroup": "HP",
         "marker": {
          "color": "#FF6692",
          "size": [
           53,
           946,
           310,
           946
          ],
          "sizemode": "area",
          "sizeref": 1047.575,
          "symbol": "circle"
         },
         "mode": "markers",
         "name": "HP",
         "orientation": "v",
         "showlegend": true,
         "type": "scatter",
         "x": [
          499,
          499,
          1465,
          699
         ],
         "xaxis": "x",
         "y": [
          2.5,
          2.8,
          3.8,
          2.8
         ],
         "yaxis": "y"
        },
        {
         "customdata": [
          [
           "OnePlus Nord Wired Headphones in Ear Earphones(3.5Mm)",
           7.615
          ],
          [
           "OnePlus Buds Pro 3 Bluetooth TWS in-Earbuds Dual Drivers, Dual Dacs, Dynaudio Eqs, AI-Powered Translator, Up to 50Db Adaptive Noise Cancellation, Up to 43Hrs Battery.",
           0.35
          ],
          [
           "OnePlus Bullets Bluetooth Wireless in Ear Z2 Earphones with Mic, Bombastic Bass, 12.4 mm Drivers, 10 Mins Charge, 20 Hrs Music, 30 Hrs Battery Life, IP55 Dust & Water Resistant (Beam Blue)",
           2.564
          ],
          [
           "Oneplus Bullets Z2 Bluetooth Wireless in Ear Earphones with Mic, Bombastic Bass - 12.4 mm Drivers, 10 Mins Charge - 20 Hrs Music, 30 Hrs Battery Life, IP55 Dust and Water Resistant (Magico Black)",
           2.564
          ],
          [
           "OnePlus Bullets Z2 Bluetooth Wireless in Ear Earphones with Mic, Bombastic Bass, 10 Mins Charge - 20 Hrs Music, 30 Hrs Battery Life (Acoustic Red)",
           2.564
          ],
          [
           "OnePlus Buds Pro 2 Bluetooth TWS in Ear Earbuds, Spatial Audio Dynamic Head Tracking,co-Created with Dynaudio,Upto 48dB Adaptive Noise Cancellation,Upto 40Hrs Battery[Green]",
           0.575
          ],
          [
           "OnePlus Bullets Z2 Bluetooth Wireless in Ear Earphones with Mic, Bombastic Bass - 12.4 Mm Drivers, 10 Mins Charge - 20 Hrs Music, 30 Hrs Battery Life (Jazz Green)",
           2.564
          ],
          [
           "OnePlus Nord Buds 2r True Wireless in Ear Earbuds with Mic, 12.4mm Drivers, Playback:Upto 38hr case,4-Mic Design, IP55 Rating [ Misty Grey ]",
           2.335
          ],
          [
           "OnePlus Nord Buds 2r True Wireless in Ear Earbuds with Mic, 12.4mm Drivers, Playback:Upto 38hr case,4-Mic Design, IP55 Rating [Deep Grey]",
           2.335
          ],
          [
           "OnePlus Bullets Wireless Z2 ANC Bluetooth in Ear Earphones with Mic, 45dB Hybrid ANC, Bombastic Bass - 12.4 mm Drivers, 10 Mins Charge - 20 Hrs Music, 28 Hrs Battery (Booming Black)",
           1.953
          ],
          [
           "OnePlus Bullets Wireless Z2 ANC Bluetooth in Ear Earphones with Mic, 45dB Hybrid ANC, Bombastic Bass - 12.4 mm Drivers, 10 Mins Charge - 20 Hrs Music, 28 Hrs Battery (Grand Green)",
           1.953
          ],
          [
           "OnePlus Buds 3 in Ear TWS Bluetooth Earbuds with Upto 49dB Smart Adaptive Noise Cancellation,Hi-Res Sound Quality,Sliding Volume Control,10mins for 7Hours Fast Charging with Upto 44Hrs Playback(Gray)",
           0.789
          ],
          [
           "OnePlus Buds 3 TWS in Ear Earbuds with Upto 49dB Smart Adaptive Noise Cancellation,Hi-Res Sound Quality,Sliding Volume Control,10mins for 7Hours Fast Charging with Upto 44Hrs Playback (Splendid Blue)",
           0.782
          ],
          [
           "OnePlus Buds Pro 3 Bluetooth TWS in-Earbuds Dual Drivers, Dual Dacs, Dynaudio Eqs, AI-Powered Translator, Up to 50Db Adaptive Noise Cancellation, Up to 43Hrs Battery.",
           0.35
          ],
          [
           "OnePlus Nord Buds 3 Pro Truly Wireless Bluetooth in Ear Earbuds with Upto 49Db Active Noise Cancellation,12.4Mm Dynamic Drivers,10Mins for 11Hr Fast Charging with Upto 44Hrs Music Playback[Soft Jade]",
           1.367
          ],
          [
           "OnePlus Nord Buds 3 Pro Truly Wireless Bluetooth in Ear Earbuds with Upto 49Db Active Noise Cancellation,12.4Mm Dynamic Drivers,10Mins for 11Hrs Fast Charging with Upto 44Hrs Music Playback[Black]",
           1.367
          ],
          [
           "OnePlus Nord Buds 3 Truly Wireless Bluetooth in Ear Earbuds with Up to 32Db Active Noise Cancellation,10Mins for 11Hours Fast Charging with Up to 43H Music Playback -Melodic White",
           1.783
          ],
          [
           "OnePlus Nord Buds 3 Truly Wireless Bluetooth in Ear Earbuds with Up to 32Db Active Noise Cancellation,10Mins for 11Hours Fast Charging with Up to 43H Music Playback -Harmonic Gray",
           1.783
          ],
          [
           "OnePlus Buds 3 Truly Wireless Bluetooth Earbuds with Upto 49Db Smart ANC,Hi-Res Sound Quality,in Ear,Sliding Volume Control,10Mins for 7Hours Fast Charging with Upto 44Hrs Playback (Green)",
           0.78
          ],
          [
           "OnePlus Nord Buds 3 Truly Wireless Bluetooth in Ear Earbuds with up to 32dB Active Noise Cancellation, 10mins for 11Hours Fast Charging with Up to 43h Music Playback -Chromatic Blue",
           1.783
          ]
         ],
         "hovertemplate": "Brand=OnePlus<br>Price (₹)=%{x}<br>Customer Rating=%{y}<br>Review_Count=%{marker.size}<br>Title=%{customdata[0]}<br>Value_Score=%{customdata[1]}<extra></extra>",
         "legendgroup": "OnePlus",
         "marker": {
          "color": "#B6E880",
          "size": [
           308,
           522,
           192744,
           192744,
           192744,
           1836,
           192744,
           25192,
           25192,
           192744,
           192744,
           7200,
           7200,
           522,
           4608,
           4608,
           4608,
           4608,
           7200,
           4608
          ],
          "sizemode": "area",
          "sizeref": 1047.575,
          "symbol": "circle"
         },
         "mode": "markers",
         "name": "OnePlus",
         "orientation": "v",
         "showlegend": true,
         "type": "scatter",
         "x": [
          499,
          11999,
          1599,
          1599,
          1599,
          7299,
          1599,
          1799,
          1799,
          2099,
          2099,
          5450,
          5499,
          11999,
          2999,
          2999,
          2299,
          2299,
          5510,
          2299
         ],
         "xaxis": "x",
         "y": [
          3.8,
          4.2,
          4.1,
          4.1,
          4.1,
          4.2,
          4.1,
          4.2,
          4.2,
          4.1,
          4.1,
          4.3,
          4.3,
          4.2,
          4.1,
          4.1,
          4.1,
          4.1,
          4.3,
          4.1
         ],
         "yaxis": "y"
        },
        {
         "customdata": [
          [
           "realme Buds 3 (3.5 mm) Wired Earphones with Mic (Black)",
           5.388
          ],
          [
           "realme Buds T01 Truly Wireless in Ear Earbuds with AI ENC for Calls, 13mm Dynamic Driver, Upto 28Hrs Battery,88mm Latency,Bluetooth V5.4 & Google Fast Pair (Black)",
           3.276
          ],
          [
           "realme Buds Wireless 3 in Ear Bluetooth Headphones,30dB ANC, Spatial Audio,13.6mm Dynamic Bass Driver,Upto 40 Hours Playback, Fast Charging, 45ms Low Latency for Gaming,Dual Device Connection (Black)",
           2.628
          ],
          [
           "realme Earbuds T110 with Ai Enc for Calls, Upto 38 Hours of Playback and Fast Charging Bluetooth in Ear Headset (Punk Black, True Wireless)",
           3.079
          ],
          [
           "realme Earbuds T110 with Ai Enc for Calls, Upto 38 Hours of Playback and Fast Charging Bluetooth in Ear Headset (Country Green, True Wireless)",
           3.079
          ],
          [
           "realme Buds Air 6 TWS in Ear Earbuds with 12.4 Mm Deep Bass Driver, 40 Hours Play Time, Fast Charge,50 Db ANC,Lhdc 5.0, 55 Ms Low Latency, Ip55 Dust & Water Resistant, Bluetooth V5.3 (Flame Silver)",
           1.212
          ],
          [
           "realme Buds Air 6 TWS in Ear Earbuds with 12.4 Mm Deep Bass Driver, 40 Hours Play Time, Fast Charge,50 Db ANC,Lhdc 5.0, 55 Ms Low Latency, Ip55 Dust & Water Resistant, Bluetooth V5.3 (Forrest Green)",
           1.212
          ],
          [
           "realme in Ear Buds Air 6 Pro with Dual Drivers(11Mm+6Mmtweeter),40 Hours Play Time,Fast Charge,50 Db ANC,Lhdc 5.0,55Ms Low Latency,360° Spatial Audio,Ip55 Dust&Water Resistant,Bt V5.3(Silver Blue)",
           0.911
          ],
          [
           "realme in Ear Buds Air 6 Pro with Dual Drivers(11Mm+6Mmtweeter),40 Hrs Play Time,Fast Charge,50 Db ANC,Lhdc 5.0,55Ms Low Latency,360° Spatial Audio,Ip55 Dust&Water Resistant,Bt V5.3,Titanium Twilight",
           0.911
          ],
          [
           "realme Buds T01 True Wireless in-Ear Earbuds with AI ENC for Calls, 13mm Dynamic Driver, Upto 28Hrs Battery, 88mm Latency, Bluetooth V5.4 & Google Fast Pair (White)",
           3.276
          ],
          [
           "realme Buds T310 Truly Wireless in Ear Earbuds with 46dB Hybrid ANC, 360° Spatial Audio, 12.4mm Dynamic Bass Driver, Upto 40Hrs Battery and Fast Charging (Agile White)",
           2.051
          ],
          [
           "realme Buds T310 True Wireless in-Ear Earbuds with 46dB Hybrid ANC, 360° Spatial Audio, 12.4mm Dynamic Bass Driver, Upto 40Hrs Battery and Fast Charging (Monet Purple)",
           2.051
          ],
          [
           "realme Buds T310 True Wireless in-Ear Earbuds with 46dB Hybrid ANC, 360° Spatial Audio, 12.4mm Dynamic Bass Driver, Upto 40Hrs Battery and Fast Charging (Vibrant Black)",
           2.051
          ],
          [
           "realme Buds N1 True Wireless in-Ear Earbuds with 46dB Hybrid ANC, 360° Spatial Audio, 12.4mm Dynamic Bass Driver, Upto 40Hrs Battery and Fast Charging (Energizing Green)",
           1.864
          ],
          [
           "realme Buds T110 True Wireless in Ear Earbuds with 10mm Dynamic Bass Boost Driver, 38 Hours Playback, AI ENC, 88ms Low Latency & IPX5 Water Resistant (Country Green)",
           3.079
          ],
          [
           "realme Buds T110 Bluetooth Truly Wireless in Ear Earbuds with mic, AI ENC for Calls, Google Fast Pair, 38 Hours Total Playback with Fast Charging and Low Latency Gaming Mode (Jazz Blue)",
           3.079
          ],
          [
           "realme Buds T110 Bluetooth Truly Wireless in Ear Earbuds with mic, AI ENC for Calls, Google Fast Pair, 38 Hours Total Playback with Fast Charging and Low Latency Gaming Mode (Punk Black)",
           3.079
          ],
          [
           "realme Buds Wireless 5 ANC in Ear Bluetooth Headphones,50dB ANC, 13.6mm Dynamic Bass Driver,360? Spatial Audio,45ms Low Latency,Upto 38hrs Playback,IP55 Rating,Dual Device Connection(Twilight Purple)",
           2.314
          ],
          [
           "realme Buds Wireless 5 ANC in Ear Bluetooth Headphones,50dB ANC, 13.6mm Dynamic Bass Driver,360° Spatial Audio,45ms Low Latency,Upto 38hrs Playback,IP55 Rating,Dual Device Connection (Midnight Black)",
           2.314
          ],
          [
           "realme Buds Wireless 5 ANC in Ear Bluetooth Headphones,50dB ANC, 13.6mm Dynamic Bass Driver,360? Spatial Audio,45ms Low Latency,Upto 38hrs Playback,IP55 Rating,Dual Device Connection (Dawn Silver)",
           2.314
          ],
          [
           "realme Buds Air 7, 12.4mm Dynamic Bass Drivers,52Hrs Playtime, 52dB Hybrid ANC,6 Mic ENC, 45ms Low Latency, 360° Spatial Audio, Hi-Res LHDC, IP55 Dust & Water Resistant, BT v5.4 (Moss Green)",
           1.273
          ],
          [
           "realme Buds Air 7, 12.4mm Dynamic Bass Drivers,52Hrs Playtime, 52dB Hybrid ANC,6 Mic ENC, 45ms Low Latency, 360° Spatial Audio, Hi-Res LHDC, IP55 Dust & Water Resistant, BT v5.4 (Lavender Purple)",
           1.273
          ],
          [
           "realme Buds Air 7, 12.4mm Dynamic Bass Drivers,52Hrs Playtime, 52dB Hybrid ANC,6 Mic ENC, 45ms Low Latency, 360° Spatial Audio, Hi-Res LHDC, IP55 Dust & Water Resistant, BT v5.4 (Ivory Gold)",
           1.273
          ],
          [
           "realme Buds Wireless 3 Neo in Ear Bluetooth Neckband with 13.4 Mm Dynamic Bass Boost Driver,Upto 32 Hours Playback,Fast Charge,Ai Enc,45Ms Low Latency,Ip55 Dust&Water Resistannt&Bluetooth V 5.4 Green",
           3.276
          ],
          [
           "realme Buds Wireless 3 Neo in Ear Bluetooth Neckband with 13.4 Mm Dynamic Bass Boost Driver,Upto 32 Hours Playback,Fast Charge,Ai Enc,45Ms Low Latency,Ip55 Dust&Water Resistannt&Bluetooth V 5.4 Blue",
           4.186
          ],
          [
           "realme Buds Wireless 3 Neo in Ear Bluetooth Neckband with 13.4 Mm Dynamic Bass Boost Driver,Upto 32 Hours Playback,Fast Charge,Ai Enc,45Ms Low Latency,Ip55 Dust&Water Resistannt&Bluetooth V 5.4 Black",
           3.458
          ],
          [
           "realme Buds T200 Lite Bluetooth in Ear Earbuds,4 Mic, AI ENC for Calls,48 Hours Total Playback with Fast Charging and Ultra Low Latency Gaming TWS,Google Fast Pair,with mic (Storm Grey)",
           2.859
          ],
          [
           "realme Buds T200 Lite Bluetooth in Ear Earbuds,4 Mic, AI ENC for Calls,48 Hours Total Playback with Fast Charging and Ultra Low Latency Gaming TWS,Google Fast Pair,with mic (Aurora Purple)",
           2.859
          ],
          [
           "realme Buds T200 Lite Bluetooth in Ear Earbuds,4 Mic, AI ENC for Calls,48 Hours Total Playback with Fast Charging and Low Latency Gaming TWS,Google Fast Pair, with mic (Volt Black)",
           2.859
          ],
          [
           "realme Buds Air 7, 12.4mm Dynamic Bass Drivers,52Hrs Playtime, 52dB Hybrid ANC,6 Mic ENC, 45ms Low Latency, 360° Spatial Audio, Hi-Res LHDC, IP55 Dust & Water Resistant, BT v5.4(SlateGrey)",
           1.273
          ]
         ],
         "hovertemplate": "Brand=realme<br>Price (₹)=%{x}<br>Customer Rating=%{y}<br>Review_Count=%{marker.size}<br>Title=%{customdata[0]}<br>Value_Score=%{customdata[1]}<extra></extra>",
         "legendgroup": "realme",
         "marker": {
          "color": "#FF97FF",
          "size": [
           149018,
           324,
           19192,
           26181,
           26181,
           1684,
           1684,
           2529,
           2529,
           324,
           11178,
           11178,
           11178,
           11178,
           26181,
           26181,
           26181,
           806,
           806,
           806,
           181,
           181,
           181,
           4,
           5,
           41,
           26181,
           26181,
           26181,
           181
          ],
          "sizemode": "area",
          "sizeref": 1047.575,
          "symbol": "circle"
         },
         "mode": "markers",
         "name": "realme",
         "orientation": "v",
         "showlegend": true,
         "type": "scatter",
         "x": [
          798,
          1099,
          1598,
          1299,
          1299,
          3299,
          3299,
          4499,
          4499,
          1099,
          1999,
          1999,
          1999,
          2199,
          1299,
          1299,
          1299,
          1599,
          1599,
          1599,
          3299,
          3299,
          3299,
          1099,
          1099,
          1099,
          1399,
          1399,
          1399,
          3299
         ],
         "xaxis": "x",
         "y": [
          4.3,
          3.6,
          4.2,
          4,
          4,
          4,
          4,
          4.1,
          4.1,
          3.6,
          4.1,
          4.1,
          4.1,
          4.1,
          4,
          4,
          4,
          3.7,
          3.7,
          3.7,
          4.2,
          4.2,
          4.2,
          3.6,
          4.6,
          3.8,
          4,
          4,
          4,
          4.2
         ],
         "yaxis": "y"
        },
        {
         "customdata": [
          [
           "Jabra Evolve 20 Ms Stereo in Ear, Wired, Black, Pack of 1",
           0.806
          ],
          [
           "Jabra Evolve 10, Over The Ear Noise Cancellation Headset",
           1.229
          ]
         ],
         "hovertemplate": "Brand=Jabra<br>Price (₹)=%{x}<br>Customer Rating=%{y}<br>Review_Count=%{marker.size}<br>Title=%{customdata[0]}<br>Value_Score=%{customdata[1]}<extra></extra>",
         "legendgroup": "Jabra",
         "marker": {
          "color": "#FECB52",
          "size": [
           697,
           26
          ],
          "sizemode": "area",
          "sizeref": 1047.575,
          "symbol": "circle"
         },
         "mode": "markers",
         "name": "Jabra",
         "orientation": "v",
         "showlegend": true,
         "type": "scatter",
         "x": [
          4839,
          3499
         ],
         "xaxis": "x",
         "y": [
          3.9,
          4.3
         ],
         "yaxis": "y"
        },
        {
         "customdata": [
          [
           "boAt Bassheads 100 in Ear Wired Headphones Earphones with Mic (Furious Red)",
           11.748
          ],
          [
           "Boat BassHeads 100 in-Ear Headphones with Mic (Black)",
           12.059
          ],
          [
           "boAt BassHeads 100 in-Ear Wired Headphones with Mic (White)",
           11.748
          ],
          [
           "boAt Airdopes 131/138 with 60 Hrs Playback, ASAP Charge Truly Wireless Bluetooth in Ear Earbuds with Mic (Active Black)",
           4.506
          ],
          [
           "boAt Airdopes 131 Bluetooth Truly Wireless in Ear Earbuds with Mic (Midnight Blue)",
           4.506
          ],
          [
           "boAt Airdopes 163 in Ear Earbuds with 40 HRS Battery, Bluetooth, Fast Charge, 13mm Drivers, IPX5, Quick Touch Response Control (Active Black)",
           3.804
          ],
          [
           "boAt Airdopes 163/ Airdopes 161 Bluetooth in Ear Earbuds with 40 HRS Battery, Fast Charge, 13mm Drivers, IPX5, Quick Touch Response Control (Bold Blue)",
           3.804
          ],
          [
           "Boat Rockerz 450/450R, 15 HRS Battery, 40mm Drivers, Padded Ear Cushions, Integrated Controls, Dual Modes, Bluetooth Headphones, Wireless Headphone with Mic (Luscious Black)",
           2.859
          ],
          [
           "boAt Bassheads 102 in Ear Wired Earphones with Mic(Charcoal Black)",
           8.216
          ],
          [
           "Boat Bassheads 242 in Ear Wired Earphones with Mic(Active Black)",
           8.216
          ],
          [
           "boAt Rockerz 255 Pro in Ear Bluetooth Neckband with Upto 10 Hours Playback, ASAP™ Charge, IPX5, Signature Sound & Integrated Controls(Navy Blue)",
           2.931
          ],
          [
           "boAt Rockerz 550 Bluetooth Wireless Over Ear Headphones with Mic Upto 20 Hours Playback, 50MM Drivers, Soft Padded Ear Cushions and Physical Noise Isolation (Red)",
           2.223
          ],
          [
           "boAt Rockerz 550/Rockerz 558 Over Ear Bluetooth Headphones with Upto 20 Hours Playback, 50MM Drivers, Soft Padded Ear Cushions and Physical Noise Isolation(Black)",
           2.502
          ],
          [
           "boAt Rockerz 450, 15 HRS Battery, 40mm Drivers, Padded Ear Cushions, Integrated Controls, Dual Modes, On Ear Bluetooth Headphones, Wireless Headphone with Mic (Hazel Beige)",
           2.859
          ],
          [
           "Boat Rockerz 450, 15 HRS Battery, 40mm Drivers, Padded Ear Cushions, Integrated Controls, Dual Modes, Bluetooth Headphones, Wireless Headphone with Mic (Aqua Blue)",
           2.859
          ],
          [
           "boAt Bassheads 242 in Ear Wired Earphones with Mic(Blue)",
           8.216
          ],
          [
           "boAt Rockerz 550 Bluetooth Wireless Over Ear Headphones with Upto 20 Hours Playback, 50MM Drivers, Soft Padded Ear Cushions and Physical Noise Isolation with Mic (Maroon Maverick)",
           2.223
          ],
          [
           "boAt Rockerz 550 Over Ear Bluetooth Headphones with Upto 20 Hours Playback, 50MM Drivers, Soft Padded Ear Cushions and Physical Noise Isolation, Without Mic (Army Green)",
           2.223
          ],
          [
           "Boat Rockerz 550 Bluetooth Wireless Over Ear Headphones with Upto 20 Hours Playback, 50MM Drivers, Soft Padded Ear Cushions and Physical Noise Isolation with Mic (Black Symphony)",
           2.223
          ],
          [
           "boAt Rockerz 255 Pro+, 60HRS Battery, Fast Charge, IPX7, Dual Pairing, Low Latency, Magnetic Earbuds, in Ear Bluetooth Neckband, Wireless with Mic Earphones (Teal Green)",
           3.002
          ],
          [
           "boAt Rockerz 255 Pro+, 60HRS Battery, Fast Charge, IPX7, Dual Pairing, Low Latency, Magnetic Earbuds, in Ear Bluetooth Neckband, Wireless with Mic Earphones (Navy Blue)",
           3.002
          ],
          [
           "Boat Rockerz 255 Pro+, 60HRS Battery, Fast Charge, IPX7, Dual Pairing, Low Latency, Magnetic Earbuds, Bluetooth Neckband, Wireless with Mic Earphones (Active Black)",
           3.336
          ],
          [
           "boAt Rockerz 450 Pro Bluetooth On Ear Headphones with Mic with 70 Hours Battery, 40Mm Drivers, Bluetooth V5.0 Padded Ear Cushions, Easy Access Controls and Voice Assistant(Luscious Black)",
           2.354
          ],
          [
           "Boat Rockerz 450 Pro Bluetooth Wireless On Ear Headphones with Mic with 70 Hours Battery, 40Mm Drivers, Bluetooth V5.0 Padded Ear Cushions, Easy Access Controls and Voice Assistant(Hazel Beige)",
           2.354
          ],
          [
           "Boat Rockerz 450 Pro Bluetooth Wireless On Ear Headphones with Mic with 70 Hours Battery, 40Mm Drivers, Bluetooth V5.0 Padded Ear Cushions, Easy Access Controls and Voice Assistant(Aqua Blue)",
           1.74
          ],
          [
           "boAt Bassheads 105 Wired in Ear Earphones with Mic (Blue)",
           10.025
          ],
          [
           "boAt Bassheads 105 Wired in Ear Earphones with Mic (Black)",
           10.025
          ],
          [
           "boAt bassheads 105 Wired in Ear Earphones with Mic (Green)",
           10.025
          ],
          [
           "boAt Bassheads 105 Wired in Ear Earphones with Mic (Green, Spirit Lime)",
           10.025
          ],
          [
           "Boat Airdopes 141, Low Latency, ENx Tech, 42HRS Battery, Fast Charge, IWP, IPX4, v5.1 Bluetooth Earbuds, TWS Ear Buds Wireless Earphones with mic (Bold Black)",
           3.804
          ],
          [
           "Boat Rockerz 330 Pro in-Ear Bluetooth Neckband with 60HRS Playtime, ASAP Charge, ENx Tech, Signature Sound, BT v5.2, Dual Pairing, IPX5, with Mic (Active Black)",
           3.336
          ],
          [
           "Boat Airdopes 141, Low Latency, ENx Tech, 42HRS Battery, Fast Charge, IWP, IPX4, v5.1 Bluetooth Earbuds, TWS Ear Buds Wireless Earphones with mic (Cider Cyan)",
           3.804
          ],
          [
           "boAt Airdopes 141, Low Latency, ENx Tech, 42HRS Battery, Fast Charge, IWP, IPX4, v5.1 Bluetooth Earbuds, TWS Ear Buds Wireless Earphones with mic (Pure White)",
           3.804
          ],
          [
           "Boat Airdopes 411ANC in Ear TWS Earbuds with Active NoiseCancellation, Upto 17.5 Hours Playback and ASAP Charge(Grey Hurricane)",
           2.43
          ],
          [
           "Boat Airdopes 181 in-Ear True Wireless Earbuds with ENx Tech, Beast Mode(Low Latency Upto 60ms) for Gaming, with Mic, ASAP Charge, 20H Playtime, Bluetooth v5.2, IPX4 & IWP (Bold Blue)",
           4.94
          ],
          [
           "boAt Rockerz 425 Bluetooth Wireless Over Ear Headphones with Mic with Signature Sound, Beast Mode(Upto 65Ms Low Latency) for Gaming Enx Tech, ASAP Charge 25H Playtime V5.2, Dual Pairing (Oceana Blue)",
           3.003
          ],
          [
           "boAt Rockerz 425 Bluetooth Wireless On Ear Headphones Signature Sound, Enx Tech, ASAP Charge, 25H Playtime, Bluetooth V5.2, Dual Pairing with Mic (Ash Grey)",
           3.003
          ],
          [
           "Boat Rockerz 425 Bluetooth Wireless Over Ear Headphones with Mic and Boat Signature Sound, Beast Mode for Gaming, Enx Tech, ASAP Charge, 25H Playtime, Bluetooth V5.2 (Active Black)",
           3.161
          ],
          [
           "Boat Airdopes 121 PRO Truly Wireless in Ear Ear Buds w/Quad Mic ENx, Low Latency Mode for Gaming, 50H Playtime, IWP, IPX4, Battery Indicator Screen(Active Black)",
           4.631
          ],
          [
           "boAt Rockerz 245 pro Bluetooth in Ear Neckband with Beast Mode(Super Low Latency) for Gaming, ENx Tech for Clear Calls, ASAP Charge, 20HRS Playtime,IPX4, Dual Pairing & BT v5.3(Oceana Grey)",
           3.604
          ],
          [
           "Boat Immortal 121 TWS Earbuds with Beast™ Mode(40ms Low Latency) for Gaming, 40H Playtime, Blazing LEDs, Quad Mics ENx™, Boat Signature Sound, ASAP™ Charge(10 Mins= 180 Mins)(White Sabre)",
           3.893
          ],
          [
           "Boat Rockerz Trinity in Ear Earphones with 150H Playtime, Crystal Bionic Sound Powered by HiFi, Signature Sound, Beast™ Mode, ENx™ Tech, ASAP™ Charge,IPX5,Dual Pairing(Cosmic Black)",
           2.573
          ],
          [
           "Boat Nirvana Ion, 120HRS Battery, Crystal Bionic Sound w/Dual EQ Modes, 4Mics ENx, App Support, Low Latency, IPX4, v.5.2 Bluetooth Earbuds, TWS Ear Buds Wireless Earphones with mic (Ivory White)",
           2.297
          ],
          [
           "boAt Nirvana Ion, 120HRS Battery, Crystal Bionic Sound w/Dual EQ Modes, 4Mics ENx, App Support, Low Latency, IPX4, v.5.2 Bluetooth Earbuds, TWS Ear Buds Wireless Earphones with mic (Charcoal Black)",
           2.297
          ],
          [
           "Boat Rockerz 255 Touch Neckband with Full Touch Controls, Spatial Audio, Up to 30H Playtime, ASAP™ Charge, Beast™ Mode, ENx™ Technology(Deep Blue)",
           4.881
          ],
          [
           "boAt Rockerz 255 Touch in Ear Neckband with Full Touch Controls, Spatial Audio, Up to 30H Playtime, ASAP Charge, Beast Mode, Enx Technology(Teal Green)",
           2.788
          ],
          [
           "Boat Airdopes Joy, 35Hrs Battery, Fast Charge, IWP Tech, Low Latency, 2Mic ENx, Type-C Port, v5.3 Bluetooth Earbuds, TWS Ear Buds Wireless Earphones with mic(Jet Black)",
           3.782
          ],
          [
           "boAt Airdopes Joy, 35Hrs Battery, Fast Charge, IWP Tech, Low Latency, 2Mic ENx, Type-C Port, v5.3 Bluetooth Earbuds, TWS Ear Buds Wireless Earphones with mic(Dark Cyan)",
           3.403
          ],
          [
           "boAt Airdopes Joy, 35Hrs Battery, Fast Charge, IWP Tech, Low Latency, 2Mic ENx, Type-C Port, v5.3 Bluetooth Earbuds, TWS Ear Buds Wireless Earphones with mic (Swedish White)",
           3.782
          ],
          [
           "boAt Airdopes 141 ANC (~32dB), 50ms Low Latency, 4Mics ENx, 42Hrs Battery, Fast Charge, IPX5, v5.3 Bluetooth TWS in Ear Earbuds Wireless Earphones with mic (White)",
           2.925
          ],
          [
           "boAt Airdopes 141 ANC(~32dB), 50ms Low Latency, 4Mics ENx,42Hrs Battery, Fast Charge,IPX5, v5.3 Bluetooth TWS in Ear Earbuds Wireless Earphones with mic (Gunmetal Black)",
           2.928
          ],
          [
           "boAt Rockerz 460 Wireless Over Ear Headphones w/Up to 30hrs Playtime, 40mm Drivers, Beast™ Mode, ENx™, Dual Pairing, BT v5.2, Instant Voice Assistant, Adaptive Fit(Active Black)",
           3.336
          ],
          [
           "boAt Rockerz 245 v2 Pro, 30h Battery, ENx Tech, Fast Charge, Dual Pairing, Magnetic Buds, USB Type-C Interface & IPX5, Bluetooth in Ear Neckband, Wireless with Mic Earphones (Teal Green)",
           3.731
          ],
          [
           "Boat Rockerz 245 v2 Pro, 30HRS Battery, ENx Tech, Fast Charge, Low Latency, Dual Pairing, Magnetic Ear Buds, IPX5, Type-C Interface, Bluetooth Neckband, Wireless with Mic Earphones (Active Black)",
           3.64
          ],
          [
           "Boat Rockerz 111, 40HRS Battery, Dual Device Pairing, ENx Tech, Low Latency Mode, Fast Charging, BTv5.3, IPX5, Type-C Interface, Bluetooth Neckband, Wireless with Mic Earphones (Active Black)",
           4.004
          ],
          [
           "boAt Rockerz 111, 40HRS Battery, Dual Device Pairing, ENx Tech, Low Latency Mode, Fast Charging, BTv5.3, IPX5, Type-C Interface, Bluetooth in Ear Neckband, Wireless with Mic Earphones (Ash Grey)",
           4.004
          ],
          [
           "boAt Immortal 181, 40HRS Battery, 4Mics ENx, 40ms Low Latency, RGB Led Lights, Fast Charge, IWP Tech, v5.3 Bluetooth Earbuds, TWS Ear Buds Wireless Earphones with mic, Gaming Earbuds (Black Sabre)",
           2.771
          ],
          [
           "boAt Immortal 181 in Ear TWS Gaming Earbuds with up to 40 hrs Playtime,Quad Mics with ENx Tech,Beast Mode with 40ms Latency,ASAP Charge,IPX4,IWP, RGB LED Lights, BTv5.3(White Sabre)",
           4.506
          ],
          [
           "boAt Immortal 125 TWS in-Ear Earbuds w/up to 40 hrs Playtime, Quad Mics with ENx Tech, Beast Mode with 40 ms Super Low Latency, ASAP Charge, IPX4 Resistance, RGB LED Lights, BT v5.3(Black Sabre)",
           4.38
          ],
          [
           "boAt Nirvana Ion ANC, Active Noise Cancellation(~32dB), 120Hrs Battery, App Support, Crystal Bionic Sound, 4Mics ENx, v5.3 Bluetooth TWS in Ear Earbuds Wireless Earphones with mic (Crystal Black)",
           1.561
          ],
          [
           "boAt Nirvana Ion ANC, Active Noise Cancellation(~32dB), 120Hrs Battery, App Support, Crystal Bionic Sound, 4Mics ENx, v5.3 Bluetooth TWS in Ear Earbuds Wireless Earphones with mic (Quartz White)",
           1.561
          ],
          [
           "boAt Rockerz 110/Rockerz 109 Wireless in Ear Neckband with Up to 60 hrs Playtime, Dual Device Pairing, ENx Tech, ASAP Charging, BTv5.3,IPX5,Type-C Interface & Magnetic Power Buds(Active Black)",
           3.893
          ],
          [
           "boAt Rockerz 110/Rockerz 109 Wireless Neckband with Up to 60 hrs Playtime, Dual Device Pairing, ENx Tech, Beast Mode, ASAP Charging, BTv5.3,IPX5,Type-C Interface & Magnetic Power Buds(Fern Green)",
           4.38
          ],
          [
           "boAt Rockerz 255 Pro+, 60HRS Battery, Fast Charge, IPX7, Dual Pairing, Low Latency, Magnetic Earbuds, in Ear Bluetooth Neckband, Wireless with Mic Earphones (Cosmic Grey)",
           3.002
          ],
          [
           "boAt Rockerz 255 Pro+, 60HRS Battery, Fast Charge, IPX7, Dual Pairing, Low Latency, Magnetic Earbuds, in Ear Bluetooth Neckband, Wireless with Mic Earphones (Moon White)",
           3.002
          ],
          [
           "boAt Airdopes 163/ Airdopes 161 Bluetooth in Ear Earbuds with 40 HRS Battery, Fast Charge, 13mm Drivers, IPX5, Quick Touch Response Control (Ivory White)",
           3.458
          ],
          [
           "boAt Rockerz 235 Pro Wireless Bluetooth Neckband in Ear Earphone, Upto 20 hrs of Playtime, Beast Mode, Low Latency, IPX5 Water & Sweat Resistance, ENx Technology, Bluetooth v5.2(Furious Blue)",
           4.227
          ],
          [
           "boAt Rockerz 235 Pro Wireless Bluetooth Neckband in Ear Earphone, Upto 20 hrs of Playtime, Beast Mode, Low Latency, IPX5 Water & Sweat Resistance, ENx Technology, Bluetooth v5.2(Active Black)",
           4.561
          ],
          [
           "boAt Airdopes 91, 45HRS Battery, 50ms Low Latency, ENx Tech, Fast Charge, IPX4, IWP Tech, v5.3 Bluetooth Earbuds, TWS Ear Buds Wireless Earphones with mic (Starry Blue)",
           4.255
          ],
          [
           "boAt Airdopes 91, 45HRS Battery, 50ms Low Latency, ENx Tech, Fast Charge, IPX4, IWP Tech, v5.3 Bluetooth Earbuds, TWS Ear Buds Wireless Earphones with mic (Active Black)",
           4.255
          ],
          [
           "boAt Airdopes 91, 45HRS Battery, 50ms Low Latency, ENx Tech, Fast Charge, IPX4, IWP Tech, v5.3 Bluetooth Earbuds, TWS Ear Buds Wireless Earphones with mic (Mist Grey)",
           4.309
          ],
          [
           "boAt Rockerz 235 Pro Wireless Bluetooth Neckband in Ear Earphone, Upto 20 hrs of Playtime, Beast Mode, Low Latency, IPX5 Water & Sweat Resistance, ENx Technology, Bluetooth v5.2(Ash Grey)",
           4.227
          ],
          [
           "Boat Rockerz 255 ANC, 100HRS Battery, Spatial Audio, 32dB ANC, Fast Charge(10Mins=24HRS), 3Mics AI-ENx Tech, 13mm Drivers, Bluetooth Neckband, Wireless with Mic Earphones (Marine Blue)",
           2.168
          ],
          [
           "Boat Rockerz 255 ANC, 100HRS Battery, Spatial Audio, 32dB ANC, Fast Charge(10Mins=24HRS), 3Mics AI-ENx Tech, 13mm Drivers, Bluetooth Neckband, Wireless with Mic Earphones (Magenta Pop)",
           2.439
          ],
          [
           "Boat Rockerz 255 ANC, 100HRS Battery, Spatial Audio, ANC(~32dB), Fast Charge(10Mins=24HRS), 3Mics AIENx, 13mm Drivers, Power Earbuds, Bluetooth Neckband, Wireless with Mic Earphones (Raven Black)",
           2.168
          ],
          [
           "boAt Airdopes 311 Pro, 50HRS Battery, Fast Charge, Dual Mics ENx Tech, Transparent LID, Low Latency, IPX4, IWP Tech, v5.3 Bluetooth Earbuds, TWS in ear earbuds Wireless Earphones with mic (Space Grey)",
           3.754
          ],
          [
           "boAt Airdopes 311 Pro, 50HRS Battery, Fast Charge, Dual Mics ENx Tech, Transparent LID, Low Latency, IPX4, IWP Tech, v5.3 Bluetooth Earbuds, TWS Ear Buds Wireless Earphones with mic (Active Black)",
           3.403
          ],
          [
           "boAt Airdopes 311 Pro, 50HRS Battery, Fast Charge, Dual Mics ENx Tech, Transparent LID, Low Latency, IPX4, IWP Tech, v5.3 Bluetooth Earbuds, TWS in Ear Earbuds Wireless Earphones with mic (Dusk Blue)",
           3.504
          ],
          [
           "boAt Airdopes 800, Dolby Audio, Adaptive EQ by Mimi, 4Mics AI ENx, App Support, Fast Charge, IPX5, v5.3 Bluetooth TWS in Ear Earbuds Wireless Earphones with mic (Interstellar White)",
           2.223
          ],
          [
           "boAt Airdopes 800, Dolby Audio, Adaptive EQ by Mimi, 4Mics AI ENx, App Support, Fast Charge, Low Latency, IPX5, v5.3 Bluetooth TWS in Ear Earbuds Wireless Earphones with mic (Interstellar Blue)",
           2.223
          ],
          [
           "Boat Airdopes 800, Dolby Audio, Adaptive EQ by Mimi, 4Mics AI ENx, App Support, Fast Charge, Low Latency, IPX5, v5.3 Bluetooth Earbuds, TWS Ear Buds Wireless Earphones with mic (Interstellar Black)",
           2.668
          ],
          [
           "boAt Airdopes 800, Dolby Audio, Adaptive EQ by Mimi, 4Mics AI ENx, App Support, Fast Charge, Low Latency, IPX5, v5.3 Bluetooth TWS in Ear Earbuds Wireless Earphones with mic (Interstellar Green)",
           2.223
          ],
          [
           "boAt Airdopes 300, Cinematic Spatial Audio, 50HRS Battery, 4Mic AI ENx, Fast Charge, App Support, Low Latency, IPX4, v5.3 Bluetooth Earbuds, TWS Ear Buds Wireless Earphones with mic (Gunmetal Black)",
           2.67
          ],
          [
           "boAt Airdopes 300, Cinematic Spatial Audio, 50HRS Battery, 4Mic AI ENx, Fast Charge, App Support, Low Latency, IPX4, v5.3 Bluetooth TWS in Ear Earbuds Wireless Earphones with mic (Chrome White)",
           2.67
          ],
          [
           "boAt Airdopes 300, Cinematic Spatial Audio, 50H Battery, 4Mic AI ENx, Fast Charge, App Support, Low Latency, IPX4, v5.3 Bluetooth Earbuds, TWS in Ear Earbuds Wireless Earphones with mic (Purple Haze)",
           2.668
          ],
          [
           "boAt Airdopes 121 Pro Plus, 100HRS Battery, 4Mics ENx, 50ms Low Latency, Fast Charge, LED Display, IPX5, v5.3 Bluetooth in Ear Earbuds, TWS Ear Buds Wireless Earphones with mic (Blue)",
           3.704
          ],
          [
           "boAt Airdopes 121 Pro Plus, 100HRS Battery, 4Mics ENx, 50ms Low Latency, Fast Charge, LED Display, IPX5, v5.3 Bluetooth in Ear Earbuds, TWS Ear Buds Wireless Earphones with mic (Black)",
           3.367
          ],
          [
           "boAt Nirvana Space, 360º Spatial Audio, Active Noise Cancellation (~32dB), 100Hrs Battery,4Mics ENx, Fast Charge, v5.3 Bluetooth Earbuds, TWS Ear Buds Wireless Earphones with mic (Cosmic Black)",
           1.906
          ],
          [
           "boAt Nirvana Space, 360 Spatial Audio, Active Noise Cancellation (~32dB), 100Hrs Battery,4Mics ENx, Fast Charge, v5.3 Bluetooth TWS in Ear Earbuds Wireless Earphones with mic (Celestial White)",
           1.906
          ],
          [
           "boAt Airdopes Atom 81 Pro, 100Hrs Battery, 4Mics ENx Tech, 50ms Low Latency, 13mm Drivers, Fast Charge, IPX5, v5.1 Bluetooth TWS in Ear Earbuds Wireless Earphones with mic (Obsidian Noir)",
           3.671
          ],
          [
           "boAt BassHeads 122 ANC Wired in-Ear Earphones with 25dB Active Noise Cancellation, 13mm Drivers, Ambient Mode, Type-C Jack, in-Line Microphone, Snug Fit & Multi-OS Compatibility(Black)",
           3.303
          ],
          [
           "boAt Rockerz 460 Wireless Over Ear Headphones W/Up to 30Hrs Playtime, 40Mm Drivers, Signature Sound, Beast Mode, Enx, Dual Pairing, Bt V5.2, Instant Voice Assistant, Adaptive Fit(Bold Blue)",
           3.253
          ],
          [
           "boAt Rockerz 460 Wireless Over Ear Headphones w/Up to 30hrs Playtime, 40mm Drivers, Beast™ Mode, ENx™, Dual Pairing, BT v5.2, Instant Voice Assistant, Adaptive Fit(Crimson White)",
           3.42
          ],
          [
           "boAt Airdopes 280 ANC, Active Noise Cancellation(~32dB), 60Hrs Battery, 13mm Drivers, 4Mics ENx, Fast Charge, IPX5, v5.3 Bluetooth Earbuds, TWS Ear Buds Wireless Earphones with mic (Active Black)",
           2.802
          ],
          [
           "boAt Airdopes 280 ANC, Active Noise Cancellation(~32dB), 60Hrs Battery, 13mm Drivers, 4Mics ENx, Fast Charge, IPX5, v5.3 Bluetooth Earbuds, TWS Ear Buds Wireless Earphones with mic (Mint Blue)",
           2.335
          ],
          [
           "boAt Rockerz 255 Z Plus, AI-ENx Tech, Spatial Audio, 50HRS Battery, Low Latency Mode, Fast Charge, App Support, IPX4, GFPS, BT v5.3, Bluetooth Neckband, Wireless with Mic Earphones (Slate Grey)",
           3.904
          ],
          [
           "boAt Rockerz 255 Z Plus, AI-ENx Tech, Spatial Audio, 50HRS Battery, Low Latency Mode, Fast Charge, App Support, IPX4, GFPS, BT v5.3, Bluetooth Neckband, Wireless with Mic Earphones (Classic Black)",
           3.549
          ],
          [
           "boAt Rockerz 255 Z Plus, AI-ENx Tech, Spatial Audio, 50HRS Battery, Low Latency Mode, Fast Charge, App Support, IPX4, GFPS, BT v5.3, Bluetooth Neckband, Wireless with Mic Earphones (Pine Green)",
           3.002
          ],
          [
           "boAt Airdopes 191 ANC, 32dB ANC, Ambient Mode, 60HRS Battery, 4Mics ENx, in-Ear Detection, IWP Tech, Fast Charge, v5.3 Bluetooth Earbuds, TWS Ear Buds Wireless Earphones with mic (Pellucid White)",
           2.217
          ],
          [
           "boAt Airdopes Progear Open-Ear Ear Buds for Outdoor Sports W/Air Conduction Tech, in Ear, 4 Mics W/Ai-Enx, 100Hrs Playback, 15Mm Drivers, Secure Fit,Beast Mode W/ 40Ms Latency, ASAP Charge Green",
           2.001
          ],
          [
           "boAt Bassheads 100 C Wired Headphones Earphones with Type-C Jack, in-Line Microphone, in Ear, 10Mm Drivers, Signature Sound, Integrated Controls & Multi-Os Compatibility (Black)",
           7.468
          ],
          [
           "Boat Newly Launched BassHeads 100 C Wired Earphones with Type-C Jack, in-Line Microphone, 10mm Drivers, Signature Sound, Integrated Controls & Multi-OS Compatibility(Maroon)",
           5.866
          ],
          [
           "Boat Newly Launched BassHeads 100 C Wired Earphones with Type-C Jack, in-Line Microphone, 10mm Drivers, Signature Sound, Integrated Controls & Multi-OS Compatibility(Navy Blue)",
           6.845
          ],
          [
           "Boat Newly Launched BassHeads 100 C Wired Earphones with Type-C Jack, in-Line Microphone, 10mm Drivers, Signature Sound, Integrated Controls & Multi-OS Compatibility(Grey)",
           5.866
          ],
          [
           "boAt Rockerz 150 Pro Bluetooth Neckband in Ear Earphones w/ 150hrs Playback, Dual EQ Modes, Crystal Bionic Sound by HiFi DSP 5, AI-ENx Technology, Dual Pairing,Beast Mode,ASAP Charge(Green)",
           2.502
          ],
          [
           "boAt Rockerz 210 ANC Bluetooth in Ear Neckband w/Spatial Audio, 30dB ANC, AI-ENx Technology, 40hrs Playback, EQ Modes, 13 mm Drivers, Dual Pairing & Fast Pair(Cosmic Blue)",
           2.335
          ],
          [
           "boAt Nirvana Ivy, 50dB Hybrid Active Noise Cancellation, 360º Spatial Audio,Fast Charge,App Support, v5.3 Bluetooth Earbuds, TWS Ear Buds Wireless Earphones with mic (Gunmetal White)",
           1.152
          ],
          [
           "boAt Rockerz 210 ANC Bluetooth in Ear Neckband w/Spatial Audio, 30dB ANC, AI-ENx Technology, 40hrs Playback, EQ Modes, 13 mm Drivers, Dual Pairing & Fast Pair(Onyx Black)",
           2.335
          ],
          [
           "boAt Nirvana Ivy, 50dB Hybrid Active Noise Cancellation, 360º Spatial Audio,Fast Charge,App Support, v5.3 Bluetooth Earbuds, TWS Ear Buds Wireless Earphones with mic (Gunmetal Black)",
           1.152
          ],
          [
           "boAt Rockerz 150 Pro Bluetooth Neckband in Ear Earphones w/ 150hrs Playback, Dual EQ Modes, Crystal Bionic Sound by HiFi DSP 5, AI-ENx Technology, Dual Pairing,Beast Mode,ASAP Charge(Black)",
           2.502
          ],
          [
           "boAt Nirvana Space, 360 Spatial Audio, Active Noise Cancellation (~32dB), 100Hrs Battery,4Mics ENx, Fast Charge, v5.3 Bluetooth TWS in Ear Earbuds Wireless Earphones with mic (Pink Punch)",
           1.906
          ],
          [
           "boAt Nirvana Space, 360º Spatial Audio, Active Noise Cancellation (~32dB), 100Hrs Battery,4Mics ENx, Fast Charge, v5.3 Bluetooth Earbuds, TWS Ear Buds Wireless Earphones with mic (Infinity Blue)",
           1.906
          ],
          [
           "boAt Rockerz 425 Bluetooth Headphones Wireless On Ear Headphones Signature Sound, Enx Tech, ASAP Charge, 25H Playtime, Bluetooth Headphones V5.2, Dual Pairing with Mic(Techno Purple)",
           3.604
          ],
          [
           "boAt Rockerz 425 Bluetooth Wireless On Ear Headphones Signature Sound, ENx Tech, ASAP Charge, 25H Playtime, Bluetooth V5.2, Dual Pairing with Mic(Fiery Red)",
           3.003
          ],
          [
           "boAt Rockerz 480 w/RGB LEDs, 6 Light Modes, 40mm Drivers, Beast Mode, 60hrs Playback, ENx Tech, BT v5.3, Adaptive Fit & Easy Access Controls, Bluetooth Headphones(Black Sabre)",
           2.376
          ],
          [
           "boAt Rockerz 430 w/ 40mm Drivers, Beast Mode w/ 40ms Latency, 40hrs Playback, ENx Tech, Voice Assistant, BTv5.4, Adaptive Fit & Easy Access Controls, Bluetooth Over Ear Headphones(Black Sabre)",
           2.966
          ],
          [
           "boAt Airdopes 141 Pro Buds, 13mm Drivers, Metallic Finish, 60HRS Battery, 4Mics ENx, Fast Charge, IPX5, v5.3 Bluetooth TWS in Ear Earbuds Wireless Earphones with mic (Obsidian Black)",
           4.227
          ],
          [
           "boAt New Launch Rockerz 551 ANC Pro, 42dB Hybrid Adaptive ANC, App Support, 72Hrs Battery, 40mm Titanium Drivers,ENx Tech,Foldable Cups Bluetooth Over Ear Headphones with Mic (Cosmic Black)",
           0.974
          ],
          [
           "boAt Rockerz 480 w/RGB LEDs, 6 Light Modes, 40mm Drivers, Beast Mode, 60hrs Playback, ENx Tech, BT v5.3, Adaptive Fit & Easy Access Controls, Bluetooth Headphones(White Sabre)",
           2.376
          ],
          [
           "boAt New Launch Nirvana Crystl, Transparent Case,Spatial Audio, ANC(~32dB), 100Hrs Battery,4Mics ENx, Dual Pair,App Support, Bluetooth Earbuds, TWS Ear Buds Wireless Earphones with mic (Blazing Red)",
           2.075
          ],
          [
           "boAt Airdopes 800 HiDef, Hi-Res Audio LDAC, 4Mic ENx, App Support, ASAP Charge, IPX5, Low Latency, Dual Pairing, BTv5.3, Bluetooth TWS in Ear Earbuds Wireless Earphones (Graphite Grey)",
           2.223
          ],
          [
           "boAt Airdopes 141 Pro Buds, 13mm Drivers, Metallic Finish, 60HRS Battery, 4Mics ENx, Fast Charge, IPX5, v5.3 Bluetooth Earbuds, TWS Ear Buds Wireless Earphones with mic (Martian Green)",
           4.255
          ],
          [
           "boAt New Launch Nirvana Crystl, Transparent Case,Spatial Audio, ANC(~32dB), 100Hrs Battery,4Mics ENx, Dual Pair,App Support, Bluetooth Earbuds, TWS Ear Buds Wireless Earphones with mic (Quantum Black)",
           2.075
          ],
          [
           "boAt Rockerz 430 w/ 40mm Drivers, Beast Mode w/ 40ms Latency, 40hrs Playback, ENx Tech, Voice Assistant, BTv5.4, Adaptive Fit & Easy Access Controls, Bluetooth Headphones(Sage Green)",
           2.669
          ],
          [
           "boAt Rockerz 430, 40mm Drivers, Beast Mode (40ms Latency), 40hrs Playback, ENx Tech, Voice Assistant, BTv5.4, Adaptive Fit & Easy Access Controls, Bluetooth Over Ear Headphones(Bold Blue)",
           2.669
          ],
          [
           "boAt BassHeads 162 V2 Wired Earphones with 10mm Drivers, Metallic Earbuds, Integrated Controls, in-Line Microphone, Ergonomic Fit, Braided Cable & 3.5mm Jack(Bold Black)",
           7.769
          ],
          [
           "boAt BassHeads 162 V2 Wired Earphones with 10mm Drivers, Metallic Earbuds, Integrated Controls, in-Line Microphone, Ergonomic Fit, Braided Cable & 3.5mm Jack(Calm Blue)",
           7.769
          ],
          [
           "boAt Bassheads 900 Pro Wired Headphones with 40Mm Drivers, Lightweight Foldable Design, Over Ear, Remote Control, Unidirectional Retractable Mic, Adjustable Headband & USB Type-A Compatibility(Black)",
           4.672
          ],
          [
           "boAt Rockerz 280 ANC w/Crystal Bionic Sound Powered by Dirac Opteo, Active Noise Cancellation, 13mm Drivers, ASAP Charge, 24H Playback & ENx Tech in- Ear Bluetooth Neckband(Gunmetal Black)",
           2.925
          ],
          [
           "boAt Airdopes Drift TWS Earbuds w/ 40hrs Playback, Beast Mode with 40ms Latency, 4 Mics with ENx, Car-Shaped ID with RGB LEDs, ASAP Charge, IWP Tech, BT v5.4 & IPX4 Resistance(White Sabre)",
           3.276
          ],
          [
           "boAt Airdopes 301 TWS Earbuds w/ 75 hrs Playtime, Quad Mics with ENx, ASAP Charge, IWP Tech, Beast Mode with 50ms Low Latency, 10mm Drivers, Bluetooth v5.3 & IPX5 Resistance(Sunset Blush)",
           3.276
          ],
          [
           "boAt Nirvana Lucid w/ 32 dB ANC, Multi-Point Connectivity, in-Ear Detection, 60HRS Playback, Hearables App, 4 Mics ENx, IPX5 Truly Wireless in Ear Earbuds, TWS Ear Buds(Gunmetal Black)",
           1.751
          ],
          [
           "boAt Nirvana Lucid w/ 32 dB ANC, Multi-Point Connectivity, in-Ear Detection, 60HRS Playback, Hearables App, 4 Mics ENx, IPX5 Truly Wireless in Ear Earbuds, TWS Ear Buds(Zinc White)",
           2.06
          ],
          [
           "boAt Nirvana Ion ANC Pro, Hi-Res Audio LDAC,ANC(~32dB), 120Hrs Battery, App Support, Fast Charge, v5.3 Bluetooth TWS in Ear Earbuds Wireless Earphones with mic (Blazing Comet)",
           1.393
          ],
          [
           "boAt Nirvana Ion ANC Pro, Hi-Res Audio LDAC,ANC(~32dB), 120Hrs Battery, App Support, Fast Charge, v5.3 Bluetooth TWS in Ear Earbuds Wireless Earphones with mic (Northern Lights)",
           1.393
          ],
          [
           "boAt Nirvana Ion ANC Pro, Hi-Res Audio LDAC,ANC(~32dB), 120Hrs Battery, App Support, Fast Charge, v5.3 Bluetooth TWS in Ear Earbuds Wireless Earphones with mic (Rose Quartz)",
           1.393
          ],
          [
           "boAt Nirvana Iris Truly Wireless in Ear Ear Buds w/Up to 32 dB Active Noise Cancellation,120 Hrs Playback,Crystal Bionic Sound Powered by HiFi,Beast Mode,ENx Tech,Hearables App(Crystal Black)",
           2.001
          ],
          [
           "boAt Nirvana Ion ANC, Active Noise Cancellation(~32dB), 120Hrs Battery, App Support, Crystal Bionic Sound, 4Mics ENx, v5.3 Bluetooth Earbuds, TWS Ear Buds Wireless Earphones with mic (Blazing Comet)",
           1.696
          ],
          [
           "boAt Nirvana Ion ANC, Active Noise Cancellation(~32dB), 120Hrs Battery, App Support, Crystal Bionic Sound, 4Mics ENx, v5.3 Bluetooth Earbuds, TWS Ear Buds Wireless Earphones with mic (Rose Quartz)",
           1.696
          ],
          [
           "boAt Airdopes 111v2, Premium Leather Finish, 4Mics ENx, 50HRS Battery, 13mm Drivers, Fast Charge, Dual Pair, v5.4 Bluetooth TWS in Ear Earbuds Wireless Earphones with mic (Classic Black)",
           3.169
          ],
          [
           "boAt Airdopes 91 Prime, 45HRS Battery, 13mm Drivers, Metallic Finish, Low Latency,ENx Tech, Fast Charge, v5.3 Bluetooth Earbuds, TWS Ear Buds Wireless Earphones with mic (Sonic Silver)",
           4.864
          ],
          [
           "boAt Airdopes 91 Prime, 45HRS Battery, 13mm Drivers, Metallic Finish, Low Latency,ENx Tech, Fast Charge, v5.3 Bluetooth TWS in Ear Earbuds Wireless Earphones with mic (Midnight Black)",
           4.864
          ],
          [
           "boAt Airdopes 111v2, Premium Leather Finish, 4Mics ENx, 50HRS Battery, 13mm Drivers, Fast Charge, Dual Pair, v5.4 Bluetooth Earbuds, TWS Ear Buds Wireless Earphones with mic (Ivory White)",
           3.169
          ],
          [
           "boAt Airdopes Ultra Pro (2025), 100Hrs Battery, Dual Pairing, Spatial Audio, App Support, Fast Charge, 4Mics ENx, v5.3 Bluetooth Earbuds,TWS Ear Buds Wireless Earphones with mic (Gunmetal Black)",
           2.201
          ],
          [
           "boAt Airdopes Ultra Pro (2025), 100Hrs Battery, Dual Pairing, Spatial Audio, App Support, Fast Charge, 4Mics ENx, v5.3 Bluetooth Earbuds, TWS Ear Buds Wireless Earphones with mic (Zinc White)",
           2.446
          ],
          [
           "boAt BassHeads 95 (2025) Wired Earphones with 10mm Drivers, Signature Sound, in-Line Microphone, Integrated Controls, Snug Fit, Lightweight, Voice Assistant, 120cm Cable & 3.5mm Jack(Active Black)",
           10.368
          ],
          [
           "boAt Nirvana X TWS (2025), Knowles Dual Drivers,Hi-Res Audio LDAC,App Support,ENx,Dual Pair,Spatial Audio,Fast Charge, Bluetooth Earbuds, TWS Ear Buds Wireless Earphones with mic (Galactic Red)",
           1.601
          ],
          [
           "boAt Nirvana X TWS (2025), Knowles Dual Drivers,Hi-Res Audio LDAC,App Support,ENx,Dual Pair,Spatial Audio,Fast Charge, Bluetooth Earbuds, TWS Ear Buds Wireless Earphones with mic (Smoky Amethyst)",
           1.601
          ],
          [
           "boAt Nirvana X TWS (2025),Knowles Dual Drivers,Hi-Res Audio LDAC,App Support,4Mic ENx,Dual Pair,Spatial Audio,Fast Charge, Bluetooth Earbuds, TWS Ear Buds Wireless Earphones with mic (Cosmic Onyx)",
           1.601
          ],
          [
           "boAt Nirvana X TWS (2025),Knowles Dual Drivers,Hi-Res Audio LDAC,App Support,4Mics ENx,Dual Pair, Spatial Audio,Fast Charge, Bluetooth Earbuds, TWS Ear Buds Wireless Earphones with mic (Mist Blue)",
           1.601
          ],
          [
           "boAt Airdopes 161 ANC TWS Earbuds w/ 32 dB ANC, 50 hrs Playback, 50 ms Low Latency BEASTTM Mode, IWPTM Tech, Dual EQ Modes, 4 Mics with ENx, ASAP Charge, Bluetooth v5.3(White)",
           2.463
          ],
          [
           "boAt Rockerz 650 Pro (2025), Touch/Swipe Controls, Dolby Audio, 80Hrs Battery, 2Mics ENx, Fast Charge, App Support, Dual Pair, Bluetooth Headphones, Wireless Headphone with Mic (Sage Green)",
           1.429
          ],
          [
           "boAt Rockerz 650 Pro (2025), Touch/Swipe Controls, Dolby Audio, 80Hrs Battery, 2Mics ENx, Fast Charge, App Support, Dual Pair, Bluetooth Headphones, Wireless Headphone with Mic (Starry Night)",
           1.429
          ],
          [
           "boAt New Launch Rockerz 650 Pro, Touch/Swipe Controls, Dolby Audio, 80Hrs Battery, 2Mics ENx, Fast Charge, App Support, Dual Pair, Bluetooth Over Ear Headphones with Mic (Iris Black)",
           1.429
          ],
          [
           "boAt New Launch Airdopes Plus 311, Glass Design, Dual Mics ENx, Fast Charge, 50 Hrs Battery, Low Latency, IPX4, Bluetooth Earbuds, TWS Ear Buds Wireless Earphones with mic (Midnight Blue)",
           3.804
          ],
          [
           "boAt New Launch Airdopes Plus 311, Glass Design, Dual Mics ENx, Fast Charge, 50 Hrs Battery, Low Latency, IPX4, Bluetooth Earbuds, TWS Ear Buds Wireless Earphones with mic (Ash Grey)",
           3.804
          ],
          [
           "boAt New Launch Airdopes Plus 311, Glass Design, Dual Mics ENx, Fast Charge, 50 Hrs Battery, Low Latency, IPX4, Bluetooth Earbuds, TWS Ear Buds Wireless Earphones with mic (Crimson Red)",
           3.804
          ],
          [
           "boAt Airdopes Primo in Ear HeadphoneTWS Earbuds with 45 Hours Playback, Fast Charge, Beast Mode, Dual Mics Enx, IPX Bluetooth Earbuds(Active Black)",
           4.255
          ],
          [
           "boAt New Launch Airdopes Plus 311, Glass Design, Dual Mics ENx, Fast Charge, 50 Hrs Battery, Low Latency, IPX4, Bluetooth Earbuds, TWS Ear Buds Wireless Earphones with mic (Charcoal Black)",
           4.227
          ]
         ],
         "hovertemplate": "Brand=boAt<br>Price (₹)=%{x}<br>Customer Rating=%{y}<br>Review_Count=%{marker.size}<br>Title=%{customdata[0]}<br>Value_Score=%{customdata[1]}<extra></extra>",
         "legendgroup": "boAt",
         "marker": {
          "color": "#636efa",
          "size": [
           419030,
           419030,
           419030,
           1020,
           1020,
           730,
           730,
           117220,
           87180,
           177025,
           83688,
           67259,
           67259,
           117220,
           117220,
           177025,
           67259,
           67259,
           67259,
           227051,
           227051,
           227051,
           19569,
           19569,
           19569,
           38294,
           38294,
           38294,
           38294,
           169224,
           14043,
           169224,
           169224,
           93,
           19153,
           3918,
           3918,
           3918,
           23069,
           1976,
           2278,
           4067,
           17220,
           17220,
           227051,
           227051,
           860,
           860,
           860,
           169224,
           169224,
           238,
           2192,
           5672,
           1419,
           1419,
           428,
           58,
           59,
           17220,
           17220,
           549,
           549,
           227051,
           227051,
           730,
           213,
           394,
           6198,
           6198,
           6198,
           213,
           227051,
           227051,
           227051,
           1580,
           4062,
           2118,
           3915,
           3915,
           3915,
           3915,
           4636,
           4636,
           4636,
           23069,
           23069,
           4091,
           4091,
           4197,
           653,
           63,
           98,
           2490,
           2490,
           227051,
           227051,
           227051,
           264,
           1429,
           419030,
           419030,
           419030,
           419030,
           1679,
           1694,
           515,
           1694,
           515,
           1679,
           4091,
           4091,
           3918,
           3918,
           756,
           1063,
           169224,
           126,
           756,
           454,
           3915,
           137,
           454,
           1063,
           1063,
           131,
           131,
           98506,
           64,
           71,
           241,
           245,
           245,
           17220,
           17220,
           17220,
           16,
           17220,
           17220,
           9408,
           6198,
           6198,
           9408,
           328,
           328,
           21,
           504,
           504,
           504,
           504,
           12,
           306,
           306,
           306,
           753,
           753,
           753,
           101,
           753
          ],
          "sizemode": "area",
          "sizeref": 1047.575,
          "symbol": "circle"
         },
         "mode": "markers",
         "name": "boAt",
         "orientation": "v",
         "showlegend": true,
         "type": "scatter",
         "x": [
          349,
          340,
          349,
          799,
          799,
          999,
          999,
          1399,
          499,
          499,
          1399,
          1799,
          1599,
          1399,
          1399,
          499,
          1799,
          1799,
          1799,
          1299,
          1299,
          1169,
          1699,
          1699,
          2299,
          399,
          399,
          399,
          399,
          999,
          1199,
          999,
          999,
          1399,
          749,
          1199,
          1199,
          1139,
          799,
          999,
          899,
          1399,
          1698,
          1698,
          799,
          1399,
          899,
          999,
          899,
          1299,
          1298,
          1199,
          1099,
          1099,
          899,
          899,
          1299,
          799,
          799,
          2499,
          2499,
          899,
          799,
          1299,
          1299,
          1099,
          899,
          899,
          799,
          799,
          789,
          899,
          1799,
          1599,
          1799,
          959,
          999,
          999,
          1799,
          1799,
          1499,
          1799,
          1498,
          1498,
          1499,
          999,
          1099,
          2099,
          2099,
          899,
          999,
          1199,
          1199,
          1249,
          1499,
          999,
          1099,
          1299,
          1398,
          1699,
          549,
          699,
          599,
          699,
          1399,
          1499,
          3299,
          1499,
          3299,
          1399,
          2099,
          2099,
          999,
          1199,
          1599,
          1079,
          899,
          3799,
          1599,
          2169,
          1799,
          799,
          2169,
          1199,
          1199,
          399,
          399,
          899,
          1299,
          1099,
          1099,
          1999,
          1699,
          2799,
          2799,
          2799,
          1999,
          2299,
          2299,
          1199,
          699,
          699,
          1199,
          1999,
          1799,
          299,
          2499,
          2499,
          2499,
          2499,
          1299,
          2799,
          2799,
          2799,
          999,
          999,
          999,
          799,
          899
         ],
         "xaxis": "x",
         "y": [
          4.1,
          4.1,
          4.1,
          3.6,
          3.6,
          3.8,
          3.8,
          4,
          4.1,
          4.1,
          4.1,
          4,
          4,
          4,
          4,
          4.1,
          4,
          4,
          4,
          3.9,
          3.9,
          3.9,
          4,
          4,
          4,
          4,
          4,
          4,
          4,
          3.8,
          4,
          3.8,
          3.8,
          3.4,
          3.7,
          3.6,
          3.6,
          3.6,
          3.7,
          3.6,
          3.5,
          3.6,
          3.9,
          3.9,
          3.9,
          3.9,
          3.4,
          3.4,
          3.4,
          3.8,
          3.8,
          4,
          4.1,
          4,
          3.6,
          3.6,
          3.6,
          3.6,
          3.5,
          3.9,
          3.9,
          3.5,
          3.5,
          3.9,
          3.9,
          3.8,
          3.8,
          4.1,
          3.4,
          3.4,
          3.4,
          3.8,
          3.9,
          3.9,
          3.9,
          3.6,
          3.4,
          3.5,
          4,
          4,
          4,
          4,
          4,
          4,
          4,
          3.7,
          3.7,
          4,
          4,
          3.3,
          3.3,
          3.9,
          4.1,
          3.5,
          3.5,
          3.9,
          3.9,
          3.9,
          3.1,
          3.4,
          4.1,
          4.1,
          4.1,
          4.1,
          3.5,
          3.5,
          3.8,
          3.5,
          3.8,
          3.5,
          4,
          4,
          3.6,
          3.6,
          3.8,
          3.2,
          3.8,
          3.7,
          3.8,
          4.5,
          4,
          3.4,
          4.5,
          3.2,
          3.2,
          3.1,
          3.1,
          4.2,
          3.8,
          3.6,
          3.6,
          3.5,
          3.5,
          3.9,
          3.9,
          3.9,
          4,
          3.9,
          3.9,
          3.8,
          3.4,
          3.4,
          3.8,
          4.4,
          4.4,
          3.1,
          4,
          4,
          4,
          4,
          3.2,
          4,
          4,
          4,
          3.8,
          3.8,
          3.8,
          3.4,
          3.8
         ],
         "yaxis": "y"
        },
        {
         "customdata": [
          [
           "Apple EarPods with 3.5mm Headphone Plug",
           2.105
          ],
          [
           "Apple EarPods with Lightning Connector",
           2.486
          ],
          [
           "Apple AirPods 4 Wireless Earbuds, Bluetooth Headphones, with Active Noise Cancellation, Adaptive Audio, Transparency Mode, Personalised Spatial Audio, USB-C Charging Case, Wireless Charging, H2 Chip",
           0.23
          ],
          [
           "Apple AirPods 4 Wireless Earbuds, Bluetooth Headphones, Personalised Spatial Audio, Sweat and Water Resistant, USB-C Charging Case, H2 Chip, Up to 30 Hours of Battery Life, Effortless Setup for iPhone",
           0.325
          ],
          [
           "Apple EarPods (USB-C)",
           2.547
          ]
         ],
         "hovertemplate": "Brand=Apple<br>Price (₹)=%{x}<br>Customer Rating=%{y}<br>Review_Count=%{marker.size}<br>Title=%{customdata[0]}<br>Value_Score=%{customdata[1]}<extra></extra>",
         "legendgroup": "Apple",
         "marker": {
          "color": "#EF553B",
          "size": [
           731,
           3497,
           173,
           351,
           3078
          ],
          "sizemode": "area",
          "sizeref": 1047.575,
          "symbol": "circle"
         },
         "mode": "markers",
         "name": "Apple",
         "orientation": "v",
         "showlegend": true,
         "type": "scatter",
         "x": [
          1900,
          1649,
          16990,
          11999,
          1649
         ],
         "xaxis": "x",
         "y": [
          4,
          4.1,
          3.9,
          3.9,
          4.2
         ],
         "yaxis": "y"
        },
        {
         "customdata": [
          [
           "ZEBRONICS Zeb-Bro in Ear Wired Earphones with Mic, 3.5mm Audio Jack, 10mm Drivers, Phone/Tablet Compatible(Blue)",
           21.384
          ],
          [
           "ZEBRONICS Bro in Ear Wired Earphones with Mic, 3.5mm Audio Jack, 10mm Drivers, Phone/Tablet Compatible (Green)",
           21.384
          ],
          [
           "ZEBRONICS Zeb-Thunder PRO On-Ear Wireless Headphone Up to 60 Hours Playback, Wired Mode, USB-C Type Charging(Black)",
           4.631
          ],
          [
           "ZEBRONICS Thunder Over Ear Bluetooth 5.3 Wireless Headphones with 60H Backup, Gaming Mode, Dual Pairing, Enc, Aux, Micro Sd, Voice Assistant, Comfortable Earcups, Call Function (Blue)",
           5.293
          ],
          [
           "ZEBRONICS THUNDER Bluetooth 5.3 Wireless Headphones with 60H Backup, Gaming Mode, Dual Pairing, ENC, AUX, Micro SD, Voice assistant, Comfortable Earcups, Call Function(Black)",
           4.94
          ],
          [
           "ZEBRONICS Thunder Over Ear Bluetooth 5.3 Wireless Headphones with 60H Backup, Gaming Mode, Dual Pairing, Enc, Aux, Micro Sd, Voice Assistant, Comfortable Earcups, Call Function (Brown)",
           5.293
          ],
          [
           "ZEBRONICS Thunder Bluetooth 5.3 Wireless Over Ear Headphones with 60H Backup, Gaming Mode, Dual Pairing, Enc, Aux, Micro Sd, Voice Assistant, Comfortable Earcups, Call Function (Red)",
           5.293
          ],
          [
           "ZEBRONICS Bro in Ear Wired Earphones with Mic, 3.5mm Audio Jack, 10mm Drivers, Phone/Tablet Compatible (Black)",
           21.384
          ],
          [
           "ZEBRONICS Zeb-Dynamic with Bluetooth Supporting Headphone, Aux Input, Call Function and Media/Volume Control",
           4.292
          ],
          [
           "ZEBRONICS Duke Wireless Headphone with Up to 60h Backup, Supports Bluetooth, Dual Pairing, Gaming Mode, Environmental Noise Cancellation (ENC), LED Lights, Deep Bass, Voice Assistant Support (Blue)",
           3.112
          ],
          [
           "ZEBRONICS Duke Wireless Headphone with Up to 60h Backup, Supports Bluetooth, Dual Pairing, Gaming Mode, Environmental Noise Cancellation (ENC), LED Lights, Deep Bass, Voice Assistant Support (Black)",
           3.704
          ],
          [
           "ZEBRONICS Zeb-Buds C2 in Ear Type C Wired Earphones with Mic, Braided 1.2 Metre Cable, Metallic Design, 10mm Drivers, in Line Mic & Volume Controller (Red)",
           12.04
          ],
          [
           "ZEBRONICS Zeb-Buds C2 in Ear Type C Wired Earphones with Mic, Braided 1.2 Metre Cable, Metallic Design, 10mm Drivers, in Line Mic & Volume Controller (White)",
           11.706
          ],
          [
           "ZEBRONICS Zeb Evolve Wireless Bluetooth in Ear Neckband Earphone, Rapid Charge, Dual Pairing, Magnetic earpiece,Voice Assistant with Mic (Blue)",
           7.214
          ],
          [
           "ZEBRONICS Zeb Evolve Wireless Bluetooth in Ear Neckband Earphone, Rapid Charge, Dual Pairing, Magnetic earpiece,Voice Assistant with Mic (Gray)",
           7.214
          ],
          [
           "ZEBRONICS Zeb Buds C2 in Ear Type C Wired Earphones with Mic, Braided 1.2 Metre Cable, Metallic Design, 10mm Drivers, in Line Mic & Volume Controller (Blue)",
           6.557
          ],
          [
           "ZEBRONICS Zeb-Sound Bomb 1 TWS Earbuds with BT5.0, Up to 12H Playback, Touch Controls, Voice Assistant, Splash Proof with Type C Portable Charging Case (Black)",
           5.843
          ],
          [
           "ZEBRONICS Thunder Bluetooth 5.3 Wireless Over Ear Headphones with 60H Backup, Gaming Mode, Dual Pairing, Enc, Aux, Micro Sd, Voice Assistant, Comfortable Earcups, Call Function (Teal Green)",
           5.293
          ],
          [
           "ZEBRONICS Thunder Bluetooth 5.3 Wireless Over Ear Headphones with 60H Backup, Gaming Mode, Dual Pairing, Enc, Aux, Micro Sd, Voice Assistant, Comfortable Earcups, Call Function (Sea Green)",
           4.631
          ],
          [
           "ZEBRONICS Thunder Bluetooth Wireless On Ear Headphone FM, mSD, 60hrs Playback with Mic (Neon Yellow)",
           5.293
          ],
          [
           "ZEBRONICS Zeb-Evolve BTv5.0, Voice Assistant, Rapid Charge, Dual Pairing, Call Function, Magnetic Earpiece Bluetooth Wireless in Ear Earphones with Mic (Metallic Green)",
           7.415
          ],
          [
           "ZEBRONICS Storm Wired On Ear Headphone with 3.5mm Jack, Built-in Microphone for Calling,1.5 Meter Cable, Soft Ear Cushion, Adjustable Headband,Foldable Ear Cups(White)",
           7.014
          ],
          [
           "ZEBRONICS Boom Wired Headphone, Over Ear, in-Line MIC, Foldable, 1.5 Meter Cable, for 3.5mm (Mobile | Tablet | Laptop | MAC), Soft Cushion, 40mm Drivers (Black)",
           4.149
          ],
          [
           "ZEBRONICS Thunder Pro Wireless Over Ear Headphone with Dual Pairing, Gaming Mode, Enc, Bluetooth, Call Function, Aux, Micro Sd, Voice Assistant, Deep Bass, Up to 60H Backup (Olive Green)",
           3.704
          ],
          [
           "ZEBRONICS Duke Wireless Headphone with Up to 60h Backup, Supports Bluetooth, Dual Pairing, Gaming Mode, Environmental Noise Cancellation (ENC), LED Lights, Deep Bass, Voice Assistant Support (Beige)",
           3.086
          ],
          [
           "ZEBRONICS Thunder Pro Wireless Over Ear Headphone with Dual Pairing, Gaming Mode, Enc, Bluetooth, Call Function, Aux, Micro Sd, Voice Assistant, Deep Bass, Up to 60H Backup (Blue)",
           3.704
          ],
          [
           "ZEBRONICS Thunder PRO Over Ear Wireless Headphone with Dual Pairing, Gaming Mode, ENC, Bluetooth, Call Function, Aux, Micro SD, Voice Assistant, Deep Bass, Up to 60h Backup (Beige)",
           3.704
          ],
          [
           "ZEBRONICS Buds C10 in Ear Type-C Wired Headphones with in-Line Mic, Metallic Design, Volume Control, 1.2M Cable, 10Mm Driver, (Light Blue)",
           7.214
          ],
          [
           "ZEBRONICS AEON Wireless Headphone with 110h Battery Backup, Supports Bluetooth & AUX, Gaming Mode, ENC, Dual Pairing, Rapid Charging (Black)",
           3.103
          ],
          [
           "ZEBRONICS AEON Wireless Headphone with 110h Battery Backup, Supports Bluetooth & AUX, Gaming Mode, ENC, Dual Pairing, Rapid Charging (Blue)",
           3.103
          ],
          [
           "ZEBRONICS Mist in Ear Wireless Earbuds, with up-to 27 Hours Backup, Environmental Noise Cancellation (ENC), Gaming Mode, Touch Control, Voice Assistant Support, Splash Proof Design (Black)",
           6.038
          ],
          [
           "ZEBRONICS Duke Plus, Wireless Over Ear Headphone with ANC, ENC, Gaming Mode, Dual Pairing, Rapid Charge, Upto 70* Hours Backup, Bluetooth v5.4, AUX, Comfortable Earcushion, Deep Bass (Black)",
           2.057
          ],
          [
           "ZEBRONICS Bro 3.5Mm Wired in Ear Earphones, in-Line Mic, Deep Bass, 1.2M Strong and Long Lasting Cable, Light Weight, Compatible with Mobile | Tablet | Laptop (Black + Gold)",
           21.384
          ],
          [
           "ZEBRONICS Bro 3.5Mm Wired in Ear Earphones, in-Line Mic, Deep Bass, 1.2M Strong and Long Lasting Cable, Light Weight, Compatible with Mobile | Tablet | Laptop (Orange)",
           21.384
          ],
          [
           "ZEBRONICS Thunder Max Bluetooth Over Ear Headphone with 120*Hrs Playback, 3 EQ Modes, 40mm Bass Driver, Fast Charging, ENC, Gaming Mode, Dual Pairing, BT v5.4, AUX, Metallic Finish (Black)",
           2.771
          ],
          [
           "ZEBRONICS PODS O, Wireless Open-Ear Earbuds, OWS, 40 Hrs Backup, Neodymium Drivers, Ultra Comfort Fit, Quad MIC ENC, Rapid Charging, Bluetooth, Dual Pairing, Flash Connect, Low Latency Gaming (Black)",
           1.93
          ],
          [
           "ZEBRONICS RAGA F1, Bluetooth Neckband, 40 Hours Playback, ENC, Rapid Charging, Dual Pairing, Magsnap (Magnetic Play | Pause), 2 EQ Modes, Bluetooth v5.4, Call Function, Voice Assistant, Gaming Mode",
           4.116
          ],
          [
           "ZEBRONICS RAGA F2, Bluetooth Neckband, 22 Hours Playback, ENC, Rapid Charging, Dual Pairing, Magsnap (Magnetic Play | Pause), 2 EQ Modes, Bluetooth v5.4, Call Function, Gaming Mode (Blue)",
           4.116
          ],
          [
           "ZEBRONICS SILENCIO 111, Wireless Headphone, Hybrid ANC (50dB), 55*Hrs Backup, Transparency Mode, 40mm Titanium Drivers, 3 EQ Modes, ENC, Gaming Mode, Dual Pairing, Rapid Charge, Bluetooth v5.4 (Black)",
           1.667
          ]
         ],
         "hovertemplate": "Brand=ZEBRONICS<br>Price (₹)=%{x}<br>Customer Rating=%{y}<br>Review_Count=%{marker.size}<br>Title=%{customdata[0]}<br>Value_Score=%{customdata[1]}<extra></extra>",
         "legendgroup": "ZEBRONICS",
         "marker": {
          "color": "#00cc96",
          "size": [
           59318,
           59318,
           3629,
           77146,
           77146,
           77146,
           77146,
           59318,
           703,
           14958,
           14958,
           2174,
           1904,
           5103,
           6321,
           2194,
           18876,
           77146,
           77146,
           77146,
           1549,
           292,
           366,
           77146,
           14958,
           77146,
           77146,
           296,
           438,
           438,
           230,
           14958,
           59318,
           59318,
           260,
           110,
           35,
           35,
           6
          ],
          "sizemode": "area",
          "sizeref": 1047.575,
          "symbol": "circle"
         },
         "mode": "markers",
         "name": "ZEBRONICS",
         "orientation": "v",
         "showlegend": true,
         "type": "scatter",
         "x": [
          159,
          159,
          799,
          699,
          749,
          699,
          699,
          159,
          699,
          1189,
          999,
          299,
          299,
          499,
          499,
          549,
          599,
          699,
          799,
          699,
          499,
          499,
          699,
          999,
          1199,
          999,
          999,
          499,
          999,
          999,
          530,
          1799,
          159,
          159,
          1299,
          1399,
          899,
          899,
          2999
         ],
         "xaxis": "x",
         "y": [
          3.4,
          3.4,
          3.7,
          3.7,
          3.7,
          3.7,
          3.7,
          3.4,
          3,
          3.7,
          3.7,
          3.6,
          3.5,
          3.6,
          3.6,
          3.6,
          3.5,
          3.7,
          3.7,
          3.7,
          3.7,
          3.5,
          2.9,
          3.7,
          3.7,
          3.7,
          3.7,
          3.6,
          3.1,
          3.1,
          3.2,
          3.7,
          3.4,
          3.4,
          3.6,
          2.7,
          3.7,
          3.7,
          5
         ],
         "yaxis": "y"
        },
        {
         "customdata": [
          [
           "Samsung AKG-Tuned IC100 Type-C Earphone, Black",
           2.274
          ],
          [
           "Samsung AKG-Tuned IC100 Type-C Earphone, White",
           2.274
          ],
          [
           "Samsung Hands-Free Wired in Ear Earphones with Mic, 3.5mm Jack(White)",
           9.354
          ],
          [
           "Samsung Galaxy Buds2 Pro, with Innovative AI Features, Bluetooth Truly Wireless in Ear Earbuds with Noise Cancellation (Graphite)",
           0.43
          ],
          [
           "Samsung Original IC050 Type-C Earphone, White",
           4.373
          ],
          [
           "Samsung Original IC050 Type-C Earphone, Black",
           4.393
          ],
          [
           "Samsung Galaxy Buds FE (White)| Powerful Active Noise Cancellation | Enriched Bass Sound | Ergonomic Design | 30-Hour Battery Life",
           0.727
          ],
          [
           "Samsung Galaxy Buds FE (Graphite)| Powerful Active Noise Cancellation | Enriched Bass Sound | Ergonomic Design | 30-Hour Battery Life",
           0.727
          ],
          [
           "Samsung Galaxy Buds 3 Pro (White) with Galaxy AI | Adaptive ANC | Real-time Interpreter | 24-bit Hi-Fi Audio | Up to 37H Battery | IP57",
           0.211
          ],
          [
           "Samsung Galaxy Buds 3 Pro (Silver) with Galaxy AI | Adaptive ANC | Real-time Interpreter | 24-bit Hi-Fi Audio | Up to 37H Battery | IP57",
           0.211
          ],
          [
           "Samsung Galaxy in Ear Wireless Earbuds 3 Pro (Silver) with Galaxy Ai | Adaptive ANC | Real-Time Interpreter | 24-Bit Hi-Fi Audio | Up to 37H Battery | Ip57",
           0.288
          ]
         ],
         "hovertemplate": "Brand=Samsung<br>Price (₹)=%{x}<br>Customer Rating=%{y}<br>Review_Count=%{marker.size}<br>Title=%{customdata[0]}<br>Value_Score=%{customdata[1]}<extra></extra>",
         "legendgroup": "Samsung",
         "marker": {
          "color": "#ab63fa",
          "size": [
           1038,
           1038,
           38414,
           9455,
           1413,
           1413,
           1490,
           1490,
           392,
           392,
           341
          ],
          "sizemode": "area",
          "sizeref": 1047.575,
          "symbol": "circle"
         },
         "mode": "markers",
         "name": "Samsung",
         "orientation": "v",
         "showlegend": true,
         "type": "scatter",
         "x": [
          1759,
          1759,
          449,
          9999,
          869,
          865,
          5499,
          5499,
          18499,
          18499,
          13880
         ],
         "xaxis": "x",
         "y": [
          4,
          4,
          4.2,
          4.3,
          3.8,
          3.8,
          4,
          4,
          3.9,
          3.9,
          4
         ],
         "yaxis": "y"
        },
        {
         "customdata": [
          [
           "JBL C100SI Wired In Ear Headphones with Mic, JBL Pure Bass Sound, One Button Multi-function Remote, Premium Metallic Finish, Angled Buds for Comfort fit (White)",
           6.678
          ],
          [
           "JBL C100SI Wired In aEar Headphones with Mic, JBL Pure Bass Sound, One Button Multi-function Remote, Premium Metallic Finish, Angled Buds for Comfort fit (Black)",
           6.678
          ],
          [
           "JBL C100SI Wired In Ear Headphones with Mic, JBL Pure Bass Sound, One Button Multi-function Remote, Premium Metallic Finish, Angled Buds for Comfort fit (Red)",
           6.678
          ],
          [
           "JBL C200SI, Premium in Ear Wired Earphones with Mic, Signature Sound, One Button Multi-Function Remote, Premium Metallic Finish, Angled Earbuds for Comfort fit (Gray)",
           5.006
          ],
          [
           "JBL C200SI, Premium in Ear Wired Earphones with Mic, Signature Sound, One Button Multi-Function Remote, Premium Metallic Finish, Angled Earbuds for Comfort fit (Blue)",
           5.138
          ],
          [
           "JBL C200SI, Premium in Ear Wired Earphones with Mic, Signature Sound, One Button Multi-Function Remote, Premium Metallic Finish, Angled Earbuds for Comfort fit (Gun Metal)",
           5.013
          ],
          [
           "JBL C50HI, Wired in Ear Headphones with Mic, One Button Multi-Function Remote, Lightweight & Comfortable fit (Black)",
           7.816
          ],
          [
           "JBL C50HI, Wired in Ear Headphones with Mic, One Button Multi-Function Remote, Lightweight & Comfortable fit (Blue)",
           7.816
          ],
          [
           "JBL C50HI, Wired in Ear Headphones with Mic, One Button Multi-Function Remote, Lightweight & Comfortable fit (Red)",
           7.816
          ],
          [
           "JBL Vibe Beam in-Ear Wireless Earbuds (TWS) with Mic,App for Customized Extra Bass Eq,32 Hours Battery&Quick Charge,Ip54 Water&Dust Resistance,Ambient Aware&Talk-Thru,Google Fastpair (Blue)",
           1.522
          ],
          [
           "JBL Tune 215BT, 16 Hrs Playtime with Quick Charge, in Ear Bluetooth Wireless Earphones with Mic, 12.5mm Premium Earbuds with Pure Bass, BT 5.0, Dual Pairing, Type C & Voice Assistant Support (Blue)",
           1.751
          ],
          [
           "JBL Tune 510BT, On Ear Wireless Headphones with Mic, up to 40 Hours Playtime, Pure Bass, Quick Charging, Dual Pairing, Bluetooth 5.0 & Voice Assistant Support for Mobile Phones (Blue)",
           1.601
          ],
          [
           "JBL Tune 510BT, On Ear Wireless Headphones with Mic, up to 40 Hours Playtime, Pure Bass, Quick Charging, Dual Pairing, Bluetooth 5.0 & Voice Assistant Support for Mobile Phones (Black)",
           1.641
          ],
          [
           "JBL Tune 510BT, On Ear Wireless Headphones with Mic, up to 40 Hours Playtime, Pure Bass, Quick Charging, Dual Pairing, Bluetooth 5.0 & Voice Assistant Support for Mobile Phones (White)",
           1.561
          ],
          [
           "JBL Tune 215BT, 16 Hrs Playtime with Quick Charge, in Ear Bluetooth Wireless Earphones with Mic, 12.5mm Premium Earbuds with Pure Bass, BT 5.0, Dual Pairing, Type C & Voice Assistant Support (Green)",
           1.751
          ],
          [
           "JBL Tune 760NC, Wireless Over Ear Active Noise Cancellation Headphones with Mic, Upto 50 Hours Playtime, Multi-Device Connectivity, Pure Bass, AUX & Voice Assistant Support for Mobile Phones (Black)",
           0.72
          ],
          [
           "JBL Tune 770NC Wireless Over Ear ANC Headphones with Mic, Upto 70 Hrs Playtime, Speedcharge, Google Fast Pair, Dual Pairing, BT 5.3 LE Audio, Customize on JBL Headphones App (Black)",
           0.667
          ],
          [
           "JBL Live Pro 2 Premium in Ear Wireless TWS Earbuds, ANC Earbuds, 40Hr Playtime, Dual Connect, Customized Bass with Headphones App, 6 Mics for Clear Calls, Wireless Charging, Alexa Built-in (Black)",
           0.5
          ],
          [
           "JBL Newly Launched Wave Flex in-Ear Wireless Earbuds TWS with Mic,App for Custom Extra Bass EQ, 32Hrs Battery, Quick Charge, IP54 Water & Dust Proof, Ambient Aware, Talk-Thru,Google FastPair (Black)",
           1.143
          ],
          [
           "JBL Newly Launched Wave Flex in-Ear Wireless Earbuds TWS with Mic,App for Custom Extra Bass EQ, 32Hrs Battery, Quick Charge, IP54 Water & Dust Proof, Ambient Aware, Talk-Thru,Google FastPair (White)",
           1.179
          ],
          [
           "JBL Tune 770NC Wireless Over Ear ANC Headphones with Mic, Upto 70 Hrs Playtime, Speedcharge, Google Fast Pair, Dual Pairing, BT 5.3 LE Audio, Customize on JBL Headphones App (Blue)",
           0.667
          ],
          [
           "JBL Tune 770NC Wireless Over Ear ANC Headphones with Mic, Upto 70 Hrs Playtime, Speedcharge, Google Fast Pair, Dual Pairing, BT 5.3 LE Audio, Customize on JBL Headphones App (White)",
           0.667
          ],
          [
           "JBL Live 770NC True Adaptive Noise Cancellation Headphones Wireless Over Ear, Spatial Sound, 65Hrs Playtime, Speed Charge, Multipoint Connect and Personi-Fi 2.0, BT 5.3, Google Fast Pair, Alexa, Black",
           0.42
          ],
          [
           "JBL Vibe Beam in-Ear Wireless Earbuds (TWS) with Mic,App for Customized Extra Bass Eq,32 Hours Battery&Quick Charge,Ip54 Water&Dust Resistance,Ambient Aware&Talk-Thru,Google Fastpair (Black)",
           1.522
          ],
          [
           "JBL Tune 310 Wired in-Ear Type C Headphones, Hi-Res Audio with Digital-to-Analog Converter, 3-Button EQ Preset Remote with Microphone, Tangle-Free Flat Cable, Compatible with USB-C Devices (Black)",
           2.135
          ],
          [
           "JBL Tune 310 Wired in-Ear Type C Headphones, Hi-Res Audio with Digital-to-Analog Converter, 3-Button EQ Preset Remote with Microphone, Tangle-Free Flat Cable, Compatible with USB-C Devices (Blue)",
           2.001
          ],
          [
           "JBL Tune 310 Wired in-Ear Type C Headphones, Hi-Res Audio with Digital-to-Analog Converter, 3-Button EQ Preset Remote with Microphone, Tangle-Free Flat Cable, Compatible with USB-C Devices (Red)",
           2.001
          ],
          [
           "JBL Tune 310 Wired in-Ear Type C Headphones, Hi-Res Audio with Digital-to-Analog Converter, 3-Button EQ Preset Remote with Microphone, Tangle-Free Flat Cable, Compatible with USB-C Devices (White)",
           2.135
          ],
          [
           "JBL Vibe Beam in-Ear Wireless Earbuds (TWS) with Mic,App for Customized Extra Bass Eq,32 Hours Battery&Quick Charge,Ip54 Water&Dust Resistance,Ambient Aware&Talk-Thru,Google Fastpair (White)",
           1.401
          ],
          [
           "JBL Wave Buds 2 Ear Buds Wireless BluetoothV5.3, Active Noise Cancellation EarBuds,Multi Connect, App for Customized Extra Bass Eq, Relax Mode,Speed Charge, 40H Playback, Fast Pair, 4 Mics,IP54(Black)",
           1.2
          ],
          [
           "JBL Wave Buds 2 Ear Buds Wireless BluetoothV5.3, Active Noise Cancellation EarBuds,Multi Connect, App for Customized Extra Bass Eq, Relax Mode,Speed Charge, 40H Playback, Fast Pair, 4 Mics,IP54(White)",
           1.2
          ],
          [
           "JBL New Launch Tune Buds 2 TWS, ANC Earbuds, 48Hr Playtime,Dual Connect, Ambient Aware, Relax Mode, Customized EQ with Headphones App, 6 Mics for Clear Calls, Spatial Sound, Personi-Fi 3.0 (Black)",
           0.727
          ],
          [
           "JBL New Launch Tune Flex 2 TWS, ANC Earbuds, 48Hr Playtime,Dual Connect, Ambient Aware, Relax Mode, Customized EQ with Headphones App, 6 Mics for Clear Calls, Spatial Sound, Personi-Fi 3.0 (Black)",
           0.667
          ],
          [
           "JBL New Launch Tune Beam 2 TWS, ANC Earbuds,48Hr Playtime,Dual Connect, Ambient Aware,Relax Mode, Customized EQ with Headphones App,6 Mics for Clear Calls, Spatial Sound, Personi-Fi 3.0 (Turquoise)",
           0.727
          ],
          [
           "JBL New Launch Tune Beam 2 TWS, ANC Earbuds, 48Hr Playtime,Dual Connect, Ambient Aware, Relax Mode, Customized EQ with Headphones App, 6 Mics for Clear Calls, Spatial Sound, Personi-Fi 3.0 (White)",
           0.727
          ],
          [
           "JBL New Launch Tune Beam 2 TWS, ANC Earbuds, 48Hr Playtime,Dual Connect, Ambient Aware, Relax Mode, Customized EQ with Headphones App, 6 Mics for Clear Calls, Spatial Sound, Personi-Fi 3.0 (Black)",
           0.727
          ],
          [
           "JBL Wave Buds 2 Ear Buds Wireless BluetoothV5.3, Active Noise Cancellation Earbuds,Multi Connect, App for Customized Extra Bass Eq, Relax Mode,Speed Charge, 40H Playback, Fast Pair, 4 Mics,IP54(Pink)",
           1.2
          ],
          [
           "JBL Wave Buds 2 Ear Buds Wireless BluetoothV5.3, Active Noise Cancellation Earbuds,Multi Connect, App for Customized Extra Bass Eq, Relax Mode,Speed Charge, 40H Playback, Fast Pair, 4 Mics,IP54(Blue)",
           1.2
          ]
         ],
         "hovertemplate": "Brand=JBL<br>Price (₹)=%{x}<br>Customer Rating=%{y}<br>Review_Count=%{marker.size}<br>Title=%{customdata[0]}<br>Value_Score=%{customdata[1]}<extra></extra>",
         "legendgroup": "JBL",
         "marker": {
          "color": "#FFA15A",
          "size": [
           23262,
           199466,
           199466,
           7895,
           28765,
           24695,
           65751,
           42590,
           9811,
           28245,
           30738,
           2179,
           20096,
           18176,
           30738,
           9985,
           21152,
           4926,
           10866,
           4718,
           21152,
           21152,
           1012,
           28245,
           1029,
           624,
           138,
           214,
           28245,
           21099,
           21099,
           576,
           576,
           576,
           576,
           576,
           21099,
           21099
          ],
          "sizemode": "area",
          "sizeref": 1047.575,
          "symbol": "circle"
         },
         "mode": "markers",
         "name": "JBL",
         "orientation": "v",
         "showlegend": true,
         "type": "scatter",
         "x": [
          599,
          599,
          599,
          799,
          798,
          798,
          499,
          499,
          499,
          2299,
          1999,
          2499,
          2499,
          2499,
          1999,
          4999,
          5999,
          7999,
          2799,
          2799,
          5999,
          5999,
          9999,
          2299,
          1499,
          1499,
          1499,
          1499,
          2499,
          2999,
          2999,
          5499,
          5999,
          5499,
          5499,
          5499,
          2999,
          2999
         ],
         "xaxis": "x",
         "y": [
          4,
          4,
          4,
          4,
          4.1,
          4,
          3.9,
          3.9,
          3.9,
          3.5,
          3.5,
          4,
          4.1,
          3.9,
          3.5,
          3.6,
          4,
          4,
          3.2,
          3.3,
          4,
          4,
          4.2,
          3.5,
          3.2,
          3,
          3,
          3.2,
          3.5,
          3.6,
          3.6,
          4,
          4,
          4,
          4,
          4,
          3.6,
          3.6
         ],
         "yaxis": "y"
        },
        {
         "customdata": [
          [
           "Xiaomi Wired in-Ear Earphones with Mic, Ultra Deep Bass & Metal Sound Chamber (Black)",
           9.131
          ],
          [
           "Xiaomi Type-C in-Ear Earphones with 12.4mm Drivers, HD Microphone, and IP54 Dust & Water Resistance (Black)",
           6.344
          ],
          [
           "Xiaomi Wired in-Ear Earphones with Mic, Ultra Deep Bass & Metal Sound Chamber (Blue)",
           8.216
          ],
          [
           "Xiaomi Type-C in-Ear Earphones with 12.4mm Drivers, HD Microphone, and IP54 Dust & Water Resistance (White)",
           6.344
          ]
         ],
         "hovertemplate": "Brand=Xiaomi<br>Price (₹)=%{x}<br>Customer Rating=%{y}<br>Review_Count=%{marker.size}<br>Title=%{customdata[0]}<br>Value_Score=%{customdata[1]}<extra></extra>",
         "legendgroup": "Xiaomi",
         "marker": {
          "color": "#19d3f3",
          "size": [
           107282,
           286,
           107282,
           286
          ],
          "sizemode": "area",
          "sizeref": 1047.575,
          "symbol": "circle"
         },
         "mode": "markers",
         "name": "Xiaomi",
         "orientation": "v",
         "showlegend": true,
         "type": "scatter",
         "x": [
          449,
          599,
          499,
          599
         ],
         "xaxis": "x",
         "y": [
          4.1,
          3.8,
          4.1,
          3.8
         ],
         "yaxis": "y"
        },
        {
         "customdata": [
          [
           "Zebronics Zeb-Calyx Wired in Ear Earphones with Mic (Black)",
           9.742
          ],
          [
           "Zebronics Zeb-Corolla In Ear Wired Earphone with Mic, 3.5mm Jack, 1.2 Meter Cable, Multi Function Button",
           20.71
          ],
          [
           "Zebronics Zeb-Storm Wired Headphone with 3.5mm Jack, Built in Microphone for Calling, 1.5 Meter Cable, Soft Ear Cushion, Adjustable Headband, Foldable Ear Cups and Lightweight Design (Blue)",
           7.214
          ],
          [
           "Zebronics Zeb-Buds C2 in Ear Type C Wired Earphones with Mic, Braided 1.2 Metre Cable, Metallic Design, 10mm Drivers, in Line Mic & Volume Controller (Black)",
           11.371
          ],
          [
           "Zebronics Sound Bomb 7 Bluetooth TWS in Ear Earbuds with 60H Playtime, ENC Mic, Rapid Charge, Upto 50ms Gaming Mode, Flash Connect, Voice Assistant, Smooth Touch Control, BT v5.2, Type C (Black)",
           4.631
          ],
          [
           "Zebronics Zeb-Storm Wired Headphone with 3.5mm Jack, Built in Microphone for Calling, 1.5 Meter Cable, Soft Ear Cushion, Adjustable Headband, Foldable Ear Cups and Lightweight Design (Black)",
           7.415
          ],
          [
           "Zebronics Jumbo LITE with 70 Hours Backup, Bluetooth v5.2 Wireless Neckband, Fast Charging, ENC Calling, Gaming Mode (Upto 50ms), Voice Assistant, Dual Pairing, Splash Proof, and Type C (Black)",
           5.843
          ],
          [
           "Zebronics Jumbo LITE with 70 Hours Backup, Bluetooth v5.2 Wireless Neckband, Fast Charging, ENC Calling, Gaming Mode (Upto 50ms), Voice Assistant, Dual Pairing, Splash Proof, and Type C (Navy)",
           6.01
          ]
         ],
         "hovertemplate": "Brand=Zebronics<br>Price (₹)=%{x}<br>Customer Rating=%{y}<br>Review_Count=%{marker.size}<br>Title=%{customdata[0]}<br>Value_Score=%{customdata[1]}<extra></extra>",
         "legendgroup": "Zebronics",
         "marker": {
          "color": "#FF6692",
          "size": [
           6848,
           4938,
           674,
           1902,
           1534,
           2352,
           1271,
           539
          ],
          "sizemode": "area",
          "sizeref": 1047.575,
          "symbol": "circle"
         },
         "mode": "markers",
         "name": "Zebronics",
         "orientation": "v",
         "showlegend": true,
         "type": "scatter",
         "x": [
          349,
          169,
          499,
          299,
          799,
          499,
          599,
          599
         ],
         "xaxis": "x",
         "y": [
          3.4,
          3.5,
          3.6,
          3.4,
          3.7,
          3.7,
          3.5,
          3.6
         ],
         "yaxis": "y"
        },
        {
         "customdata": [
          [
           "Portronics Conch Gama in-Ear Wired Earphone, 1.2m Tangle Free Cable, in-Line Mic, Noise Isolation 3.5mm Aux Port and High Bass(Black)",
           10.025
          ],
          [
           "Portronics Harmonics Twins S3 Smart TWS Bluetooth 5.3 in Ear Earbuds with 20 Hrs Playtime, 8Mm Drivers, Type C Charging, Ipx4 Water Resistant, Low Latency, Lightweight Design(Black)",
           5.436
          ],
          [
           "Portronics Harmonics Z5 Wireless Bluetooth Stereo Headset with 33Hrs Playtime, Double EQ Mode, 14.2 mm Dynamic Drivers, Click Action Buttons(Black)",
           5.722
          ],
          [
           "Portronics Harmonics Z5 Wireless Bluetooth Stereo Headset with 33Hrs Playtime, Double EQ Mode, 14.2 mm Dynamic Drivers, Click Action Buttons(White)",
           5.293
          ],
          [
           "Portronics Muffs M2 Bluetooth Headphones On Ear with Upto 40 Hrs Playtime, 40mm Dynamic Drivers, AUX 3.5mm, Powerful Bass, Laptop & PC Support, Type C Charging Port, Foldable Design(Black)",
           3.804
          ],
          [
           "Portronics Muffs M2 Bluetooth Headphones Over Ear with Upto 40 Hrs Playtime, 40mm Dynamic Drivers, AUX 3.5mm, Powerful Bass, Laptop & PC Support,Type C Charging Port, Foldable Design(White)",
           4.227
          ],
          [
           "Portronics Harmonics Z7 Bluetooth Wireless in Ear Earphones with Upto 40 Hours Playback, 10mm Dynamic Driver, Gaming Mode, High Bass, IPX4 Water and Sweat Resistant, Type C Fast Charging(Black)",
           7.236
          ],
          [
           "Portronics Harmonics Twins S16 in Ear Wireless TWS Earbuds with 24 Hrs Playtime, Clear Calls, Game & Music Mode, Low Latency, Bluetooth 5.3v, LED Display, Type C Fast Charging(Black)",
           6.051
          ],
          [
           "Portronics Harmonics Twins S13 in Ear True Wireless Earbuds with Mic, 24H Playtime, Game/Music Mode, Touch Control, 8mm Driver, Bluetooth 5.3v,IPX5 Water Resistance, Type C Fast Charging(Black)",
           6.177
          ],
          [
           "Portronics Harmonics Twins S18 in Ear TWS Earbuds with 30H Playtime, in Built HD Mic, Game/Music Mode, 13mm Dynamic Driver, Low Latency, Touch Control, Type C Fast Charging, Light Weight(Black)",
           5.722
          ],
          [
           "Portronics Conch Theta A in Ear 3.5mm Wired Earphones with In Line HD Mic, Powerful Audio, 14.2mm Dynamic Driver, Unique Earbuds Design, TPE Anti Tangle Wire,In line Controls,Wide Compatibility(White)",
           17.467
          ],
          [
           "Portronics Conch Theta C in Ear Type C Wired Earphones with in Line HD Mic, Powerful Audio, 14.2mm Driver, Unique Earbuds Design, TPE Anti Tangle Wire, in line Controls, Wide Compatibility(White)",
           14.337
          ],
          [
           "Portronics Conch Theta C in Ear Type C Wired Earphones with in Line HD Mic, Powerful Audio, 14.2mm Driver, Unique Earbuds Design, TPE Anti Tangle Wire, in line Controls, Wide Compatibility(Black)",
           14.337
          ],
          [
           "Portronics Conch Theta A in Ear 3.5mm Wired Earphones with In Line HD Mic, Powerful Audio, 14.2mm Dynamic Driver, Unique Earbuds Design, TPE Anti Tangle Wire,In line Controls,Wide Compatibility(Black)",
           17.467
          ],
          [
           "Portronics Conch Sigma C in Ear Type C Wired Earphones with in Line HD Mic, Powerful Audio, 14.2mm Driver, Unique Earbuds Design, Metal Alloy Material, in line Controls, Wide Compatibility(White)",
           10.888
          ],
          [
           "Portronics Conch Sigma A in Ear 3.5mm Aux Wired Earphones with in Line HD Mic & Magnetic Earbuds, Powerful Audio, 14.2mm Driver, Anti Tangle Wire, in line Controls, Wide Compatibility(White)",
           13.841
          ],
          [
           "Portronics Conch Kappa C in Ear Type C Wired Earphones with In Line HD Mic, Powerful Audio, 14.2mm Dynamic Driver, Unique Earbuds Design,TPE Anti Tangle Wire,In line Controls,Wide Compatibility(White)",
           13.374
          ]
         ],
         "hovertemplate": "Brand=Portronics<br>Price (₹)=%{x}<br>Customer Rating=%{y}<br>Review_Count=%{marker.size}<br>Title=%{customdata[0]}<br>Value_Score=%{customdata[1]}<extra></extra>",
         "legendgroup": "Portronics",
         "marker": {
          "color": "#B6E880",
          "size": [
           3276,
           1758,
           1353,
           199,
           415,
           415,
           1867,
           646,
           160,
           271,
           657,
           1479,
           1479,
           657,
           101,
           20,
           3
          ],
          "sizemode": "area",
          "sizeref": 1047.575,
          "symbol": "circle"
         },
         "mode": "markers",
         "name": "Portronics",
         "orientation": "v",
         "showlegend": true,
         "type": "scatter",
         "x": [
          399,
          699,
          699,
          699,
          999,
          899,
          539,
          628,
          599,
          699,
          229,
          279,
          279,
          229,
          349,
          289,
          329
         ],
         "xaxis": "x",
         "y": [
          4,
          3.8,
          4,
          3.7,
          3.8,
          3.8,
          3.9,
          3.8,
          3.7,
          4,
          4,
          4,
          4,
          4,
          3.8,
          4,
          4.4
         ],
         "yaxis": "y"
        },
        {
         "customdata": [
          [
           "Audio-Technica ATH-M20x Over-Ear Professional Studio Monitor Headphones",
           1.011
          ]
         ],
         "hovertemplate": "Brand=Audio-Technica<br>Price (₹)=%{x}<br>Customer Rating=%{y}<br>Review_Count=%{marker.size}<br>Title=%{customdata[0]}<br>Value_Score=%{customdata[1]}<extra></extra>",
         "legendgroup": "Audio-Technica",
         "marker": {
          "color": "#FF97FF",
          "size": [
           24414
          ],
          "sizemode": "area",
          "sizeref": 1047.575,
          "symbol": "circle"
         },
         "mode": "markers",
         "name": "Audio-Technica",
         "orientation": "v",
         "showlegend": true,
         "type": "scatter",
         "x": [
          4449
         ],
         "xaxis": "x",
         "y": [
          4.5
         ],
         "yaxis": "y"
        },
        {
         "customdata": [
          [
           "Skullcandy Jib In Ear Wired Earbuds, Microphone, Works with Bluetooth Devices and Computers -Gray Miami",
           9.774
          ]
         ],
         "hovertemplate": "Brand=Skullcandy<br>Price (₹)=%{x}<br>Customer Rating=%{y}<br>Review_Count=%{marker.size}<br>Title=%{customdata[0]}<br>Value_Score=%{customdata[1]}<extra></extra>",
         "legendgroup": "Skullcandy",
         "marker": {
          "color": "#FECB52",
          "size": [
           3431
          ],
          "sizemode": "area",
          "sizeref": 1047.575,
          "symbol": "circle"
         },
         "mode": "markers",
         "name": "Skullcandy",
         "orientation": "v",
         "showlegend": true,
         "type": "scatter",
         "x": [
          399
         ],
         "xaxis": "x",
         "y": [
          3.9
         ],
         "yaxis": "y"
        },
        {
         "customdata": [
          [
           "iQOO TWS 1e in-Ear Earbuds with Mic, Upto 30dB Active Noise Cancellation, Fast Charging which Takes 10 mins for 3 Hours Playtime, with Upto 42 hrs Playback time (Flame Yellow)",
           2.212
          ]
         ],
         "hovertemplate": "Brand=iQOO<br>Price (₹)=%{x}<br>Customer Rating=%{y}<br>Review_Count=%{marker.size}<br>Title=%{customdata[0]}<br>Value_Score=%{customdata[1]}<extra></extra>",
         "legendgroup": "iQOO",
         "marker": {
          "color": "#636efa",
          "size": [
           586
          ],
          "sizemode": "area",
          "sizeref": 1047.575,
          "symbol": "circle"
         },
         "mode": "markers",
         "name": "iQOO",
         "orientation": "v",
         "showlegend": true,
         "type": "scatter",
         "x": [
          1899
         ],
         "xaxis": "x",
         "y": [
          4.2
         ],
         "yaxis": "y"
        },
        {
         "customdata": [
          [
           "Sennheiser CX 80S in-Ear Wired Headphones with in-line One-Button Smart Control with Microphone, 3 Ear Adapter Sizes, 2 Year Warranty, 3.5MM Jack, Superior Sound, Black",
           2.487
          ],
          [
           "Sennheiser Momentum 4 Wireless Over Ear Headphones Designed in Germany - Bluetooth Adaptive Noise Cancelling-ANC,4 Digital Mics for Crystal-Clear Calls,60h Battery, 2 Yr Warranty, Black/Copper",
           0.172
          ]
         ],
         "hovertemplate": "Brand=Sennheiser<br>Price (₹)=%{x}<br>Customer Rating=%{y}<br>Review_Count=%{marker.size}<br>Title=%{customdata[0]}<br>Value_Score=%{customdata[1]}<extra></extra>",
         "legendgroup": "Sennheiser",
         "marker": {
          "color": "#EF553B",
          "size": [
           1612,
           8673
          ],
          "sizemode": "area",
          "sizeref": 1047.575,
          "symbol": "circle"
         },
         "mode": "markers",
         "name": "Sennheiser",
         "orientation": "v",
         "showlegend": true,
         "type": "scatter",
         "x": [
          1689,
          24990
         ],
         "xaxis": "x",
         "y": [
          4.2,
          4.3
         ],
         "yaxis": "y"
        },
        {
         "customdata": [
          [
           "pTron Boom Ultima 4D Dual Driver, in Ear Gaming Wired Headphones with in-Line Mic, Volume Control & Passive Noise Cancelling Boom 3 Earphones - (Dark Blue)",
           12.04
          ],
          [
           "pTron Tangentbeat in Ear Bluetooth 5.0 Wireless Headphones with Mic, Deep Bass, 10mm Drivers, Clear Calls, Dual Pairing, Fast Charging, Magnetic Buds, Voice Assistant & IPX4 Wireless Neckband (Black",
           6.922
          ],
          [
           "pTron Tangentbeat In Ear Bluetooth Wireless Headphones with Mic, Punchy Bass, 10mm Drivers, Clear Calls, Dual Pairing, Fast Charging, Magnetic Buds, Voice Assist. & IPX4 Wireless Neckband (Dark Green)",
           6.344
          ],
          [
           "pTron Boom Ultima V2 Dual Driver, in Ear Gaming Wired Earphones with Mic, Volume Control, Passive Noise Cancelling Boom 3 with 3.5mm Audio Jack & 1.2M Tangle-Free Cable (Black)",
           10.315
          ],
          [
           "pTron Tangentbeat in Ear Bluetooth Wireless Headphones with Mic, Punchy Bass, 10mm Drivers, Clear Calls, Dual Pairing, Fast Charging, Magnetic Buds, Voice Assist & IPX4 Wireless Neckband (Dark Blue)",
           6.344
          ],
          [
           "pTron Tangent Duo Bluetooth 5.2 Wireless in Ear Headphones, 13mm Driver, Deep Bass, HD Calls, Fast Charging Type-C Neckband, Dual Pairing, Voice Assistant & IPX4 Water Resistant (Black/Blue)",
           9.023
          ],
          [
           "pTron Tangentbeat in Ear Bluetooth 5.0 Wireless Headphones, Deep Bass, 18H Playtime, Clear Calls, Dual Device Pairing Wireless Neckband, Fast Charging, Voice Assistant & IPX4 (Green/Grey)",
           6.344
          ],
          [
           "pTron Bassbuds Duo Pro TWS in Ear Earbuds with 3D Audioscape,Trutalk Ai-Enc Calls,Thunder Bass,38H Playtime,50Ms Low Latency Movie/Music Modes,Bt 5.3&Ultra Hd Mic,Fast Type-C Charging&Ipx5(Black)",
           5.393
          ],
          [
           "pTron Bassbuds Tango In-Ear TWS Earbuds, TruTalk AI-ENC Calls, Movie Mode, 40Hrs Playtime, Bluetooth 5.1 Headphone with HD Mics, Touch Control, IPX4 Water-Resistant & Type-C Fast Charging (Bold Black)",
           6.01
          ],
          [
           "pTron Tangent Eon in Ear Bluetooth 5.3 Wireless Headphones, 45H Playtime, HD Mic & Trutalk AI-ENC Calls, Movie/Music Modes, Dual Device Pairing & Type-C Fast Charging & IPX5 (Black)",
           6.177
          ],
          [
           "pTron Pride Lite in Ear Wired Earphones with in-Line Mic, 10Mm Dynamic Driver Wired Headphones, Immersive Sound, Metal Buds, Compatible with 3.5Mm Aux Port & 1.2M Tangle-Free Cable (Blue)",
           16.594
          ],
          [
           "pTron InTunes Magic in-Ear Bluetooth 5.0 Wireless Headphones with Deep Bass, 18H Playtime, Clear Calls, Dual Device Pairing Wireless Neckband, Fast Type-C Charge, Voice Assistant & IPX4 (Jet Black)",
           7.415
          ],
          [
           "pTron Boom Play in Ear Type C Wired Headphones with Mic, 10Mm Drivers for Immersive Audio, 1.2M Fish Scale Style Tangle-Free Cable, in-Line Controls, Metal Buds, Snug-Fit & Wide Compatibility (Blue)",
           14.056
          ],
          [
           "pTron Boom Play X2 In Ear Type C Wired Headphones With Mic, IEM Ear-Hook Design, 13Mm Drivers For Immersive Audio, 1.2M Fish Scale Style Tangle-Free Cable, In-Line Controls & Wide Compatibility(Black)",
           9.273
          ],
          [
           "pTron Boom Play in Ear Type C Wired Headphones with Mic, 10Mm Drivers for Immersive Audio, 1.2M Fish Scale Style Tangle-Free Cable, in-Line Controls, Metal Buds, Snug-Fit & Wide Compatibility (Black)",
           12.851
          ],
          [
           "pTron Zenbuds 1 V2 ANC Bluetooth in Ear Earbuds,13Mm Hyperdrivers with 4D Panaromic Audio,4 Quadpro ANC Mics,40Ms Low Latency Game/Music Modes,Bluetooth V5.3&Type C Charging(White)",
           4.756
          ],
          [
           "pTron Zenbuds 1 V2 ANC Bluetooth in Ear Earbuds 32Db Quietsound Tech,13Mm Hyperdrivers with 4D Panaromic Audio,4 Quadpro ANC Mics,40Ms Low Latency Game/Music Modes,Bluetooth V5.3(Black)",
           4.756
          ],
          [
           "pTron Tangent Flex Bluetooth 5.3 Wireless In Ear Headphone with Mic, 38Hrs Playtime, 13mm Driver, Dual Device Pairing Wireless Neckband, Type-C Charge, Magnetic Buds & IPX5 Water Resistant (Bold Blue)",
           6.613
          ],
          [
           "pTron Tangent Flex Bluetooth 5.3 Wireless In Ear Headphone with Mic, 38H Playtime, 13mm Driver, Dual Device Pairing Wireless Neckband, Type-C Charge, Magnetic Buds & IPX5 Water Resistant(Forest Green)",
           6.613
          ],
          [
           "pTron Tangent Duo in Ear Wireless Headphones with Mic, 13mm Driver, Bluetooth V5.2, Dual Device Pairing, Fast Charging Type-C Neckband, Voice Assistant & IPX4 Water Resistant(Red & Jet Black)",
           9.023
          ],
          [
           "pTron Tangent Duo In Ear Wireless Headphones with Mic, 13mm Driver, Bluetooth V5.2, Dual Device Pairing, Fast Charging Type-C Wireless Neckband, Voice Assistant & IPX4 Water Resistant(Jet Black/Green)",
           9.273
          ],
          [
           "pTron Newly Launched Tangent Evolve with 34Hrs Playtime, HD Mic, Pristine Sound, Bluetooth V5.3 with Dual-Device Pairing Wireless in Ear Neckband, Voice Assistant, Type-C Fast Charging & IPX4 (Green)",
           6.678
          ],
          [
           "pTron Newly Launched Tangent Evolve with 34Hrs Playtime, HD Mic, Pristine Sound, Bluetooth V5.3 with Dual-Device Pairing Wireless Neckband, Voice Assistant, Type-C Fast Charging & IPX4 (Black/Blue)",
           6.678
          ],
          [
           "pTron Newly Launched Tangent Evolve with 34Hrs Playtime, HD Mic, Pristine Sound, Bluetooth V5.3 with Dual-Device Pairing Wireless in Ear Neckband, Voice Assistant, Type-C Fast Charging & IPX4 (Black)",
           6.678
          ],
          [
           "pTron Newly Launched Tangent Evolve with 34Hrs Playtime, HD Mic, Pristine Sound, Bluetooth V5.3 with Dual-Device Pairing Wireless in Ear Neckband, Voice Assistant, Type-C Fast Charging & IPX4 (Blue)",
           6.678
          ],
          [
           "pTron Basspods P81 in-Ear Wireless Earbuds, Pristine Sound, 32Hrs Playtime, Clear Calls TWS Earbuds, Bluetooth V5.1 Headphone, Type-C Fast Charging, Voice Assist & IPX4 Water Resistant (Light Lilac)",
           5.676
          ],
          [
           "pTron Basspods P81 in-Ear Wireless Earbuds, Pristine Sound, 32Hrs Playtime, Clear Calls TWS Earbuds, Bluetooth V5.1 Headphone, Type-C Fast Charging, Voice Assist & IPX4 Water Resistant (Powder Blue)",
           5.676
          ]
         ],
         "hovertemplate": "Brand=pTron<br>Price (₹)=%{x}<br>Customer Rating=%{y}<br>Review_Count=%{marker.size}<br>Title=%{customdata[0]}<br>Value_Score=%{customdata[1]}<extra></extra>",
         "legendgroup": "pTron",
         "marker": {
          "color": "#00cc96",
          "size": [
           42486,
           76112,
           76112,
           42486,
           76112,
           3170,
           76112,
           2360,
           2410,
           2223,
           5713,
           2223,
           290,
           628,
           454,
           1250,
           1250,
           1102,
           1102,
           16429,
           809,
           148,
           148,
           148,
           148,
           370,
           370
          ],
          "sizemode": "area",
          "sizeref": 1047.575,
          "symbol": "circle"
         },
         "mode": "markers",
         "name": "pTron",
         "orientation": "v",
         "showlegend": true,
         "type": "scatter",
         "x": [
          299,
          549,
          599,
          349,
          599,
          399,
          599,
          649,
          599,
          599,
          229,
          499,
          249,
          399,
          249,
          799,
          799,
          499,
          499,
          399,
          399,
          599,
          599,
          599,
          599,
          599,
          599
         ],
         "xaxis": "x",
         "y": [
          3.6,
          3.8,
          3.8,
          3.6,
          3.8,
          3.6,
          3.8,
          3.5,
          3.6,
          3.7,
          3.8,
          3.7,
          3.5,
          3.7,
          3.2,
          3.8,
          3.8,
          3.3,
          3.3,
          3.6,
          3.7,
          4,
          4,
          4,
          4,
          3.4,
          3.4
         ],
         "yaxis": "y"
        },
        {
         "customdata": [
          [
           "iClever BTH13 Bluetooth Kids Headphones with Mic, Over Ear Headphone Wireless Cat Ear Headphone for Girls Birthday Gift Safe Volume Limited, 45H Playtime, Portable Headset for iPad, Purple",
           1.63
          ]
         ],
         "hovertemplate": "Brand=iClever<br>Price (₹)=%{x}<br>Customer Rating=%{y}<br>Review_Count=%{marker.size}<br>Title=%{customdata[0]}<br>Value_Score=%{customdata[1]}<extra></extra>",
         "legendgroup": "iClever",
         "marker": {
          "color": "#ab63fa",
          "size": [
           9403
          ],
          "sizemode": "area",
          "sizeref": 1047.575,
          "symbol": "circle"
         },
         "mode": "markers",
         "name": "iClever",
         "orientation": "v",
         "showlegend": true,
         "type": "scatter",
         "x": [
          2699
         ],
         "xaxis": "x",
         "y": [
          4.4
         ],
         "yaxis": "y"
        },
        {
         "customdata": [
          [
           "Marshall Major IV Wireless On-Ear Headphones with 80+ Hours of Playtime, Multi-Dimensional Control Knob, Wireless Charging- Black",
           0.478
          ]
         ],
         "hovertemplate": "Brand=Marshall<br>Price (₹)=%{x}<br>Customer Rating=%{y}<br>Review_Count=%{marker.size}<br>Title=%{customdata[0]}<br>Value_Score=%{customdata[1]}<extra></extra>",
         "legendgroup": "Marshall",
         "marker": {
          "color": "#FFA15A",
          "size": [
           12935
          ],
          "sizemode": "area",
          "sizeref": 1047.575,
          "symbol": "circle"
         },
         "mode": "markers",
         "name": "Marshall",
         "orientation": "v",
         "showlegend": true,
         "type": "scatter",
         "x": [
          8999
         ],
         "xaxis": "x",
         "y": [
          4.3
         ],
         "yaxis": "y"
        },
        {
         "customdata": [
          [
           "Ambrane Stringz 38 Wired Headphones with Mic, Powerful HD Sound with High Bass, Tangle Free Cable, Comfort in Ear Fit, 3.5mm Jack (Black), Normal",
           15.261
          ],
          [
           "Ambrane Stringz 38 Wired Headphones with Mic, Powerful HD Sound with High Bass, Tangle Free Cable, Comfort in Ear Fit, 3.5mm Jack (Green), Normal",
           13.62
          ],
          [
           "Ambrane Stringz 38 Wired Headphones with Mic, Powerful HD Sound with High Bass, Tangle Free Cable, Comfort in Ear Fit, 3.5mm Jack (Space Grey)",
           15.261
          ],
          [
           "Ambrane Stringz 38 Wired Headphones with Mic, Powerful HD Sound with High Bass, Tangle Free Cable, Comfort in Ear Fit, 3.5mm Jack (Amber Orange)",
           15.261
          ],
          [
           "Ambrane Wired in Earphones with in-line Mic for Clear Calling, 14mm Dynamic Drivers for BoostedBass™, 3.5mm Jack, Multi-Functional Controller (Stringz 38 Lite, Black)",
           19.095
          ],
          [
           "Ambrane Wired in Ear Earphones with in-line Mic for Clear Calling, 14mm Dynamic Drivers for BoostedBass, 3.5mm Jack, Multi-Functional Controller (Stringz 38 Lite, Green)",
           19.095
          ],
          [
           "Ambrane Wired Headphones in Ear Earphones with in-Line Mic for Clear Calling, 14Mm Dynamic Drivers for Boostedbass, 3.5Mm Jack, Multi-Functional Controller (Stringz 38 Lite, Pink)",
           22.485
          ],
          [
           "Ambrane Stringz 38 Wired Headphones with Mic, Powerful HD Sound with High Bass, Tangle Free Cable, Comfort in Ear Fit, 3.5mm Jack (Green)",
           15.261
          ],
          [
           "Ambrane Wired Type C in Ear Earphones with in-line Mic for Clear Calling, 1.2M Cable, 14mm Dynamic Drivers for BoostedBass, Multi-Functional Controller for Type C Enabled Mobiles (Stringz 02, Black)",
           12.851
          ],
          [
           "Ambrane Wired Type C in Ear Earphones with in-line Mic for Clear Calling, 1.2M Cable, 14mm Dynamic Drivers for BoostedBass, Multi-Functional Controller for Type C Enabled Mobiles (Stringz 02, White)",
           12.851
          ],
          [
           "Ambrane Type-C Wired in Ear Earphones, 10Mm Bass Drivers, Inline Controls for Type C Smartphones, iPhone 15 & Laptop, 1.2M Braided Anti Tangle Wire with Mic for Clear Calling (Stringz 03, Green)",
           10.638
          ],
          [
           "Ambrane Type C Wired in Ear Earphones with in-Line Mic for Clear Calling,1.2M Cable,10Mm Dynamic Drivers for Boostedbass,Control Buttons for iPhone 15,Samsung&Type C Devices(Stringz 38C,Black)",
           10.334
          ],
          [
           "Ambrane Type C Wired in Ear Earphones with in-Line Mic for Clear Calling,1.2M Cable,10Mm Dynamic Drivers for Boostedbass,Control Buttons for iPhone 15,Samsung&Type C Devices(Stringz 38C,Green)",
           10.334
          ],
          [
           "Ambrane Type C in Ear Wired Headphones with in-Line Mic for Clear Calling, 1.2M Cable, 10Mm Dynamic Drivers for Boostedbass, Control Buttons for iPhone 15, Samsung&Type C Devices(Stringz 04, Black)",
           10.888
          ],
          [
           "Ambrane Wired Earphones with Mic | 3.5mm Audio Jack | 14mm Driver for HD Sound & Deep Bass | Tangle-Free 1.2m Cable | in-Ear Comfort Fit | Compatible with Mobiles, Tablets, Laptops, PCs (EP-83 Green)",
           21.229
          ],
          [
           "Ambrane Type C Wired in Ear Earphones with in-Line Mic for Clear Calling,1.2M Cable,10Mm Dynamic Drivers for Boostedbass,Control Buttons for iPhone 15,Samsung&Type C Devices (Stringz 38C, Purple)",
           10.334
          ],
          [
           "Ambrane Wired Earphones with Mic | 3.5mm Audio Jack | 14mm Driver for HD Sound & Deep Bass | Tangle-Free 1.2m Cable | In Ear Comfort Fit | Compatible with Mobiles, Tablets, Laptops, PCs (EP-83 Orange)",
           23.899
          ],
          [
           "Ambrane Wired Headphones in Earphones with in-Line Mic for Clear Calling, 14Mm Dynamic Drivers for Boostedbass, 3.5Mm Jack, Multi-Functional Controller (Stringz 38 Lite, Blue)",
           19.095
          ],
          [
           "Ambrane Type C Wired in Ear Earphones with in-Line Mic for Clear Calling,1.2M Cable,10Mm Dynamic Drivers for Boostedbass,Control Buttons for iPhone 15,Samsung&Type C Devices (Stringz 38C, Blue)",
           10.334
          ]
         ],
         "hovertemplate": "Brand=Ambrane<br>Price (₹)=%{x}<br>Customer Rating=%{y}<br>Review_Count=%{marker.size}<br>Title=%{customdata[0]}<br>Value_Score=%{customdata[1]}<extra></extra>",
         "legendgroup": "Ambrane",
         "marker": {
          "color": "#19d3f3",
          "size": [
           22545,
           22545,
           22545,
           22545,
           5519,
           5519,
           5519,
           22545,
           846,
           846,
           462,
           750,
           750,
           3126,
           5519,
           750,
           5519,
           5519,
           750
          ],
          "sizemode": "area",
          "sizeref": 1047.575,
          "symbol": "circle"
         },
         "mode": "markers",
         "name": "Ambrane",
         "orientation": "v",
         "showlegend": true,
         "type": "scatter",
         "x": [
          249,
          279,
          249,
          249,
          199,
          199,
          169,
          249,
          249,
          249,
          329,
          329,
          329,
          349,
          179,
          329,
          159,
          199,
          329
         ],
         "xaxis": "x",
         "y": [
          3.8,
          3.8,
          3.8,
          3.8,
          3.8,
          3.8,
          3.8,
          3.8,
          3.2,
          3.2,
          3.5,
          3.4,
          3.4,
          3.8,
          3.8,
          3.4,
          3.8,
          3.8,
          3.4
         ],
         "yaxis": "y"
        },
        {
         "customdata": [
          [
           "Concept Kart KZ ZSN Pro X Monitor In Ear Earphones Armature Earbuds Wired Headphones Dual Driver 1DD 1BA Deep Bass Stereo Sound Ergonomic IEM Earphones & Leatherette Case (ZSN Pro X with Mic, Golden)",
           1.919
          ],
          [
           "Concept Kart KZ EDX Pro IEM Earphone, HiFi Stereo Special Dual Magnetic Circuit Dynamic Driver Resin Inlay Metal Process in-Ear Monitors Earbuds with 5N OFC 2Pin Detachable Cable (Cyan, with Mic)",
           3.336
          ],
          [
           "Concept Kart Kz Edx Pro Iem Earphone,Hifi Stereo Special Dual Magnetic Circuit Dynamic Driver Resin Inlay Metal Process In-Ear Monitors Earbuds With 5N Ofc 2Pin Detachable Cable(White,With Mic),Wired",
           3.336
          ],
          [
           "Concept Kart Kz Edx Pro Iem Earphone, Hifi Stereo Special Dual Magnetic Circuit Dynamic Driver Resin Inlay Metal Process In-Ear Monitors Earbuds With 5N Ofc 2Pin Detachable Cable, Black",
           3.48
          ],
          [
           "Concept Kart Kz Edx Pro Iem Earphone, Hifi Stereo Special Dual Magnetic Circuit Dynamic Driver Resin Inlay Metal Process In-Ear Monitors Earbuds With 5N Ofc 2Pin Detachable Cable, Black",
           3.48
          ]
         ],
         "hovertemplate": "Brand=Concept<br>Price (₹)=%{x}<br>Customer Rating=%{y}<br>Review_Count=%{marker.size}<br>Title=%{customdata[0]}<br>Value_Score=%{customdata[1]}<extra></extra>",
         "legendgroup": "Concept",
         "marker": {
          "color": "#FF6692",
          "size": [
           931,
           1635,
           1635,
           1635,
           1635
          ],
          "sizemode": "area",
          "sizeref": 1047.575,
          "symbol": "circle"
         },
         "mode": "markers",
         "name": "Concept",
         "orientation": "v",
         "showlegend": true,
         "type": "scatter",
         "x": [
          2137,
          1139,
          1139,
          1092,
          1092
         ],
         "xaxis": "x",
         "y": [
          4.1,
          3.8,
          3.8,
          3.8,
          3.8
         ],
         "yaxis": "y"
        },
        {
         "customdata": [
          [
           "Lapster Anti-Slip Silicone Ear Buds 4Pieces Silicone Earphone Ear Hooks Plugs for in-Ear Neckband 9MM-13MM Black",
           40.404
          ]
         ],
         "hovertemplate": "Brand=Lapster<br>Price (₹)=%{x}<br>Customer Rating=%{y}<br>Review_Count=%{marker.size}<br>Title=%{customdata[0]}<br>Value_Score=%{customdata[1]}<extra></extra>",
         "legendgroup": "Lapster",
         "marker": {
          "color": "#B6E880",
          "size": [
           2383
          ],
          "sizemode": "area",
          "sizeref": 1047.575,
          "symbol": "circle"
         },
         "mode": "markers",
         "name": "Lapster",
         "orientation": "v",
         "showlegend": true,
         "type": "scatter",
         "x": [
          99
         ],
         "xaxis": "x",
         "y": [
          4
         ],
         "yaxis": "y"
        },
        {
         "customdata": [
          [
           "truke Air Buds Lite True Wireless in Ear Earbuds with 10H Single Charge Playtime, Gaming Mode, ENC, AAC Codec, Bluetooth 5.1, IPX4 (Black)",
           5.15
          ],
          [
           "truke Buds BTG1 True Wireless Earbuds with Environmental Noise Cancellation(ENC) & Quad MEMS Mic for Clear Calls | Up to 48hrs of Playtime | 60ms Low Latency | Bluetooth 5.1 | IPX4",
           4.506
          ],
          [
           "truke [Just Launched Buds Q1 Lite True Wireless Earbuds with 48H Playtime, Crystal-Clear Calls, Fast Charging, Elegant Royal Design, Bluetooth 5.4, Noise Cancellation, Gaming Mode, Brand Warranty",
           5.15
          ],
          [
           "truke Buds F1 Ultra True Wireless in Ear Earbuds Spatial Audio Experience, 60H Playtime Ear Buds, Quad Mics Crystal-Clear Calls, Fast Charging, Bluetooth 5.3, Noise Cancellation, Gaming Mode (Black)",
           4.756
          ],
          [
           "truke Buds F1 Ultra True Wireless in Ear Earbuds Spatial Audio Experience, 60H Playtime Ear Buds, Quad Mics Crystal-Clear Calls, Fast Charging, Bluetooth 5.3, Noise Cancellation, Gaming Mode (Blue)",
           4.227
          ],
          [
           "truke New Launch BTG Flex True Wireless in Ear Earbuds, Dual Pairing Ear Buds, 40ms Low Latency Gaming Mode, 60H Playtime Fast Charging, HiFi DSP Sound, Quad-Mic ENC, 13mm Driver,Bluetooth 5.4(Black)",
           3.904
          ],
          [
           "truke New Launch BTG Ultra True Wireless in Ear Earbuds, 40ms Ultra Low Latency Battle Mode™ Gaming Ear Buds, 60H Playtime, Quad Mics Crystal-Clear Calls, Fast Charging, BT 5.4, Noise Cancellation",
           4.227
          ],
          [
           "truke New Launch BTG Ultra True Wireless in Ear Earbuds, 40ms Ultra Low Latency Battle Mode™ Gaming Ear Buds, 60H Playtime, Quad Mics Crystal-Clear Calls, Fast Charging, BT 5.4, Noise Cancellation",
           4.227
          ],
          [
           "truke Newly Launched Buds Freedom Open Ear Wireless Earbuds with PureVoice™ Technology, 16mm Beryllium Speaker, 60H Playtime, Quad Mic for Crystal-Clear Calls, Fast Charging, BT 5.4 (Sunset Black)",
           2.335
          ],
          [
           "truke Newly Launched Buds Liberty Open Ear Wireless Earbuds with 360Spatial™ Audio Experience, 16mm Beryllium Speaker, 60H Playtime, Quad Mic for Crystal-Clear Calls, Fast Charging, BT5.4",
           2.376
          ],
          [
           "truke New Launch Buds Elite True Wireless in Ear Earbuds with 10mm Dynamic Driver, 70Hrs Battery & Fast Charging EarBuds, Dual-MIC ENC TWS, 40ms Low Latency Gaming Buds, Volume Control, BT 5.4 (Black)",
           5.131
          ],
          [
           "truke New Launch Buds Aura True Wireless in Ear Earbuds with 70Hrs of Playtime and Fast Charging Ear Buds, 13mm Titanium Drivers, Quad-MIC ENC TWS, 40ms Low Latency Gaming Buds, BT 5.4 (Azure Blue)",
           4.672
          ],
          [
           "truke New Launch Buds Aura True Wireless in Ear Earbuds with 70Hrs of Playtime and Fast Charging Ear Buds, 13mm Titanium Drivers, Quad-MIC ENC TWS, 40ms Low Latency Gaming Buds, BT 5.4 (CarbonBlack)",
           4.672
          ],
          [
           "truke New Launch Crystal Bass True Wireless in Ear Earbuds with 13mm Drivers, 70H Playtime Fast Charge, Made in India, HiFi Sound TWS, 40ms Low Latency, 4Mics ENC, BT 5.4 (Matte Black)",
           5.382
          ],
          [
           "truke New Launch Buds Elite True Wireless in Ear Earbuds with 10mm Dynamic Driver, 70Hrs Battery & Fast Charging EarBuds, Dual-MIC ENC TWS, 40ms Low Latency Gaming Buds, Volume Control, BT 5.4 (White)",
           5.131
          ],
          [
           "truke Newly Launched BTG Thunder Over the Ear Gaming Headphone with 70H of Playtime, 40mm Titanium Drivers, Dual Pairing Headset, Gaming Mode (40ms Latency) with RGB LEDs, Detachable Mic, BT 5.4-Black",
           3.731
          ],
          [
           "truke New Launch Crystal Bass True Wireless in Ear Earbuds with 13mm Drivers, 70H Playtime Fast Charge, Made in India, HiFi Sound TWS, 40ms Low Latency, 4Mics ENC, BT 5.4 (Cobalt Blue)",
           5.382
          ],
          [
           "truke Newly Launched BTG Thunder Over The Ear Gaming Headphone with 70H of Playtime, 40mm Titanium Drivers, Dual Pairing Headset, Gaming Mode (40ms Latency) with RGB LEDs, Detachable Mic, BT 5.4-Blue",
           3.731
          ],
          [
           "truke Mega 9 New Launch True Wireless in Ear Earbuds W/ 24-Bit Lossless Spatial Audio, 70H Battery Fast Charge Ear Buds, Leather Finish, 13mm Speakers TWS, 40ms Ultra Low Latency, 4Mics ENC",
           3.618
          ],
          [
           "truke New Launch Crystal Dyno Leather Finish True Wireless in Ear Earbuds w/Spatial Audio, 70H Battery Rapid Charge Ear Buds, 13mm Driver HiFi Sound TWS, 40ms Ultra Low Latency, 4Mics ENC -ArcticBlue",
           4.605
          ],
          [
           "truke New Launch Crystal Dyno Leather Finish True Wireless in Ear Earbuds w/Spatial Audio, 70H Battery Fast Charge Ear Buds, 13mm Driver HiFi Sound TWS, 40ms Ultra Low Latency, 4Mics ENC- RavenBlack",
           4.605
          ],
          [
           "truke New Launch Crystal Dyno Leather Finish True Wireless in Ear Earbuds w/Spatial Audio, 70H Battery Rapid Charge Ear Buds, 13mm Driver HiFi Sound TWS, 40ms Ultra Low Latency, 4Mics ENC - OakBrown",
           4.186
          ]
         ],
         "hovertemplate": "Brand=truke<br>Price (₹)=%{x}<br>Customer Rating=%{y}<br>Review_Count=%{marker.size}<br>Title=%{customdata[0]}<br>Value_Score=%{customdata[1]}<extra></extra>",
         "legendgroup": "truke",
         "marker": {
          "color": "#FF97FF",
          "size": [
           2740,
           3817,
           1052,
           2679,
           2679,
           588,
           1354,
           1354,
           589,
           857,
           182,
           406,
           406,
           195,
           182,
           168,
           195,
           168,
           72,
           350,
           350,
           350
          ],
          "sizemode": "area",
          "sizeref": 1047.575,
          "symbol": "circle"
         },
         "mode": "markers",
         "name": "truke",
         "orientation": "v",
         "showlegend": true,
         "type": "scatter",
         "x": [
          699,
          799,
          699,
          799,
          899,
          999,
          899,
          899,
          1499,
          1599,
          799,
          899,
          899,
          799,
          799,
          1099,
          799,
          1099,
          1299,
          999,
          999,
          1099
         ],
         "xaxis": "x",
         "y": [
          3.6,
          3.6,
          3.6,
          3.8,
          3.8,
          3.9,
          3.8,
          3.8,
          3.5,
          3.8,
          4.1,
          4.2,
          4.2,
          4.3,
          4.1,
          4.1,
          4.3,
          4.1,
          4.7,
          4.6,
          4.6,
          4.6
         ],
         "yaxis": "y"
        },
        {
         "customdata": [
          [
           "JLab Go Air Sport TWS Sports Earbuds - Bluetooth Earphones True Wireless, 32+ Hour Playtime Gym Headphones, Running & Workout in Ear Buds with Ear Hooks, C3 Clear Calling, EQ3 Sound, Graphite",
           1.723
          ]
         ],
         "hovertemplate": "Brand=JLab<br>Price (₹)=%{x}<br>Customer Rating=%{y}<br>Review_Count=%{marker.size}<br>Title=%{customdata[0]}<br>Value_Score=%{customdata[1]}<extra></extra>",
         "legendgroup": "JLab",
         "marker": {
          "color": "#FECB52",
          "size": [
           19614
          ],
          "sizemode": "area",
          "sizeref": 1047.575,
          "symbol": "circle"
         },
         "mode": "markers",
         "name": "JLab",
         "orientation": "v",
         "showlegend": true,
         "type": "scatter",
         "x": [
          1799
         ],
         "xaxis": "x",
         "y": [
          3.1
         ],
         "yaxis": "y"
        },
        {
         "customdata": [
          [
           "soundcore Sport X10 True Wireless Bluetooth Sport Earbuds, Rotatable Over-Ear Hooks for Ultimate Comfort and Secure Fit, Deep Bass, IPX7 Waterproof, Sweatproof, Fast Charge, App, Gym, Running",
           0.7
          ],
          [
           "soundcore by Anker Q20i Wireless Bluetooth Over-Ear Headphones with Hybrid Active Noise Cancelling, 40h Playtime in ANC Mode, Hi-Res Audio, Deep Bass, Personalization via App (Black)",
           0.956
          ],
          [
           "soundcore by Anker Q20i Wireless Bluetooth Over-Ear Headphones with Hybrid Active Noise Cancelling, 40h Playtime in ANC Mode, Hi-Res Audio, Deep Bass, App Personalization (Blue)",
           0.956
          ],
          [
           "soundcore by Anker,Space One,Active Noise Cancelling in Ear Headphones,2X Stronger Voice Reduction,40H ANC Playtime,App Control,Ldac Hi-Res Wireless Audio,Comfortable Fit,Clear Calls,Bluetooth 5.3",
           0.538
          ],
          [
           "soundcore by Anker,Space One,Active Noise Cancelling in Ear Headphones,2X Stronger Voice Reduction,40H ANC Playtime,App Control,Ldac Hi-Res Wireless Audio,Comfortable Fit,Clear Calls,Bluetooth 5.3",
           0.538
          ],
          [
           "soundcore by Anker H30i Wireless On-Ear Headphones, Foldable Design, Pure Bass, 70H Playtime, Bluetooth 5.3, Lightweight and Comfortable, App Connectivity, Multipoint Connection (Black)",
           2.159
          ],
          [
           "soundcore by Anker Q20i Hybrid Active Noise Cancelling Headphones, Wireless Over-Ear Bluetooth, 40H Long ANC Playtime, Hi-Res Audio, Big Bass, Customize via an App, Transparency Mode (White)",
           0.956
          ],
          [
           "soundcore R50I Nc By Anker Noise Cancelling In Ear Earbuds, Powerful Bass, 45H Playtime, 2-In-1 Case And Phone Stand, Ip54, Fast Charge 10Min = 120 Min, Bluetooth 5.4 (Green)",
           2.106
          ],
          [
           "soundcore R50I NC by Anker Noise Cancelling in Ear Earbuds,Strong 42Db Adaptive Noise Cancelling,Powerful Bass,45H Playtime,2-in-1 Case and Phone Stand,Ip54,Fast Charge 10Min=120 Min,Bluetooth 5.4",
           1.906
          ],
          [
           "soundcore Life Note 3i Noise Cancelling in ear Earbuds, Patented Hybrid Multi-Mode ANC, TWS with 40H Playtime, 6 Mics for Clear Calls, Low Latency, IPX5 Waterproof, 22 Preset Eqs via App - Black",
           3.604
          ],
          [
           "soundcore K20i by Anker, Semi-in-Ear Earbuds, Bluetooth Wireless, 36H Playtime, Fast Charge, Clear Sound, Comfortable Fit, ENC 2-Mic Clear Calls, Custom EQ, IPX5, Bluetooth 5.3, App Control",
           3.002
          ],
          [
           "soundcore V20i by Anker Open-Ear Headphones, Adjustable Ear Hooks, Ultra-Comfort, Snug Fit, Powerful Sound, Clear Calls, IP55, LED Lights, 36H Playtime, Bluetooth 5.4 Earbuds, Multipoint Connection",
           1.467
          ],
          [
           "soundcore V20i by Anker Open-Ear Headphones, Adjustable Ear Hooks, Ultra-Comfort, Snug Fit, Deep Bass, Clear Calls, IP55, LED Lights, 36H Playtime, Bluetooth 5.4 Earbuds, Multipoint Connection",
           1.467
          ],
          [
           "soundcore by Anker R50i VI True Wireless Earbuds, 10mm Drivers with Big Bass, Bluetooth 5.3, 30H Long Playtime, Water-Resistant, 2 Mics for AI Clear Calls, 22 Preset EQs, Customization (White)",
           3.313
          ],
          [
           "soundcore by Anker R50i VI True Wireless Earbuds, 10mm Drivers with Big Bass, Bluetooth 5.3, 30H Long Playtime, Water-Resistant, 2 Mics for AI Clear Calls, 22 Preset EQs, Customization (Blue)",
           3.31
          ],
          [
           "soundcore by Anker R50i VI True Wireless Earbuds, 10mm Drivers with Big Bass, Bluetooth 5.3, 30H Long Playtime, Water-Resistant, 2 Mics for AI Clear Calls, 22 Preset EQs, Customization via App",
           3.313
          ]
         ],
         "hovertemplate": "Brand=soundcore<br>Price (₹)=%{x}<br>Customer Rating=%{y}<br>Review_Count=%{marker.size}<br>Title=%{customdata[0]}<br>Value_Score=%{customdata[1]}<extra></extra>",
         "legendgroup": "soundcore",
         "marker": {
          "color": "#636efa",
          "size": [
           9843,
           29217,
           29217,
           3510,
           3510,
           6052,
           29217,
           6790,
           6790,
           102,
           2710,
           3633,
           3633,
           38323,
           38323,
           38323
          ],
          "sizemode": "area",
          "sizeref": 1047.575,
          "symbol": "circle"
         },
         "mode": "markers",
         "name": "soundcore",
         "orientation": "v",
         "showlegend": true,
         "type": "scatter",
         "x": [
          5999,
          4499,
          4499,
          7999,
          7998,
          1899,
          4498,
          1899,
          2099,
          999,
          1299,
          2999,
          2999,
          1298,
          1299,
          1298
         ],
         "xaxis": "x",
         "y": [
          4.2,
          4.3,
          4.3,
          4.3,
          4.3,
          4.1,
          4.3,
          4,
          4,
          3.6,
          3.9,
          4.4,
          4.4,
          4.3,
          4.3,
          4.3
         ],
         "yaxis": "y"
        },
        {
         "customdata": [
          [
           "Blaupunkt BH31 Bluetooth Wireless Over Ear Headphones I 40MM Drivers I HD Sound I Soft PU Headband I Media & Volume Control with Built in Mic I TurboVolt Fast Charging I AUX Port (Black)",
           3.336
          ],
          [
           "Blaupunkt EM01 in-Ear Type C Wired Earphone with Mic and Deep Bass HD Sound Mobile Headset with Noise Isolation",
           7.831
          ],
          [
           "Blaupunkt Newly Launched BH41 Bluetooth Wireless Over Ear Headphones I Long Playtime I 40MM Drivers I Foldable I Flexible & Light Weight I Built in Mic I TurboVolt Fast Charging",
           2.761
          ],
          [
           "Blaupunkt BTW100 LITE in Ear TWS Bluetooth Earbuds I HD Sound I Gaming Mode I Low Latency I 30H Playtime* I TurboVolt Charging I BT Version 5.3 I Intuitive Touch Controls (Black)",
           5.436
          ],
          [
           "Blaupunkt EM06 in-Ear Type C Wired Earphone with Mic and Deep Bass HD Sound Mobile Headset with Noise Isolation",
           11.175
          ],
          [
           "Blaupunkt EM06 in-Ear Type C Wired Earphone with Mic and Deep Bass HD Sound Mobile Headset with Noise Isolation",
           11.175
          ],
          [
           "Blaupunkt Newly Launched BTW300 Moksha+ True ANC in Ear Earbuds I 4 Mics CRISPR ENC Tech I Blink Pair Tech I Ambient Mode Noise Cancelling I LED Digital Display I Gaming Mode I TurboVolt Charging",
           2.112
          ]
         ],
         "hovertemplate": "Brand=Blaupunkt<br>Price (₹)=%{x}<br>Customer Rating=%{y}<br>Review_Count=%{marker.size}<br>Title=%{customdata[0]}<br>Value_Score=%{customdata[1]}<extra></extra>",
         "legendgroup": "Blaupunkt",
         "marker": {
          "color": "#EF553B",
          "size": [
           1396,
           11594,
           1396,
           7003,
           11594,
           11594,
           7003
          ],
          "sizemode": "area",
          "sizeref": 1047.575,
          "symbol": "circle"
         },
         "mode": "markers",
         "name": "Blaupunkt",
         "orientation": "v",
         "showlegend": true,
         "type": "scatter",
         "x": [
          1199,
          498,
          1449,
          699,
          349,
          349,
          1799
         ],
         "xaxis": "x",
         "y": [
          4,
          3.9,
          4,
          3.8,
          3.9,
          3.9,
          3.8
         ],
         "yaxis": "y"
        },
        {
         "customdata": [
          [
           "Original-Galaxy Wired Earphones for All Samsung Smartphones with Mic | Pure Bass Sound | One Button Multi-Functional Remote | Comfort fit | 6 Months Warranty (White)",
           12.5
          ]
         ],
         "hovertemplate": "Brand=Original-Galaxy<br>Price (₹)=%{x}<br>Customer Rating=%{y}<br>Review_Count=%{marker.size}<br>Title=%{customdata[0]}<br>Value_Score=%{customdata[1]}<extra></extra>",
         "legendgroup": "Original-Galaxy",
         "marker": {
          "color": "#00cc96",
          "size": [
           898
          ],
          "sizemode": "area",
          "sizeref": 1047.575,
          "symbol": "circle"
         },
         "mode": "markers",
         "name": "Original-Galaxy",
         "orientation": "v",
         "showlegend": true,
         "type": "scatter",
         "x": [
          320
         ],
         "xaxis": "x",
         "y": [
          4
         ],
         "yaxis": "y"
        },
        {
         "customdata": [
          [
           "SYSFUN Single Bluetooth Wireless Earbuds, Mini Invisible in Ear Wireless Bluetooth Headphone 12 Hours Super Long Battery Life Suitable for Sports Work and Sleep - Black",
           5.843
          ]
         ],
         "hovertemplate": "Brand=SYSFUN<br>Price (₹)=%{x}<br>Customer Rating=%{y}<br>Review_Count=%{marker.size}<br>Title=%{customdata[0]}<br>Value_Score=%{customdata[1]}<extra></extra>",
         "legendgroup": "SYSFUN",
         "marker": {
          "color": "#ab63fa",
          "size": [
           1080
          ],
          "sizemode": "area",
          "sizeref": 1047.575,
          "symbol": "circle"
         },
         "mode": "markers",
         "name": "SYSFUN",
         "orientation": "v",
         "showlegend": true,
         "type": "scatter",
         "x": [
          599
         ],
         "xaxis": "x",
         "y": [
          3.5
         ],
         "yaxis": "y"
        },
        {
         "customdata": [
          [
           "Mivi SuperPods Immersio [Flagship Launch] in Ear Ear Buds Wireless, Dolby Audio, 3D Soundstage, 60H Playtime, AI ENC, Bluetooth TWS, BT v5.4 Earbuds",
           1.774
          ],
          [
           "Mivi SuperPods Immersio [Flagship Launch] in Ear Ear Buds Wireless, Dolby Audio, 3D Soundstage, 60H Playtime, AI ENC, Bluetooth TWS, BT v5.4 Earbuds",
           1.774
          ],
          [
           "Mivi DuoPods i2 True Wireless Earbuds - 45H+ Playtime, HD Calls, Fast Charging, 13mm Bass Drivers, IPX4 Sweatproof, v5.3 Bluetooth in Ear Ear Buds Wireless, Made in India",
           3.704
          ],
          [
           "Mivi DuoPods i2 True Wireless Earbuds - 45H+ Playtime, HD Calls, Fast Charging, 13mm Bass Drivers, IPX4 Sweatproof, v5.3 Bluetooth in Ear Ear Buds Wireless, Made in India",
           4.631
          ],
          [
           "Mivi DuoPods i2 True Wireless Earbuds - 45H+ Playtime, HD Calls, Fast Charging, 13mm Bass Drivers, IPX4 Sweatproof, v5.3 Bluetooth in Ear Ear Buds Wireless, Made in India",
           3.704
          ],
          [
           "Mivi DuoPods i7 Earbuds - Step into The 3rd Dimension of Sound with 3D Soundstage, High Fidelity Drivers, Advanced Audio Codec for Lossless Audio, etc.",
           3.604
          ],
          [
           "Mivi SuperPods Halo [Flagship Launch], 35dB ANC Active Noise Cancellation in Ear Ear Buds Wireless, Spatial Audio, 60HRS Battery,13mm Drivers, IPX4, v5.4 Bluetooth Earbuds with Mic",
           1.951
          ],
          [
           "Mivi SuperPods Halo [Flagship Launch], 35dB ANC Active Noise Cancellation in Ear Ear Buds Wireless, Spatial Audio, 60HRS Battery,13mm Drivers, IPX4, v5.4 Bluetooth Earbuds with Mic",
           1.951
          ],
          [
           "Mivi DuoPods i2 Pro [New Launch], InstaCharge HD Clear Calling Bluetooth in Ear Earbuds, 60 Hours+ Long Playtime, Low Latency Gaming, v5.3 Bluetooth Ear Buds Wireless, Made in India",
           3.169
          ],
          [
           "Mivi Commando X7 [Just Launched] Gaming in Ear Earbuds: 35ms Low Latency, Aurora Lights, Dual RGB,13mm Bass Drivers, 50Hrs Playtime,Type C, AI ENC, Made in India Ear buds Wireless Bluetooth Gaming TWS",
           3.253
          ],
          [
           "Mivi SuperPods Immersio [Flagship Launch] in Ear Ear Buds Wireless, Dolby Audio, 3D Soundstage, 60H Playtime, AI ENC, Bluetooth TWS, BT v5.4 Earbuds",
           1.774
          ]
         ],
         "hovertemplate": "Brand=Mivi<br>Price (₹)=%{x}<br>Customer Rating=%{y}<br>Review_Count=%{marker.size}<br>Title=%{customdata[0]}<br>Value_Score=%{customdata[1]}<extra></extra>",
         "legendgroup": "Mivi",
         "marker": {
          "color": "#FFA15A",
          "size": [
           5103,
           5103,
           5308,
           5308,
           5308,
           1022,
           5103,
           5103,
           330,
           236,
           5103
          ],
          "sizemode": "area",
          "sizeref": 1047.575,
          "symbol": "circle"
         },
         "mode": "markers",
         "name": "Mivi",
         "orientation": "v",
         "showlegend": true,
         "type": "scatter",
         "x": [
          2199,
          2199,
          999,
          799,
          999,
          999,
          1999,
          1999,
          1199,
          1199,
          2199
         ],
         "xaxis": "x",
         "y": [
          3.9,
          3.9,
          3.7,
          3.7,
          3.7,
          3.6,
          3.9,
          3.9,
          3.8,
          3.9,
          3.9
         ],
         "yaxis": "y"
        },
        {
         "customdata": [
          [
           "D2Q in-Ear Wired Galaxy Earphones for All Samsung Smartphones with Mic | Pure Bass Sound | One Button Multi-Function Remote | Comfort fit | 6 Months Warranty (Black)",
           12.5
          ]
         ],
         "hovertemplate": "Brand=D2Q<br>Price (₹)=%{x}<br>Customer Rating=%{y}<br>Review_Count=%{marker.size}<br>Title=%{customdata[0]}<br>Value_Score=%{customdata[1]}<extra></extra>",
         "legendgroup": "D2Q",
         "marker": {
          "color": "#19d3f3",
          "size": [
           898
          ],
          "sizemode": "area",
          "sizeref": 1047.575,
          "symbol": "circle"
         },
         "mode": "markers",
         "name": "D2Q",
         "orientation": "v",
         "showlegend": true,
         "type": "scatter",
         "x": [
          320
         ],
         "xaxis": "x",
         "y": [
          4
         ],
         "yaxis": "y"
        },
        {
         "customdata": [
          [
           "HAMMER Bash Max Over The Ear Wireless Bluetooth Headphones with Mic, Touch Control, Deep Bass, Upto 40 Hours Playtime, Bluetooth 5.3, Workout/Travel (Black)",
           1.683
          ],
          [
           "HAMMER Bash Max Over The Ear Wireless Bluetooth Headphones with Mic, Touch Control, Deep Bass, Upto 40 Hours Playtime, Bluetooth 5.3, Workout/Travel (Cool Grey)",
           1.683
          ],
          [
           "HAMMER Splendor in Ear Bluetooth Neckband with Magnetic Earbuds, Deep Bass, Built-in Mic, Upto 18 Hrs Playtime, BT 5.2, Micro USB Charging Port (Black)",
           6.413
          ],
          [
           "HAMMER Screen TWS, ANC (32dB), Smart Touch Display True Wireless Buds, Type-C Fast Charging, Bv5.4, Find My Earbuds, 4 Mics ENC for Clear Calling, Transparency Mode, EQ Mode (White)",
           2.001
          ],
          [
           "HAMMER Aeromax ANC (32dB) TWS, BTv5.4, Low Latency, in-Ear Bluetooth Earbuds with Clear ENC Calling, Quad Mics, Type-C,Touch Controls, Deep Bass, 30 Hrs Playtime (White)",
           3.276
          ],
          [
           "HAMMER New Launch Ultra Pods TWS Wireless Bluetooth Ear buds, Inbuilt Mic, 100H Standby Time, Earbuds with 30H Playtime, USB Type-C,13mm Dynamic Drivers, IPX5 Water Resistant Bluetooth Earphones(Blue)",
           4.292
          ],
          [
           "HAMMER Bash Max Over The Ear Wireless Bluetooth Headphones with Mic, Touch Control, Deep Bass, Upto 40 Hours Playtime, Bluetooth 5.3, Workout/Travel (Blue)",
           1.683
          ],
          [
           "HAMMER Nova in Ear C Type Earphones Wired with Mic,13mm Driver, in-line Control, Metallic Built, Powerful Bass, Comfortable & Lightweight (Black)",
           11.037
          ]
         ],
         "hovertemplate": "Brand=HAMMER<br>Price (₹)=%{x}<br>Customer Rating=%{y}<br>Review_Count=%{marker.size}<br>Title=%{customdata[0]}<br>Value_Score=%{customdata[1]}<extra></extra>",
         "legendgroup": "HAMMER",
         "marker": {
          "color": "#FF6692",
          "size": [
           3304,
           3304,
           515,
           838,
           838,
           383,
           3304,
           14
          ],
          "sizemode": "area",
          "sizeref": 1047.575,
          "symbol": "circle"
         },
         "mode": "markers",
         "name": "HAMMER",
         "orientation": "v",
         "showlegend": true,
         "type": "scatter",
         "x": [
          2199,
          2199,
          499,
          1799,
          1099,
          699,
          2199,
          299
         ],
         "xaxis": "x",
         "y": [
          3.7,
          3.7,
          3.2,
          3.6,
          3.6,
          3,
          3.7,
          3.3
         ],
         "yaxis": "y"
        },
        {
         "customdata": [
          [
           "OIVO INDIA Headphone Stand Headset Holder with Aluminum Supporting Bar Flexible Headrest ABS Solid Base for All Headphones Size (No Headphones, Only Stand)",
           11.028
          ]
         ],
         "hovertemplate": "Brand=OIVO<br>Price (₹)=%{x}<br>Customer Rating=%{y}<br>Review_Count=%{marker.size}<br>Title=%{customdata[0]}<br>Value_Score=%{customdata[1]}<extra></extra>",
         "legendgroup": "OIVO",
         "marker": {
          "color": "#B6E880",
          "size": [
           124
          ],
          "sizemode": "area",
          "sizeref": 1047.575,
          "symbol": "circle"
         },
         "mode": "markers",
         "name": "OIVO",
         "orientation": "v",
         "showlegend": true,
         "type": "scatter",
         "x": [
          399
         ],
         "xaxis": "x",
         "y": [
          4.4
         ],
         "yaxis": "y"
        },
        {
         "customdata": [
          [
           "Huawei FreeBuds SE 2, 40-Hour Battery Life, Compact and Comfortable to Grip, 3 Hours of Music Playback on a 10-Minute Charge, IP54 Dust & Splash Resistance, Robust Bluetooth 5.3 Connections (White)",
           1.501
          ]
         ],
         "hovertemplate": "Brand=Huawei<br>Price (₹)=%{x}<br>Customer Rating=%{y}<br>Review_Count=%{marker.size}<br>Title=%{customdata[0]}<br>Value_Score=%{customdata[1]}<extra></extra>",
         "legendgroup": "Huawei",
         "marker": {
          "color": "#FF97FF",
          "size": [
           7865
          ],
          "sizemode": "area",
          "sizeref": 1047.575,
          "symbol": "circle"
         },
         "mode": "markers",
         "name": "Huawei",
         "orientation": "v",
         "showlegend": true,
         "type": "scatter",
         "x": [
          2999
         ],
         "xaxis": "x",
         "y": [
          4.5
         ],
         "yaxis": "y"
        },
        {
         "customdata": [
          [
           "Bluetooth Wireless Earphones for OnePlus Nord 2T, Nord 2 CE, 11 RT, 11R, 9 RT, Pac-Man Edition, High Bass Headphones (JO25)",
           11.765
          ]
         ],
         "hovertemplate": "Brand=Bluetooth<br>Price (₹)=%{x}<br>Customer Rating=%{y}<br>Review_Count=%{marker.size}<br>Title=%{customdata[0]}<br>Value_Score=%{customdata[1]}<extra></extra>",
         "legendgroup": "Bluetooth",
         "marker": {
          "color": "#FECB52",
          "size": [
           1
          ],
          "sizemode": "area",
          "sizeref": 1047.575,
          "symbol": "circle"
         },
         "mode": "markers",
         "name": "Bluetooth",
         "orientation": "v",
         "showlegend": true,
         "type": "scatter",
         "x": [
          425
         ],
         "xaxis": "x",
         "y": [
          5
         ],
         "yaxis": "y"
        },
        {
         "customdata": [
          [
           "HOPPUP AirDoze Fusion Earbuds with 40 Hours Playtime| 40ms Low Latency Gaming Mode| 13mm Dynamic Driver| Bluetooth 5.3 Technology| Type-c Fast Charging| Black Color for Music, Gaming, Gym, Travel",
           6.01
          ]
         ],
         "hovertemplate": "Brand=HOPPUP<br>Price (₹)=%{x}<br>Customer Rating=%{y}<br>Review_Count=%{marker.size}<br>Title=%{customdata[0]}<br>Value_Score=%{customdata[1]}<extra></extra>",
         "legendgroup": "HOPPUP",
         "marker": {
          "color": "#636efa",
          "size": [
           414
          ],
          "sizemode": "area",
          "sizeref": 1047.575,
          "symbol": "circle"
         },
         "mode": "markers",
         "name": "HOPPUP",
         "orientation": "v",
         "showlegend": true,
         "type": "scatter",
         "x": [
          599
         ],
         "xaxis": "x",
         "y": [
          3.6
         ],
         "yaxis": "y"
        },
        {
         "customdata": [
          [
           "KZ Castor Wired IEM Earphone with Mic, 10mm Dual Magnetic + 8mm Dynamic Driver, Harman Target with Improved Bass in Ear Monitor, 4 Tuning Switches, 2Pin Detachable Cable",
           1.685
          ],
          [
           "KZ EDX Pro IEM Earphone, HiFi Stereo Special Dual Magnetic Circuit Dynamic Driver Resin Inlay Metal Process in-Ear Monitors Earbuds with 5N OFC 2Pin Detachable Cable, Cyan",
           3.48
          ],
          [
           "KZ EDC PRO IEM Wired Earphone, HiFi Dynamic Driver (DD) IEM, High-Functioning Silver-Plated OFC Cable, 0.75mm Detachable Cable, 3.5mm Plug for Audiophiles & Musicians. (Black)",
           4.53
          ],
          [
           "KZ EDC PRO IEM Wired Earphone, HiFi Dynamic Driver (DD) IEM, High-Functioning Silver-Plated OFC Cable, 0.75mm Detachable Cable, 3.5mm Plug for Audiophiles & Musicians. (Black)",
           5.076
          ],
          [
           "KZ Castor Pro IEM with HD Mic, Dual 10mm Dynamic Driver, Harman Target Improved Bass for Hi-Res Audio Quality, 4 Tuning Switch, Oxygen Free Copper Flat Cable, 0.78mm 2Pin & 3.5mm Plug Compatible",
           1.915
          ],
          [
           "KZ Castor Pro in Ear Monitor with Mic, Dual 10mm Dynamic Driver, Harman Target Hi-Res Audio Quality, 4 Tuning Switch, Oxygen Free Copper Flat Cable, HD Microphone, 0.78mm 2Pin & 3.5mm Plug Compatible",
           2.16
          ]
         ],
         "hovertemplate": "Brand=KZ<br>Price (₹)=%{x}<br>Customer Rating=%{y}<br>Review_Count=%{marker.size}<br>Title=%{customdata[0]}<br>Value_Score=%{customdata[1]}<extra></extra>",
         "legendgroup": "KZ",
         "marker": {
          "color": "#EF553B",
          "size": [
           183,
           1635,
           201,
           201,
           153,
           153
          ],
          "sizemode": "area",
          "sizeref": 1047.575,
          "symbol": "circle"
         },
         "mode": "markers",
         "name": "KZ",
         "orientation": "v",
         "showlegend": true,
         "type": "scatter",
         "x": [
          2374,
          1092,
          883,
          788,
          2089,
          1852
         ],
         "xaxis": "x",
         "y": [
          4,
          3.8,
          4,
          4,
          4,
          4
         ],
         "yaxis": "y"
        },
        {
         "customdata": [
          [
           "Wireless Earbuds with LED Display Case, Digital Battery Indicator",
           10.563
          ],
          [
           "Wireless Bluetooth Headphones for OnePlus 11 RT, 11E, 11R, 9 RT, Nord 2 CE, Nord 2T, Pac-Man Edition (JO25) Neckband",
           3.103
          ],
          [
           "Wireless Earbuds Bluetooth 5.1 TWS Earphones Full Touch Control Headphones Built-in Microphone Immersive Sound Quality Ensure Fast Stable & Connection Smart LED Headset Sports Bud",
           11.343
          ],
          [
           "Wireless Earbuds Bluetooth 5.1 TWS Earphones Full Touch Control Headphones Built-in Microphone Immersive Sound Quality Ensure Fast Stable & Connection Smart LED Headset Sports Bud",
           16.393
          ]
         ],
         "hovertemplate": "Brand=Wireless<br>Price (₹)=%{x}<br>Customer Rating=%{y}<br>Review_Count=%{marker.size}<br>Title=%{customdata[0]}<br>Value_Score=%{customdata[1]}<extra></extra>",
         "legendgroup": "Wireless",
         "marker": {
          "color": "#00cc96",
          "size": [
           8,
           4,
           12,
           2
          ],
          "sizemode": "area",
          "sizeref": 1047.575,
          "symbol": "circle"
         },
         "mode": "markers",
         "name": "Wireless",
         "orientation": "v",
         "showlegend": true,
         "type": "scatter",
         "x": [
          284,
          419,
          335,
          305
         ],
         "xaxis": "x",
         "y": [
          3,
          1.3,
          3.8,
          5
         ],
         "yaxis": "y"
        },
        {
         "customdata": [
          [
           "Redmi Buds 5 Truly Wireless Bluetooth in Ear Ear Buds (TWS) with Upto 46Db Hybrid Noise Cancellation,Dual-Mic Ai Call Enhancement,10Mins for 4Hours Fast Charging with Upto 38Hrs Playback|Fusion Black",
           1.601
          ],
          [
           "Redmi Buds 5 Bluetooth TWS Earbuds, Up to 46dB Hybrid Noise Cancellation, Quad Mic with AI Call Enhancement, 10mins Charge for 4Hours Life, Up to 38Hrs Playback| Fusion Purple",
           1.601
          ],
          [
           "Redmi Buds 5C Bluetooth TWS in Ear Earbuds, Up to 40Db Hybrid Noise Cancellation, Quad Mic, Custom Eq, 10Mins Charge for 2Hours Life, Up to 36Hrs Playback, Gaming TWS| Symphony Blue",
           2.223
          ],
          [
           "Redmi Buds 5C Bluetooth TWS in Ear Earbuds, Up to 40Db Hybrid Noise Cancellation, Quad Mic, Custom Eq, 10Mins Charge for 2Hours Life, Up to 36Hrs Playback, Gaming TWS| Acoustic Black",
           2.223
          ],
          [
           "Redmi Buds 6, Dual Driver TWS in Ear Earbuds, 49dB Hybrid Active Noise Cancellation, Spatial Audio, Dual Device Connection, Quad Mic AI ENC, 42 Hrs Playtime, Custom EQ, Wireless Earbuds (Green)",
           1.334
          ],
          [
           "Redmi Buds 6, Dual Driver TWS in Ear Earbuds, 49dB Hybrid Active Noise Cancellation, Spatial Audio, Dual Device Connection, Quad Mic AI ENC, 42 Hrs Playtime, Custom EQ, Wireless Earbuds (Black)",
           1.334
          ]
         ],
         "hovertemplate": "Brand=Redmi<br>Price (₹)=%{x}<br>Customer Rating=%{y}<br>Review_Count=%{marker.size}<br>Title=%{customdata[0]}<br>Value_Score=%{customdata[1]}<extra></extra>",
         "legendgroup": "Redmi",
         "marker": {
          "color": "#ab63fa",
          "size": [
           2724,
           2724,
           2724,
           2724,
           2724,
           2724
          ],
          "sizemode": "area",
          "sizeref": 1047.575,
          "symbol": "circle"
         },
         "mode": "markers",
         "name": "Redmi",
         "orientation": "v",
         "showlegend": true,
         "type": "scatter",
         "x": [
          2499,
          2499,
          1799,
          1799,
          2999,
          2999
         ],
         "xaxis": "x",
         "y": [
          4,
          4,
          4,
          4,
          4,
          4
         ],
         "yaxis": "y"
        },
        {
         "customdata": [
          [
           "Honeywell Moxie V50 Wired Earphones with Built in Mic, 10mm*2 Drivers, Passive Noise Cancellation, Deep Bass & Clear Sound, Ultra HD Mic Quality, 3.5mm AUX, Voice Assistant Enabled, 1.2 Mtr",
           9.023
          ]
         ],
         "hovertemplate": "Brand=Honeywell<br>Price (₹)=%{x}<br>Customer Rating=%{y}<br>Review_Count=%{marker.size}<br>Title=%{customdata[0]}<br>Value_Score=%{customdata[1]}<extra></extra>",
         "legendgroup": "Honeywell",
         "marker": {
          "color": "#FFA15A",
          "size": [
           626
          ],
          "sizemode": "area",
          "sizeref": 1047.575,
          "symbol": "circle"
         },
         "mode": "markers",
         "name": "Honeywell",
         "orientation": "v",
         "showlegend": true,
         "type": "scatter",
         "x": [
          399
         ],
         "xaxis": "x",
         "y": [
          3.6
         ],
         "yaxis": "y"
        },
        {
         "customdata": [
          [
           "amazon basics TWS in-Ear Earbuds (AB-T17) with Fast Charging up to 70 Hours of Playtime | Dual 13mm Driver | IPX4 Water-Resistance | Bluetooth 5.3 | Charging Case with Mic | Touch Control (Green)",
           6.557
          ],
          [
           "amazon basics TWS in-Ear Earbuds (AB-T01A) with Fast Charging up to 50 Hours of Playtime | Dual 10mm Driver | IPX4 Water-Resistance | Bluetooth 5.3 | Charging Case with Mic | Touch Control (Blue)",
           7.214
          ],
          [
           "amazon basics TWS in-Ear Earbuds (AB-T01B) with Fast Charging up to 80 Hours of Playtime | Dual 10mm Driver | IPX4 Water-Resistance | Bluetooth 5.3 | Charging Case with Mic | Touch Control (Grey)",
           5.509
          ],
          [
           "amazon basics TWS in-Ear Earbuds (AB-T01B) with Fast Charging up to 80 Hours of Playtime | Dual 10mm Driver | IPX4 Water-Resistance | Bluetooth 5.3 | Charging Case with Mic | Touch Control (Blue)",
           5.509
          ],
          [
           "amazon basics TWS in-Ear Earbuds (AB-T01B) with Fast Charging up to 80 Hours of Playtime | Dual 10mm Driver | IPX4 Water-Resistance | Bluetooth 5.3 | Charging Case with Mic | Touch Control (Green)",
           5.509
          ],
          [
           "amazon basics TWS in-Ear Earbuds (AB-A8) with Fast Charging up to 50 Hours of Playtime | Dual 10mm Driver | IPX4 Water-Resistance | Bluetooth 5.3 | Charging Case with Mic | Touch Control (Orange)",
           6.193
          ],
          [
           "amazon basics TWS in-Ear Earbuds (AB-A8) with Fast Charging up to 50 Hours of Playtime | Dual 10mm Driver | IPX4 Water-Resistance | Bluetooth 5.3 | Charging Case with Mic | Touch Control (Blue)",
           6.193
          ],
          [
           "amazon basics TWS in-Ear Earbuds (AB-A8) with Fast Charging up to 50 Hours of Playtime | Dual 10mm Driver | IPX4 Water-Resistance | Bluetooth 5.3 | Charging Case with Mic | Touch Control (Beige)",
           6.193
          ],
          [
           "amazon basics TWS in-Ear Earbuds (AB-T17) with Fast Charging up to 70 Hours of Playtime | Dual 13mm Driver | IPX4 Water-Resistance | Bluetooth 5.3 | Charging Case with Mic | Touch Control (Blue)",
           6.01
          ],
          [
           "amazon basics TWS in-Ear Earbuds (AB-T17) with Fast Charging up to 70 Hours of Playtime | Dual 13mm Driver | IPX4 Water-Resistance | Bluetooth 5.3 | Charging Case with Mic | Touch Control (Beige)",
           6.01
          ],
          [
           "amazon basics TWS in-Ear Earbuds (AB-T08) with Fast Charging up to 50 Hours of Playtime | Dual 10mm Driver | IPX4 Water-Resistance | Bluetooth 5.3 | Charging Case with Mic | Touch Control (White)",
           6.613
          ],
          [
           "amazon basics TWS in-Ear Earbuds (AB-T01A) with Fast Charging up to 50 Hours of Playtime | Dual 10mm Driver | IPX4 Water-Resistance | Bluetooth 5.3 | Charging Case with Mic | Touch Control (Mint)",
           7.214
          ],
          [
           "amazon basics TWS in-Ear Earbuds (AB-T10) with Fast Charging up to 50 Hours of Playtime | Dual 10mm Driver | IPX4 Water-Resistance | Bluetooth 5.3 | Charging Case with Mic | Touch Control (Black)",
           5.843
          ],
          [
           "amazon basics TWS in-Ear Earbuds (AB-T10) with Fast Charging up to 50 Hours of Playtime | Dual 10mm Driver | IPX4 Water-Resistance | Bluetooth 5.3 | Charging Case with Mic | Touch Control (Blue)",
           7.014
          ],
          [
           "amazon basics TWS in-Ear Earbuds (AB-T08) - C1 with Fast Charging up to 50 Hours of Playtime | Dual 10mm Driver | IPX4 Water-Resistance | Bluetooth 5.3 | Charging Case with Mic | Touch Control (Blue)",
           3.003
          ],
          [
           "amazon basics TWS in-Ear Earbuds (AB-T10) with Fast Charging up to 50 Hours of Playtime | Dual 10mm Driver | IPX4 Water-Resistance | Bluetooth 5.3 | Charging Case with Mic | Touch Control (White)",
           6.375
          ],
          [
           "amazon basics TWS in-Ear Earbuds (AB-T01A) with Fast Charging up to 50 Hours of Playtime | Dual 10mm Driver | IPX4 Water-Resistance | Bluetooth 5.3 | Charging Case with Mic | Touch Control (Black)",
           7.214
          ],
          [
           "amazon basics True Wireless in-Ear Earbuds with Mic, Touch Control, Ipx5 Water-Resistance,Bluetooth 5.0, Up to 80 Hours Play Time, Voice Assistance&Fast Charging (Black)",
           5.647
          ],
          [
           "amazon basics True Wireless in-Ear Earbuds with Mic, Touch Control, IPX5 Water-Resistance,Bluetooth 5.0, Up to 80 Hours Play Time, Voice Assistance&Fast Charging (Blue)",
           5.647
          ],
          [
           "amazon basics TWS in-Ear Earbuds (P50) with Fast Charging up to 50 Hours of Playtime | Dual 10mm Driver | IPX4 Water-Resistance | Bluetooth 5.3 | Quad Mic with ENC | Touch Control (White)",
           7.214
          ],
          [
           "amazon basics TWS in-Ear Earbuds (P80) with Fast Charging up to 80 Hours of Playtime | Dual 12mm Driver | IPX4 Water-Resistance | Bluetooth 5.3 | Quad Mic with ENC | Touch Control (Black)",
           5.509
          ],
          [
           "amazon basics TWS in-Ear Earbuds (P50) with Fast Charging up to 50 Hours of Playtime | Dual 10mm Driver | IPX4 Water-Resistance | Bluetooth 5.3 | Quad Mic with ENC | Touch Control (Light Blue)",
           7.214
          ],
          [
           "amazon basics TWS in-Ear Earbuds (S94) with Fast Charging up to 40 Hours of Playtime | Dual 10mm Driver | IPX4 Water-Resistance | Bluetooth 5.3 | Touch Control (White)",
           7.014
          ],
          [
           "amazon basics TWS in-Ear Earbuds (S94) with Fast Charging up to 40 Hours of Playtime | Dual 10mm Driver | IPX4 Water-Resistance | Bluetooth 5.3 | Touch Control (Blue)",
           7.014
          ],
          [
           "amazon basics True Wireless Gaming Mode in-Ear Earbuds, Up to 50ms Low Latency & Built-in Mic, 60H Playtime, IPX5 Sweat & Water Resistant, Touch Controls & Voice Control, Super Fast Charging (Black)",
           4.841
          ],
          [
           "amazon basics True Wireless Gaming Mode in-Ear Earbuds, Up to 50ms Low Latency & Built-in Mic, 60H Playtime, IPX5 Sweat & Water Resistant, Touch Controls & Voice Control, Super Fast Charging (White)",
           5.829
          ],
          [
           "amazon basics EP2 in Ear Type C Wired Earphones with Mic, Tangle Free 1.18 Metre Cable, Metallic Design, 10mm Drivers, in Line Mic & Volume Controller (Black)",
           10.294
          ],
          [
           "amazon basics True Wireless in-Ear Earbuds with Mic, Low-Latency Gaming Mode, Touch Control, IPX5 Water-Resistance, Bluetooth 5.3, Up to 60 Hours Play Time, Voice Assistance and Fast Charging (White)",
           5.246
          ],
          [
           "amazon basics Wired On-Ear Headphones with Noise-Cancelling Mic | Enhanced DSP | Adjustable Headband & SoundGuard | Lightweight | for PC/Mac (Black)",
           4.673
          ],
          [
           "amazon basics TWS in-Ear Earbuds (S19) with Fast Charging up to 50 Hours of Playtime | Dual 10mm Driver | IPX4 Water-Resistance | Bluetooth 5.3 | Touch Control (Black)",
           5.676
          ],
          [
           "amazon basics in-Ear Wired Earphones with in-Line Mic, 10 mm Dual Drivers, Powerful Bass, Noise Isolation, 3.5 mm Audio Jack (Black, WE03)",
           11.524
          ],
          [
           "amazon basics True Wireless in-Ear Earbuds with Mic, Low-Latency Gaming Mode, Touch Control, IPX5 Water-Resistance, Bluetooth 5.3, Up to 60 Hours Play Time, Voice Assistance and Fast Charging (White)",
           7.153
          ]
         ],
         "hovertemplate": "Brand=Amazon Basics<br>Price (₹)=%{x}<br>Customer Rating=%{y}<br>Review_Count=%{marker.size}<br>Title=%{customdata[0]}<br>Value_Score=%{customdata[1]}<extra></extra>",
         "legendgroup": "Amazon Basics",
         "marker": {
          "color": "#19d3f3",
          "size": [
           316,
           344,
           414,
           414,
           414,
           380,
           380,
           380,
           316,
           316,
           376,
           344,
           420,
           420,
           376,
           420,
           344,
           357,
           357,
           1988,
           4935,
           1988,
           513,
           513,
           57,
           23,
           30,
           364,
           56,
           991,
           44,
           4
          ],
          "sizemode": "area",
          "sizeref": 1047.575,
          "symbol": "circle"
         },
         "mode": "markers",
         "name": "Amazon Basics",
         "orientation": "v",
         "showlegend": true,
         "type": "scatter",
         "x": [
          549,
          499,
          599,
          599,
          599,
          549,
          549,
          549,
          599,
          599,
          499,
          499,
          599,
          499,
          1099,
          549,
          499,
          549,
          549,
          499,
          599,
          499,
          499,
          499,
          599,
          549,
          272,
          629,
          749,
          599,
          269,
          699
         ],
         "xaxis": "x",
         "y": [
          3.6,
          3.6,
          3.3,
          3.3,
          3.3,
          3.4,
          3.4,
          3.4,
          3.6,
          3.6,
          3.3,
          3.6,
          3.5,
          3.5,
          3.3,
          3.5,
          3.6,
          3.1,
          3.1,
          3.6,
          3.3,
          3.6,
          3.5,
          3.5,
          2.9,
          3.2,
          2.8,
          3.3,
          3.5,
          3.4,
          3.1,
          5
         ],
         "yaxis": "y"
        },
        {
         "customdata": [
          [
           "Kreo Hydra 3.5mm Dual Dynamic Driver in-Ear Wired Gaming Earphones with Microphone, Tangle-Free Gaming Earphones with Noise Isolating Technology and EZ Volume Control Slider, Wired Headset for Gaming",
           3.086
          ]
         ],
         "hovertemplate": "Brand=Kreo<br>Price (₹)=%{x}<br>Customer Rating=%{y}<br>Review_Count=%{marker.size}<br>Title=%{customdata[0]}<br>Value_Score=%{customdata[1]}<extra></extra>",
         "legendgroup": "Kreo",
         "marker": {
          "color": "#FF6692",
          "size": [
           717
          ],
          "sizemode": "area",
          "sizeref": 1047.575,
          "symbol": "circle"
         },
         "mode": "markers",
         "name": "Kreo",
         "orientation": "v",
         "showlegend": true,
         "type": "scatter",
         "x": [
          1199
         ],
         "xaxis": "x",
         "y": [
          3.7
         ],
         "yaxis": "y"
        },
        {
         "customdata": [
          [
           "ng EarSafe Lite Open Ear Air Conduction Headphones, Bluetooth V5.2, Dual Pairing, IPx5 Water-Resistant & sweatproof, 12h + Battery Life for Workout, Sports, All Day Long Calls (2024 Model)",
           1.801
          ]
         ],
         "hovertemplate": "Brand=ng<br>Price (₹)=%{x}<br>Customer Rating=%{y}<br>Review_Count=%{marker.size}<br>Title=%{customdata[0]}<br>Value_Score=%{customdata[1]}<extra></extra>",
         "legendgroup": "ng",
         "marker": {
          "color": "#B6E880",
          "size": [
           386
          ],
          "sizemode": "area",
          "sizeref": 1047.575,
          "symbol": "circle"
         },
         "mode": "markers",
         "name": "ng",
         "orientation": "v",
         "showlegend": true,
         "type": "scatter",
         "x": [
          1999
         ],
         "xaxis": "x",
         "y": [
          3.6
         ],
         "yaxis": "y"
        },
        {
         "customdata": [
          [
           "ACwO DwOTS Fire India's First in-Ear + Half-in-in Ear Earbuds in one case, 3+3 EQ Modes, Wireless Charging Enabled, AI-ENC with Quad Mic (Cosmic Silver)",
           1.901
          ]
         ],
         "hovertemplate": "Brand=ACwO<br>Price (₹)=%{x}<br>Customer Rating=%{y}<br>Review_Count=%{marker.size}<br>Title=%{customdata[0]}<br>Value_Score=%{customdata[1]}<extra></extra>",
         "legendgroup": "ACwO",
         "marker": {
          "color": "#FF97FF",
          "size": [
           704
          ],
          "sizemode": "area",
          "sizeref": 1047.575,
          "symbol": "circle"
         },
         "mode": "markers",
         "name": "ACwO",
         "orientation": "v",
         "showlegend": true,
         "type": "scatter",
         "x": [
          1999
         ],
         "xaxis": "x",
         "y": [
          3.8
         ],
         "yaxis": "y"
        },
        {
         "customdata": [
          [
           "CrossBeats Sonic 3 TWS in Ear ANC Ear Buds | 30dB Hybrid | 360° Spatial Audio | 100hr Playtime Bluetooth Earphones | Truly Wireless Gaming Buds | 3D Sound | 40ms Low Latency | Dual EQ Modes (Black)",
           2.735
          ],
          [
           "CrossBeats Arc Buds OWS Open Ear Wireless Earbuds | Spatial Audio Headphones & Head Tracking | Gaming Bluetooth Earphones | 100hr Playtime | 14.2mm Drivers IPX5 Rating Type-c Fast Charging (Black)",
           1.025
          ],
          [
           "CrossBeats Arc Buds OWS Open Ear Wireless Earbuds | Spatial Audio Headphones & Head Tracking | Gaming Bluetooth Earphones | 100hr Playtime | 14.2mm Drivers IPX5 Rating Type-c Fast Charging (Blue)",
           1.025
          ],
          [
           "CrossBeats Fury Max Gaming TWS in-Ear Buds |100hr Playtime Bluetooth Earphones | RGB Lights | BT v5.4 | 30ms Low Latency | 360° Spatial Audio | 3D Sound Stage | 6 mics AI ENC | Dual EQ Modes(Black)",
           1.827
          ],
          [
           "CrossBeats Fury Max Gaming TWS in-Ear Buds |100hr Playtime Bluetooth Earphones | RGB Lights | BT v5.4 | 30ms Low Latency | 360° Spatial Audio | 3D Sound Stage | 6 mics AI ENC | Dual EQ Modes(Grey)",
           1.835
          ],
          [
           "CrossBeats Shuffl ANC Neckband Bluetooth Wireless in Ear Earphones | Dual Device Pairing | AI ENC | 14.2mm Drivers| 120Hrs Playtime| Magnetic Hall Switch Ear Buds| 40ms Low Latency | BT v5.4 (Black)",
           2.112
          ],
          [
           "CrossBeats Hawk Gaming TWS in-Ear Buds - New Launch 100hr Playtime, Bluetooth 5.4, 10ms Low Latency, 360° Spatial Audio, RGB Lights, 6 AI ENC Mics, Dual EQ Modes, Type-C Dongle - Perfect for Gaming",
           1.267
          ]
         ],
         "hovertemplate": "Brand=CrossBeats<br>Price (₹)=%{x}<br>Customer Rating=%{y}<br>Review_Count=%{marker.size}<br>Title=%{customdata[0]}<br>Value_Score=%{customdata[1]}<extra></extra>",
         "legendgroup": "CrossBeats",
         "marker": {
          "color": "#FECB52",
          "size": [
           1006,
           1195,
           1195,
           1253,
           1253,
           1478,
           194
          ],
          "sizemode": "area",
          "sizeref": 1047.575,
          "symbol": "circle"
         },
         "mode": "markers",
         "name": "CrossBeats",
         "orientation": "v",
         "showlegend": true,
         "type": "scatter",
         "x": [
          1499,
          3999,
          3999,
          2299,
          2289,
          1799,
          2999
         ],
         "xaxis": "x",
         "y": [
          4.1,
          4.1,
          4.1,
          4.2,
          4.2,
          3.8,
          3.8
         ],
         "yaxis": "y"
        },
        {
         "customdata": [
          [
           "WeCool Moonwalk M1 Bone Conduction Open Ear Headphones, 5.4 Bluetooth Earphones, IPX5 Water & Sweatproof Comfort-fit Earphones with Ear Hook, Ideal for Cycling, Hiking, Sports, Gym, Workout- Black",
           1.851
          ],
          [
           "WeCool Moonwalk M3 Open Ear Earbuds Wireless with Multi-Angle Adjustment, Bluetooth 5.4 Ows Earphones with Call Noise Reduction, Ear Safe Headphones with Mic, 80Hrs Playback, IP55 Waterproof (Black)",
           2.001
          ]
         ],
         "hovertemplate": "Brand=WeCool<br>Price (₹)=%{x}<br>Customer Rating=%{y}<br>Review_Count=%{marker.size}<br>Title=%{customdata[0]}<br>Value_Score=%{customdata[1]}<extra></extra>",
         "legendgroup": "WeCool",
         "marker": {
          "color": "#636efa",
          "size": [
           3284,
           115
          ],
          "sizemode": "area",
          "sizeref": 1047.575,
          "symbol": "circle"
         },
         "mode": "markers",
         "name": "WeCool",
         "orientation": "v",
         "showlegend": true,
         "type": "scatter",
         "x": [
          1999,
          1999
         ],
         "xaxis": "x",
         "y": [
          3.7,
          4
         ],
         "yaxis": "y"
        },
        {
         "customdata": [
          [
           "Wecool Moonwalk M2 Bone Conduction Headphones, V5.3 Bluetooth Earphones with IPX6 Sweat & Splash Resistance, Open Ear Headphones for Ear Health & Comfort, Ideal for Sports, Running, Climbing, Cycling",
           1.527
          ]
         ],
         "hovertemplate": "Brand=Wecool<br>Price (₹)=%{x}<br>Customer Rating=%{y}<br>Review_Count=%{marker.size}<br>Title=%{customdata[0]}<br>Value_Score=%{customdata[1]}<extra></extra>",
         "legendgroup": "Wecool",
         "marker": {
          "color": "#EF553B",
          "size": [
           5189
          ],
          "sizemode": "area",
          "sizeref": 1047.575,
          "symbol": "circle"
         },
         "mode": "markers",
         "name": "Wecool",
         "orientation": "v",
         "showlegend": true,
         "type": "scatter",
         "x": [
          2489
         ],
         "xaxis": "x",
         "y": [
          3.8
         ],
         "yaxis": "y"
        },
        {
         "customdata": [
          [
           "Truke Newly Launched Buds Liberty Open Ear Wireless Earbuds with 360Spatial™ Audio Experience, 16mm Beryllium Speaker, 60H Playtime, Quad Mic for Crystal-Clear Calls, Fast Charging, BT5.4 (Slate Blue)",
           2.376
          ]
         ],
         "hovertemplate": "Brand=Truke<br>Price (₹)=%{x}<br>Customer Rating=%{y}<br>Review_Count=%{marker.size}<br>Title=%{customdata[0]}<br>Value_Score=%{customdata[1]}<extra></extra>",
         "legendgroup": "Truke",
         "marker": {
          "color": "#00cc96",
          "size": [
           857
          ],
          "sizemode": "area",
          "sizeref": 1047.575,
          "symbol": "circle"
         },
         "mode": "markers",
         "name": "Truke",
         "orientation": "v",
         "showlegend": true,
         "type": "scatter",
         "x": [
          1599
         ],
         "xaxis": "x",
         "y": [
          3.8
         ],
         "yaxis": "y"
        },
        {
         "customdata": [
          [
           "Leaf Buds X121 True Wireless in Ear Earbuds Ai Sound App, 30H Playtime, Quad Mic with Enc, 50Ms Low Latency, Fast Charging(10Min=200Min), 10Mm Driver, Ipx5, Bluetooth V5.4 TWS (Carbon Black)",
           6.009
          ],
          [
           "Leaf Buds X121 True Wireless in Ear Earbuds Ai Sound App, 30H Playtime, Quad Mic with Enc, 50Ms Low Latency, Fast Charging(10Min=200Min), 10Mm Driver, Ipx5, Bluetooth V5.4 TWS (Pure White)",
           6.009
          ],
          [
           "Leaf Buds X614 True Wireless ANC in Ear Earbuds with Ai Sound App,Active Noise Cancellation,Transparency Mode,30H Playtime,Quad Mic Enc,40Ms Low Latency,13Mm Driver,Ipx5,Bluetooth V5.3(Carbon Black)",
           4.154
          ]
         ],
         "hovertemplate": "Brand=Leaf<br>Price (₹)=%{x}<br>Customer Rating=%{y}<br>Review_Count=%{marker.size}<br>Title=%{customdata[0]}<br>Value_Score=%{customdata[1]}<extra></extra>",
         "legendgroup": "Leaf",
         "marker": {
          "color": "#ab63fa",
          "size": [
           526,
           526,
           272
          ],
          "sizemode": "area",
          "sizeref": 1047.575,
          "symbol": "circle"
         },
         "mode": "markers",
         "name": "Leaf",
         "orientation": "v",
         "showlegend": true,
         "type": "scatter",
         "x": [
          699,
          699,
          987
         ],
         "xaxis": "x",
         "y": [
          4.2,
          4.2,
          4.1
         ],
         "yaxis": "y"
        },
        {
         "customdata": [
          [
           "for i-Phone Headphones【APPL e MFi Certified】 in-Ear Wired Stereo Sound Lightining Earphones with Control and Mic Noise Isolating Cancellation Compatible with i-Phone 14/13/12/11/SE/XR/XS/X/8/7-iOS",
           6.015
          ]
         ],
         "hovertemplate": "Brand=for<br>Price (₹)=%{x}<br>Customer Rating=%{y}<br>Review_Count=%{marker.size}<br>Title=%{customdata[0]}<br>Value_Score=%{customdata[1]}<extra></extra>",
         "legendgroup": "for",
         "marker": {
          "color": "#FFA15A",
          "size": [
           3
          ],
          "sizemode": "area",
          "sizeref": 1047.575,
          "symbol": "circle"
         },
         "mode": "markers",
         "name": "for",
         "orientation": "v",
         "showlegend": true,
         "type": "scatter",
         "x": [
          399
         ],
         "xaxis": "x",
         "y": [
          2.4
         ],
         "yaxis": "y"
        },
        {
         "customdata": [
          [
           "Cosmic Byte Immortal 2.4Ghz Wireless + Bluetooth + Wired Headphone, 20ms Latency, 40Hrs Battery Life, 50mm Driver, RGB LED, Fabric Cushions, Detachable ENC Microphone (Black)",
           1.347
          ]
         ],
         "hovertemplate": "Brand=Cosmic<br>Price (₹)=%{x}<br>Customer Rating=%{y}<br>Review_Count=%{marker.size}<br>Title=%{customdata[0]}<br>Value_Score=%{customdata[1]}<extra></extra>",
         "legendgroup": "Cosmic",
         "marker": {
          "color": "#19d3f3",
          "size": [
           103
          ],
          "sizemode": "area",
          "sizeref": 1047.575,
          "symbol": "circle"
         },
         "mode": "markers",
         "name": "Cosmic",
         "orientation": "v",
         "showlegend": true,
         "type": "scatter",
         "x": [
          2599
         ],
         "xaxis": "x",
         "y": [
          3.5
         ],
         "yaxis": "y"
        },
        {
         "customdata": [
          [
           "icall P47 Gaming Over Ear Bluetooth Headphones Wireless with Mic (Black)",
           8.418
          ],
          [
           "icall P47 Wireless Over Ear Headphones Bluetooth with Mic (Black)",
           6.122
          ]
         ],
         "hovertemplate": "Brand=icall<br>Price (₹)=%{x}<br>Customer Rating=%{y}<br>Review_Count=%{marker.size}<br>Title=%{customdata[0]}<br>Value_Score=%{customdata[1]}<extra></extra>",
         "legendgroup": "icall",
         "marker": {
          "color": "#FF6692",
          "size": [
           3,
           5
          ],
          "sizemode": "area",
          "sizeref": 1047.575,
          "symbol": "circle"
         },
         "mode": "markers",
         "name": "icall",
         "orientation": "v",
         "showlegend": true,
         "type": "scatter",
         "x": [
          392,
          392
         ],
         "xaxis": "x",
         "y": [
          3.3,
          2.4
         ],
         "yaxis": "y"
        },
        {
         "customdata": [
          [
           "Fastrack Fpods FE100|BT5.4 TWS in Ear Earbuds, 40Hrs Playtime, 13mm Extra Deep Bass Drivers, Dual Mic ENC for Crystal Clear Calls, Low Latency Gaming Mode Upto 60ms - 120 Mins in 10 Mins",
           4.806
          ],
          [
           "Fastrack Fpods Fx101|Bt5.4 TWS Earbuds, 40Hrs Playtime, Quad Mic Enc for Crystal Clear Calls, in Ear, Low Latency Gaming Mode Upto 50Ms,Nitrofast Charge",
           5.931
          ]
         ],
         "hovertemplate": "Brand=Fastrack<br>Price (₹)=%{x}<br>Customer Rating=%{y}<br>Review_Count=%{marker.size}<br>Title=%{customdata[0]}<br>Value_Score=%{customdata[1]}<extra></extra>",
         "legendgroup": "Fastrack",
         "marker": {
          "color": "#B6E880",
          "size": [
           3429,
           3429
          ],
          "sizemode": "area",
          "sizeref": 1047.575,
          "symbol": "circle"
         },
         "mode": "markers",
         "name": "Fastrack",
         "orientation": "v",
         "showlegend": true,
         "type": "scatter",
         "x": [
          749,
          607
         ],
         "xaxis": "x",
         "y": [
          3.6,
          3.6
         ],
         "yaxis": "y"
        },
        {
         "customdata": [
          [
           "PHILIPS Audio TAE1159BK/00 in-Ear Wired Earphones with C-Type Jack, 10mm Drivers, Inline Mic, Powerful Bass and Clear Sound, Tangle Free 1.2m Cable and 3 x Inter Changeable Ear Tips (Black)",
           9.524
          ],
          [
           "PHILIPS Audio TAE1159GD/00 in-Ear Wired Earphones with C-Type Jack, 10mm Drivers, Inline Mic, Powerful Bass and Clear Sound, Tangle Free 1.2m Cable and 3 x Inter Changeable Ear Tips (Gold)",
           8.018
          ],
          [
           "PHILIPS TAN1150BK/94 Wireless Neckband with 60 Hr Playtime, Fast Charging, 13mm Deep Bass Drivers, AI ENC Mic, Multipoint Connectivity, Bluetooth v5.3, IPX5 Water Resistance (Deep Black)",
           2.502
          ]
         ],
         "hovertemplate": "Brand=PHILIPS<br>Price (₹)=%{x}<br>Customer Rating=%{y}<br>Review_Count=%{marker.size}<br>Title=%{customdata[0]}<br>Value_Score=%{customdata[1]}<extra></extra>",
         "legendgroup": "PHILIPS",
         "marker": {
          "color": "#FF97FF",
          "size": [
           356,
           81,
           33
          ],
          "sizemode": "area",
          "sizeref": 1047.575,
          "symbol": "circle"
         },
         "mode": "markers",
         "name": "PHILIPS",
         "orientation": "v",
         "showlegend": true,
         "type": "scatter",
         "x": [
          399,
          449,
          1199
         ],
         "xaxis": "x",
         "y": [
          3.8,
          3.6,
          3
         ],
         "yaxis": "y"
        },
        {
         "customdata": [
          [
           "Nu Republic Cyberstud X8 TWS Wireless Earbuds - Up to 56Hrs Playtime, 40ms Ultra Low Latency, ENC Mics, 13mm Neodymium Drivers, XBass Technology, Dual Mode for Gaming & Music, Bluetooth 5.3 (Silver)",
           4.476
          ]
         ],
         "hovertemplate": "Brand=Nu<br>Price (₹)=%{x}<br>Customer Rating=%{y}<br>Review_Count=%{marker.size}<br>Title=%{customdata[0]}<br>Value_Score=%{customdata[1]}<extra></extra>",
         "legendgroup": "Nu",
         "marker": {
          "color": "#FECB52",
          "size": [
           30
          ],
          "sizemode": "area",
          "sizeref": 1047.575,
          "symbol": "circle"
         },
         "mode": "markers",
         "name": "Nu",
         "orientation": "v",
         "showlegend": true,
         "type": "scatter",
         "x": [
          849
         ],
         "xaxis": "x",
         "y": [
          3.8
         ],
         "yaxis": "y"
        },
        {
         "customdata": [
          [
           "Bouncefit Bluetooth Wireless Neckband, 35 Hours Continuous Playback Battery, Fast Charge, IPX7, Dual Pairing, Low Latency, Active Noise Cancellation, Magnetic Earbuds with Mic Earphones (Blue)",
           9.577
          ],
          [
           "Bouncefit Bluetooth Wireless Neckband, 35 Hours Continuous Playback Battery, Fast Charge, IPX7, Dual Pairing, Low Latency, Active Noise Cancellation, Magnetic Earbuds with Mic Earphones (Black)",
           9.577
          ],
          [
           "Bouncefit Bluetooth Wireless Neckband, 40 Hours Continuous Playback Battery, Fast Charge, IPX7, Dual Pairing, Low Latency, Active Noise Cancellation, Magnetic Earbuds with Mic Earphones (Black)",
           8.818
          ],
          [
           "Bouncefit Bluetooth Wireless Neckband, 40 Hours Continuous Playback Battery, Fast Charge, IPX7, Dual Pairing, Low Latency, Active Noise Cancellation, Magnetic Earbuds with Mic Earphones (Red)",
           8.818
          ]
         ],
         "hovertemplate": "Brand=Bouncefit<br>Price (₹)=%{x}<br>Customer Rating=%{y}<br>Review_Count=%{marker.size}<br>Title=%{customdata[0]}<br>Value_Score=%{customdata[1]}<extra></extra>",
         "legendgroup": "Bouncefit",
         "marker": {
          "color": "#636efa",
          "size": [
           366,
           366,
           64,
           64
          ],
          "sizemode": "area",
          "sizeref": 1047.575,
          "symbol": "circle"
         },
         "mode": "markers",
         "name": "Bouncefit",
         "orientation": "v",
         "showlegend": true,
         "type": "scatter",
         "x": [
          449,
          449,
          499,
          499
         ],
         "xaxis": "x",
         "y": [
          4.3,
          4.3,
          4.4,
          4.4
         ],
         "yaxis": "y"
        },
        {
         "customdata": [
          [
           "Number Super Buds Pro GT99 Truly Wireless in Ear Earbuds with 50 Hours Playtime, 35ms Ultra Low Latency, Dual Pairing Ear Buds, Quad Mic ENC, BT 5.4, IPX5, Fast Charging, Made in India (Glass Black)",
           4.13
          ]
         ],
         "hovertemplate": "Brand=Number<br>Price (₹)=%{x}<br>Customer Rating=%{y}<br>Review_Count=%{marker.size}<br>Title=%{customdata[0]}<br>Value_Score=%{customdata[1]}<extra></extra>",
         "legendgroup": "Number",
         "marker": {
          "color": "#EF553B",
          "size": [
           136
          ],
          "sizemode": "area",
          "sizeref": 1047.575,
          "symbol": "circle"
         },
         "mode": "markers",
         "name": "Number",
         "orientation": "v",
         "showlegend": true,
         "type": "scatter",
         "x": [
          799
         ],
         "xaxis": "x",
         "y": [
          3.3
         ],
         "yaxis": "y"
        },
        {
         "customdata": [
          [
           "HUMBLE Wired Earphones with Mic for Type-C Port, 10mm Dynamic Drivers for Enhanced Bass, in-line Controls for Volume and Calls, 1.2M Tangle Free Silicone Cable, Wide Compatibility, Metal Alloy Body",
           13.378
          ]
         ],
         "hovertemplate": "Brand=HUMBLE<br>Price (₹)=%{x}<br>Customer Rating=%{y}<br>Review_Count=%{marker.size}<br>Title=%{customdata[0]}<br>Value_Score=%{customdata[1]}<extra></extra>",
         "legendgroup": "HUMBLE",
         "marker": {
          "color": "#00cc96",
          "size": [
           84
          ],
          "sizemode": "area",
          "sizeref": 1047.575,
          "symbol": "circle"
         },
         "mode": "markers",
         "name": "HUMBLE",
         "orientation": "v",
         "showlegend": true,
         "type": "scatter",
         "x": [
          299
         ],
         "xaxis": "x",
         "y": [
          4
         ],
         "yaxis": "y"
        },
        {
         "customdata": [
          [
           "Jxrev Wired Earbuds with Microphone - Stereo in-Ear In Ear Headphones Compatible for iPhone 7/8/X/XS/XR/11/12/13/14 Pro, iPad - Noise-Isolating, Stereo Sound, White",
           7.339
          ]
         ],
         "hovertemplate": "Brand=Jxrev<br>Price (₹)=%{x}<br>Customer Rating=%{y}<br>Review_Count=%{marker.size}<br>Title=%{customdata[0]}<br>Value_Score=%{customdata[1]}<extra></extra>",
         "legendgroup": "Jxrev",
         "marker": {
          "color": "#ab63fa",
          "size": [
           2034
          ],
          "sizemode": "area",
          "sizeref": 1047.575,
          "symbol": "circle"
         },
         "mode": "markers",
         "name": "Jxrev",
         "orientation": "v",
         "showlegend": true,
         "type": "scatter",
         "x": [
          545
         ],
         "xaxis": "x",
         "y": [
          4
         ],
         "yaxis": "y"
        },
        {
         "customdata": [
          [
           "OOGE Tune 15 Wireless Neckband (Black) Bluetooth 5.3, Type-C Fast Charging, 2500h Standby, Magnetic Earbuds, Deep Bass Audio, Lightweight & Comfortable Fit, Sweatproof in-Ear Headphones",
           12.709
          ]
         ],
         "hovertemplate": "Brand=OOGE<br>Price (₹)=%{x}<br>Customer Rating=%{y}<br>Review_Count=%{marker.size}<br>Title=%{customdata[0]}<br>Value_Score=%{customdata[1]}<extra></extra>",
         "legendgroup": "OOGE",
         "marker": {
          "color": "#FFA15A",
          "size": [
           224
          ],
          "sizemode": "area",
          "sizeref": 1047.575,
          "symbol": "circle"
         },
         "mode": "markers",
         "name": "OOGE",
         "orientation": "v",
         "showlegend": true,
         "type": "scatter",
         "x": [
          299
         ],
         "xaxis": "x",
         "y": [
          3.8
         ],
         "yaxis": "y"
        },
        {
         "customdata": [
          [
           "SIGNATIZE Bluetooth Earphones with 10mm Drivers, Rich Music Experience, 50 Hours Playtime, Type C Fast Charging, Neckband Earphones with Voice Assistant (Blue)",
           10.702
          ],
          [
           "SIGNATIZE TP Troops Wireless in-Ear Neckband Bluetooth, Rich Music Experience, 50 Hours Playtime, Type C Fast Charging, Neckband Earphones with Voice Assistant (Black)_TP-7327-Black_bzr",
           13.378
          ],
          [
           "SIGNATIZE Bluetooth Earphone in Ear Wireless Neckband, with Mic,Up to 65 Hours Playtime, Magnetic Earbuds, Lightweight v5.3 Bluetooth Headset for Running, Gyming & Travelling (Red)",
           13.928
          ],
          [
           "SIGNATIZE Bluetooth Earphone in Ear Wireless Neckband, with Mic,Up to 65 Hours Playtime, Magnetic Earbuds, Lightweight v5.3 Bluetooth Headset for Running, Gyming & Travelling (Black)",
           13.928
          ]
         ],
         "hovertemplate": "Brand=SIGNATIZE<br>Price (₹)=%{x}<br>Customer Rating=%{y}<br>Review_Count=%{marker.size}<br>Title=%{customdata[0]}<br>Value_Score=%{customdata[1]}<extra></extra>",
         "legendgroup": "SIGNATIZE",
         "marker": {
          "color": "#19d3f3",
          "size": [
           19,
           2,
           1,
           1
          ],
          "sizemode": "area",
          "sizeref": 1047.575,
          "symbol": "circle"
         },
         "mode": "markers",
         "name": "SIGNATIZE",
         "orientation": "v",
         "showlegend": true,
         "type": "scatter",
         "x": [
          299,
          299,
          359,
          359
         ],
         "xaxis": "x",
         "y": [
          3.2,
          4,
          5,
          5
         ],
         "yaxis": "y"
        },
        {
         "customdata": [
          [
           "TP TROOPS Wireless in-Ear Neckband Bluetooth In Ear Earphones with 10mm Drivers, Rich Music Experience, 50 Hours Playtime, Type C Fast Charging, Neckband Earphones with Voice Assistant (Black)",
           11.003
          ]
         ],
         "hovertemplate": "Brand=TP<br>Price (₹)=%{x}<br>Customer Rating=%{y}<br>Review_Count=%{marker.size}<br>Title=%{customdata[0]}<br>Value_Score=%{customdata[1]}<extra></extra>",
         "legendgroup": "TP",
         "marker": {
          "color": "#FF6692",
          "size": [
           22
          ],
          "sizemode": "area",
          "sizeref": 1047.575,
          "symbol": "circle"
         },
         "mode": "markers",
         "name": "TP",
         "orientation": "v",
         "showlegend": true,
         "type": "scatter",
         "x": [
          309
         ],
         "xaxis": "x",
         "y": [
          3.4
         ],
         "yaxis": "y"
        },
        {
         "customdata": [
          [
           "Kratos Cube Ear Buds Wireless with Large Playtime, Noise Isolation & Clear Calls, Bluetooth Earbuds with Voice Assistant, Ear Buds with Bluetooth V 5.3 & with Type C Fast Charging, IPX4 TWS Earphones",
           6.678
          ],
          [
           "Kratos Neckband Bluetooth Headphones with 20 hrs Playtime, Deep Bass, Stereo Sound,HD Calls,Rich Music Experience,Voice Assistant,Type C Fast Charging, BT V 5.2 Neckband Earphones with Magnetic Earbud",
           9.774
          ],
          [
           "Kratos Neckband Bluetooth Headphones with 20 Hours Playtime with 13mm Drivers, Rich Music Experience, Type C Fast Charging, Neckband Earphones with Voice Assistant & IPX4 Water Resistant",
           11.371
          ],
          [
           "Kratos C Type Earphones Wired, 13mm Bass Drivers Earphone, Inline Control Type c Headphones with Mic, IPX5 Water Resistant, Comfort Fit Type c Earphone with Volume Control, Metallic c pin Earphones",
           11.609
          ]
         ],
         "hovertemplate": "Brand=Kratos<br>Price (₹)=%{x}<br>Customer Rating=%{y}<br>Review_Count=%{marker.size}<br>Title=%{customdata[0]}<br>Value_Score=%{customdata[1]}<extra></extra>",
         "legendgroup": "Kratos",
         "marker": {
          "color": "#B6E880",
          "size": [
           290,
           141,
           137,
           58
          ],
          "sizemode": "area",
          "sizeref": 1047.575,
          "symbol": "circle"
         },
         "mode": "markers",
         "name": "Kratos",
         "orientation": "v",
         "showlegend": true,
         "type": "scatter",
         "x": [
          599,
          399,
          299,
          379
         ],
         "xaxis": "x",
         "y": [
          4,
          3.9,
          3.4,
          4.4
         ],
         "yaxis": "y"
        },
        {
         "customdata": [
          [
           "GEARZTOUCH GSP in Ear 3.5mm Wired Earphones with in Line HD Mic, Powerful Audio, Clear Sound, Noise Isolation with Precise Bass, Unique Earbuds Design,in line Controls,Wide Compatibility(Black)",
           12.435
          ]
         ],
         "hovertemplate": "Brand=GEARZTOUCH<br>Price (₹)=%{x}<br>Customer Rating=%{y}<br>Review_Count=%{marker.size}<br>Title=%{customdata[0]}<br>Value_Score=%{customdata[1]}<extra></extra>",
         "legendgroup": "GEARZTOUCH",
         "marker": {
          "color": "#FF97FF",
          "size": [
           15
          ],
          "sizemode": "area",
          "sizeref": 1047.575,
          "symbol": "circle"
         },
         "mode": "markers",
         "name": "GEARZTOUCH",
         "orientation": "v",
         "showlegend": true,
         "type": "scatter",
         "x": [
          193
         ],
         "xaxis": "x",
         "y": [
          2.4
         ],
         "yaxis": "y"
        },
        {
         "customdata": [
          [
           "Earphones with Cover Wired Earphones with Samsung Smartphones with Mic in Ear | ure Bass Sound | One Button Multi-Function Remote | Comfort Fit |",
           20.492
          ]
         ],
         "hovertemplate": "Brand=Earphones<br>Price (₹)=%{x}<br>Customer Rating=%{y}<br>Review_Count=%{marker.size}<br>Title=%{customdata[0]}<br>Value_Score=%{customdata[1]}<extra></extra>",
         "legendgroup": "Earphones",
         "marker": {
          "color": "#FECB52",
          "size": [
           1
          ],
          "sizemode": "area",
          "sizeref": 1047.575,
          "symbol": "circle"
         },
         "mode": "markers",
         "name": "Earphones",
         "orientation": "v",
         "showlegend": true,
         "type": "scatter",
         "x": [
          244
         ],
         "xaxis": "x",
         "y": [
          5
         ],
         "yaxis": "y"
        },
        {
         "customdata": [
          [
           "GZTISHot' Wired Earphone with Powerful HD Mic for Clear Sound, in-Line Volume Controller & Noise Cancellation Compatible with iPhone 14/13/12/11 Pro Max Xs/XR/X/7/8 Plus-All iOS(White)",
           10.799
          ]
         ],
         "hovertemplate": "Brand=GZTISHot'<br>Price (₹)=%{x}<br>Customer Rating=%{y}<br>Review_Count=%{marker.size}<br>Title=%{customdata[0]}<br>Value_Score=%{customdata[1]}<extra></extra>",
         "legendgroup": "GZTISHot'",
         "marker": {
          "color": "#636efa",
          "size": [
           8
          ],
          "sizemode": "area",
          "sizeref": 1047.575,
          "symbol": "circle"
         },
         "mode": "markers",
         "name": "GZTISHot'",
         "orientation": "v",
         "showlegend": true,
         "type": "scatter",
         "x": [
          463
         ],
         "xaxis": "x",
         "y": [
          5
         ],
         "yaxis": "y"
        },
        {
         "customdata": [
          [
           "iPhone Earphones Wired [Apple MFi Certified] – Lightning Connector with Mic & Volume – iPhone 14/13/12/11/XR/7/8",
           7.625
          ]
         ],
         "hovertemplate": "Brand=iPhone<br>Price (₹)=%{x}<br>Customer Rating=%{y}<br>Review_Count=%{marker.size}<br>Title=%{customdata[0]}<br>Value_Score=%{customdata[1]}<extra></extra>",
         "legendgroup": "iPhone",
         "marker": {
          "color": "#EF553B",
          "size": [
           3
          ],
          "sizemode": "area",
          "sizeref": 1047.575,
          "symbol": "circle"
         },
         "mode": "markers",
         "name": "iPhone",
         "orientation": "v",
         "showlegend": true,
         "type": "scatter",
         "x": [
          459
         ],
         "xaxis": "x",
         "y": [
          3.5
         ],
         "yaxis": "y"
        },
        {
         "customdata": [
          [
           "Noothing Neckband Pro 50dB Active Noise Cancellation, Smart Dial Design, 37 Hrs Playtime Bluetooth Wireless in Ear Earphones with Mic",
           4.841
          ]
         ],
         "hovertemplate": "Brand=Noothing<br>Price (₹)=%{x}<br>Customer Rating=%{y}<br>Review_Count=%{marker.size}<br>Title=%{customdata[0]}<br>Value_Score=%{customdata[1]}<extra></extra>",
         "legendgroup": "Noothing",
         "marker": {
          "color": "#00cc96",
          "size": [
           32
          ],
          "sizemode": "area",
          "sizeref": 1047.575,
          "symbol": "circle"
         },
         "mode": "markers",
         "name": "Noothing",
         "orientation": "v",
         "showlegend": true,
         "type": "scatter",
         "x": [
          599
         ],
         "xaxis": "x",
         "y": [
          2.9
         ],
         "yaxis": "y"
        },
        {
         "customdata": [
          [
           "Original Type C Earphone Compatible with Samsung S24 Headphones with Microphone Noise Isolation Stereo Wired Earphones for Samsung Galaxy S22 S23 Ultra Pixel 7a, iPhone 15 to 16 Series",
           7.564
          ]
         ],
         "hovertemplate": "Brand=Original<br>Price (₹)=%{x}<br>Customer Rating=%{y}<br>Review_Count=%{marker.size}<br>Title=%{customdata[0]}<br>Value_Score=%{customdata[1]}<extra></extra>",
         "legendgroup": "Original",
         "marker": {
          "color": "#ab63fa",
          "size": [
           1
          ],
          "sizemode": "area",
          "sizeref": 1047.575,
          "symbol": "circle"
         },
         "mode": "markers",
         "name": "Original",
         "orientation": "v",
         "showlegend": true,
         "type": "scatter",
         "x": [
          661
         ],
         "xaxis": "x",
         "y": [
          5
         ],
         "yaxis": "y"
        },
        {
         "customdata": [
          [
           "M19 Wireless Earbuds TWS 5.1 Large Screen Dual LED Digital Display Touch Bluetooth Headphones Mini Compact Portable Sports Waterproof Stereo in Ear Earphones",
           3.448
          ]
         ],
         "hovertemplate": "Brand=M19<br>Price (₹)=%{x}<br>Customer Rating=%{y}<br>Review_Count=%{marker.size}<br>Title=%{customdata[0]}<br>Value_Score=%{customdata[1]}<extra></extra>",
         "legendgroup": "M19",
         "marker": {
          "color": "#FFA15A",
          "size": [
           1
          ],
          "sizemode": "area",
          "sizeref": 1047.575,
          "symbol": "circle"
         },
         "mode": "markers",
         "name": "M19",
         "orientation": "v",
         "showlegend": true,
         "type": "scatter",
         "x": [
          290
         ],
         "xaxis": "x",
         "y": [
          1
         ],
         "yaxis": "y"
        }
       ],
       "layout": {
        "height": 600,
        "legend": {
         "itemsizing": "constant",
         "title": {
          "text": "Brand"
         },
         "tracegroupgap": 0
        },
        "showlegend": true,
        "template": {
         "data": {
          "bar": [
           {
            "error_x": {
             "color": "#2a3f5f"
            },
            "error_y": {
             "color": "#2a3f5f"
            },
            "marker": {
             "line": {
              "color": "#E5ECF6",
              "width": 0.5
             },
             "pattern": {
              "fillmode": "overlay",
              "size": 10,
              "solidity": 0.2
             }
            },
            "type": "bar"
           }
          ],
          "barpolar": [
           {
            "marker": {
             "line": {
              "color": "#E5ECF6",
              "width": 0.5
             },
             "pattern": {
              "fillmode": "overlay",
              "size": 10,
              "solidity": 0.2
             }
            },
            "type": "barpolar"
           }
          ],
          "carpet": [
           {
            "aaxis": {
             "endlinecolor": "#2a3f5f",
             "gridcolor": "white",
             "linecolor": "white",
             "minorgridcolor": "white",
             "startlinecolor": "#2a3f5f"
            },
            "baxis": {
             "endlinecolor": "#2a3f5f",
             "gridcolor": "white",
             "linecolor": "white",
             "minorgridcolor": "white",
             "startlinecolor": "#2a3f5f"
            },
            "type": "carpet"
           }
          ],
          "choropleth": [
           {
            "colorbar": {
             "outlinewidth": 0,
             "ticks": ""
            },
            "type": "choropleth"
           }
          ],
          "contour": [
           {
            "colorbar": {
             "outlinewidth": 0,
             "ticks": ""
            },
            "colorscale": [
             [
              0,
              "#0d0887"
             ],
             [
              0.1111111111111111,
              "#46039f"
             ],
             [
              0.2222222222222222,
              "#7201a8"
             ],
             [
              0.3333333333333333,
              "#9c179e"
             ],
             [
              0.4444444444444444,
              "#bd3786"
             ],
             [
              0.5555555555555556,
              "#d8576b"
             ],
             [
              0.6666666666666666,
              "#ed7953"
             ],
             [
              0.7777777777777778,
              "#fb9f3a"
             ],
             [
              0.8888888888888888,
              "#fdca26"
             ],
             [
              1,
              "#f0f921"
             ]
            ],
            "type": "contour"
           }
          ],
          "contourcarpet": [
           {
            "colorbar": {
             "outlinewidth": 0,
             "ticks": ""
            },
            "type": "contourcarpet"
           }
          ],
          "heatmap": [
           {
            "colorbar": {
             "outlinewidth": 0,
             "ticks": ""
            },
            "colorscale": [
             [
              0,
              "#0d0887"
             ],
             [
              0.1111111111111111,
              "#46039f"
             ],
             [
              0.2222222222222222,
              "#7201a8"
             ],
             [
              0.3333333333333333,
              "#9c179e"
             ],
             [
              0.4444444444444444,
              "#bd3786"
             ],
             [
              0.5555555555555556,
              "#d8576b"
             ],
             [
              0.6666666666666666,
              "#ed7953"
             ],
             [
              0.7777777777777778,
              "#fb9f3a"
             ],
             [
              0.8888888888888888,
              "#fdca26"
             ],
             [
              1,
              "#f0f921"
             ]
            ],
            "type": "heatmap"
           }
          ],
          "heatmapgl": [
           {
            "colorbar": {
             "outlinewidth": 0,
             "ticks": ""
            },
            "colorscale": [
             [
              0,
              "#0d0887"
             ],
             [
              0.1111111111111111,
              "#46039f"
             ],
             [
              0.2222222222222222,
              "#7201a8"
             ],
             [
              0.3333333333333333,
              "#9c179e"
             ],
             [
              0.4444444444444444,
              "#bd3786"
             ],
             [
              0.5555555555555556,
              "#d8576b"
             ],
             [
              0.6666666666666666,
              "#ed7953"
             ],
             [
              0.7777777777777778,
              "#fb9f3a"
             ],
             [
              0.8888888888888888,
              "#fdca26"
             ],
             [
              1,
              "#f0f921"
             ]
            ],
            "type": "heatmapgl"
           }
          ],
          "histogram": [
           {
            "marker": {
             "pattern": {
              "fillmode": "overlay",
              "size": 10,
              "solidity": 0.2
             }
            },
            "type": "histogram"
           }
          ],
          "histogram2d": [
           {
            "colorbar": {
             "outlinewidth": 0,
             "ticks": ""
            },
            "colorscale": [
             [
              0,
              "#0d0887"
             ],
             [
              0.1111111111111111,
              "#46039f"
             ],
             [
              0.2222222222222222,
              "#7201a8"
             ],
             [
              0.3333333333333333,
              "#9c179e"
             ],
             [
              0.4444444444444444,
              "#bd3786"
             ],
             [
              0.5555555555555556,
              "#d8576b"
             ],
             [
              0.6666666666666666,
              "#ed7953"
             ],
             [
              0.7777777777777778,
              "#fb9f3a"
             ],
             [
              0.8888888888888888,
              "#fdca26"
             ],
             [
              1,
              "#f0f921"
             ]
            ],
            "type": "histogram2d"
           }
          ],
          "histogram2dcontour": [
           {
            "colorbar": {
             "outlinewidth": 0,
             "ticks": ""
            },
            "colorscale": [
             [
              0,
              "#0d0887"
             ],
             [
              0.1111111111111111,
              "#46039f"
             ],
             [
              0.2222222222222222,
              "#7201a8"
             ],
             [
              0.3333333333333333,
              "#9c179e"
             ],
             [
              0.4444444444444444,
              "#bd3786"
             ],
             [
              0.5555555555555556,
              "#d8576b"
             ],
             [
              0.6666666666666666,
              "#ed7953"
             ],
             [
              0.7777777777777778,
              "#fb9f3a"
             ],
             [
              0.8888888888888888,
              "#fdca26"
             ],
             [
              1,
              "#f0f921"
             ]
            ],
            "type": "histogram2dcontour"
           }
          ],
          "mesh3d": [
           {
            "colorbar": {
             "outlinewidth": 0,
             "ticks": ""
            },
            "type": "mesh3d"
           }
          ],
          "parcoords": [
           {
            "line": {
             "colorbar": {
              "outlinewidth": 0,
              "ticks": ""
             }
            },
            "type": "parcoords"
           }
          ],
          "pie": [
           {
            "automargin": true,
            "type": "pie"
           }
          ],
          "scatter": [
           {
            "fillpattern": {
             "fillmode": "overlay",
             "size": 10,
             "solidity": 0.2
            },
            "type": "scatter"
           }
          ],
          "scatter3d": [
           {
            "line": {
             "colorbar": {
              "outlinewidth": 0,
              "ticks": ""
             }
            },
            "marker": {
             "colorbar": {
              "outlinewidth": 0,
              "ticks": ""
             }
            },
            "type": "scatter3d"
           }
          ],
          "scattercarpet": [
           {
            "marker": {
             "colorbar": {
              "outlinewidth": 0,
              "ticks": ""
             }
            },
            "type": "scattercarpet"
           }
          ],
          "scattergeo": [
           {
            "marker": {
             "colorbar": {
              "outlinewidth": 0,
              "ticks": ""
             }
            },
            "type": "scattergeo"
           }
          ],
          "scattergl": [
           {
            "marker": {
             "colorbar": {
              "outlinewidth": 0,
              "ticks": ""
             }
            },
            "type": "scattergl"
           }
          ],
          "scattermapbox": [
           {
            "marker": {
             "colorbar": {
              "outlinewidth": 0,
              "ticks": ""
             }
            },
            "type": "scattermapbox"
           }
          ],
          "scatterpolar": [
           {
            "marker": {
             "colorbar": {
              "outlinewidth": 0,
              "ticks": ""
             }
            },
            "type": "scatterpolar"
           }
          ],
          "scatterpolargl": [
           {
            "marker": {
             "colorbar": {
              "outlinewidth": 0,
              "ticks": ""
             }
            },
            "type": "scatterpolargl"
           }
          ],
          "scatterternary": [
           {
            "marker": {
             "colorbar": {
              "outlinewidth": 0,
              "ticks": ""
             }
            },
            "type": "scatterternary"
           }
          ],
          "surface": [
           {
            "colorbar": {
             "outlinewidth": 0,
             "ticks": ""
            },
            "colorscale": [
             [
              0,
              "#0d0887"
             ],
             [
              0.1111111111111111,
              "#46039f"
             ],
             [
              0.2222222222222222,
              "#7201a8"
             ],
             [
              0.3333333333333333,
              "#9c179e"
             ],
             [
              0.4444444444444444,
              "#bd3786"
             ],
             [
              0.5555555555555556,
              "#d8576b"
             ],
             [
              0.6666666666666666,
              "#ed7953"
             ],
             [
              0.7777777777777778,
              "#fb9f3a"
             ],
             [
              0.8888888888888888,
              "#fdca26"
             ],
             [
              1,
              "#f0f921"
             ]
            ],
            "type": "surface"
           }
          ],
          "table": [
           {
            "cells": {
             "fill": {
              "color": "#EBF0F8"
             },
             "line": {
              "color": "white"
             }
            },
            "header": {
             "fill": {
              "color": "#C8D4E3"
             },
             "line": {
              "color": "white"
             }
            },
            "type": "table"
           }
          ]
         },
         "layout": {
          "annotationdefaults": {
           "arrowcolor": "#2a3f5f",
           "arrowhead": 0,
           "arrowwidth": 1
          },
          "autotypenumbers": "strict",
          "coloraxis": {
           "colorbar": {
            "outlinewidth": 0,
            "ticks": ""
           }
          },
          "colorscale": {
           "diverging": [
            [
             0,
             "#8e0152"
            ],
            [
             0.1,
             "#c51b7d"
            ],
            [
             0.2,
             "#de77ae"
            ],
            [
             0.3,
             "#f1b6da"
            ],
            [
             0.4,
             "#fde0ef"
            ],
            [
             0.5,
             "#f7f7f7"
            ],
            [
             0.6,
             "#e6f5d0"
            ],
            [
             0.7,
             "#b8e186"
            ],
            [
             0.8,
             "#7fbc41"
            ],
            [
             0.9,
             "#4d9221"
            ],
            [
             1,
             "#276419"
            ]
           ],
           "sequential": [
            [
             0,
             "#0d0887"
            ],
            [
             0.1111111111111111,
             "#46039f"
            ],
            [
             0.2222222222222222,
             "#7201a8"
            ],
            [
             0.3333333333333333,
             "#9c179e"
            ],
            [
             0.4444444444444444,
             "#bd3786"
            ],
            [
             0.5555555555555556,
             "#d8576b"
            ],
            [
             0.6666666666666666,
             "#ed7953"
            ],
            [
             0.7777777777777778,
             "#fb9f3a"
            ],
            [
             0.8888888888888888,
             "#fdca26"
            ],
            [
             1,
             "#f0f921"
            ]
           ],
           "sequentialminus": [
            [
             0,
             "#0d0887"
            ],
            [
             0.1111111111111111,
             "#46039f"
            ],
            [
             0.2222222222222222,
             "#7201a8"
            ],
            [
             0.3333333333333333,
             "#9c179e"
            ],
            [
             0.4444444444444444,
             "#bd3786"
            ],
            [
             0.5555555555555556,
             "#d8576b"
            ],
            [
             0.6666666666666666,
             "#ed7953"
            ],
            [
             0.7777777777777778,
             "#fb9f3a"
            ],
            [
             0.8888888888888888,
             "#fdca26"
            ],
            [
             1,
             "#f0f921"
            ]
           ]
          },
          "colorway": [
           "#636efa",
           "#EF553B",
           "#00cc96",
           "#ab63fa",
           "#FFA15A",
           "#19d3f3",
           "#FF6692",
           "#B6E880",
           "#FF97FF",
           "#FECB52"
          ],
          "font": {
           "color": "#2a3f5f"
          },
          "geo": {
           "bgcolor": "white",
           "lakecolor": "white",
           "landcolor": "#E5ECF6",
           "showlakes": true,
           "showland": true,
           "subunitcolor": "white"
          },
          "hoverlabel": {
           "align": "left"
          },
          "hovermode": "closest",
          "mapbox": {
           "style": "light"
          },
          "paper_bgcolor": "white",
          "plot_bgcolor": "#E5ECF6",
          "polar": {
           "angularaxis": {
            "gridcolor": "white",
            "linecolor": "white",
            "ticks": ""
           },
           "bgcolor": "#E5ECF6",
           "radialaxis": {
            "gridcolor": "white",
            "linecolor": "white",
            "ticks": ""
           }
          },
          "scene": {
           "xaxis": {
            "backgroundcolor": "#E5ECF6",
            "gridcolor": "white",
            "gridwidth": 2,
            "linecolor": "white",
            "showbackground": true,
            "ticks": "",
            "zerolinecolor": "white"
           },
           "yaxis": {
            "backgroundcolor": "#E5ECF6",
            "gridcolor": "white",
            "gridwidth": 2,
            "linecolor": "white",
            "showbackground": true,
            "ticks": "",
            "zerolinecolor": "white"
           },
           "zaxis": {
            "backgroundcolor": "#E5ECF6",
            "gridcolor": "white",
            "gridwidth": 2,
            "linecolor": "white",
            "showbackground": true,
            "ticks": "",
            "zerolinecolor": "white"
           }
          },
          "shapedefaults": {
           "line": {
            "color": "#2a3f5f"
           }
          },
          "ternary": {
           "aaxis": {
            "gridcolor": "white",
            "linecolor": "white",
            "ticks": ""
           },
           "baxis": {
            "gridcolor": "white",
            "linecolor": "white",
            "ticks": ""
           },
           "bgcolor": "#E5ECF6",
           "caxis": {
            "gridcolor": "white",
            "linecolor": "white",
            "ticks": ""
           }
          },
          "title": {
           "x": 0.05
          },
          "xaxis": {
           "automargin": true,
           "gridcolor": "white",
           "linecolor": "white",
           "ticks": "",
           "title": {
            "standoff": 15
           },
           "zerolinecolor": "white",
           "zerolinewidth": 2
          },
          "yaxis": {
           "automargin": true,
           "gridcolor": "white",
           "linecolor": "white",
           "ticks": "",
           "title": {
            "standoff": 15
           },
           "zerolinecolor": "white",
           "zerolinewidth": 2
          }
         }
        },
        "title": {
         "text": "Price vs Rating Analysis (Size = Review Count)"
        },
        "xaxis": {
         "anchor": "y",
         "domain": [
          0,
          1
         ],
         "title": {
          "text": "Price (₹)"
         }
        },
        "yaxis": {
         "anchor": "x",
         "domain": [
          0,
          1
         ],
         "title": {
          "text": "Customer Rating"
         }
        }
       }
      }
     },
     "metadata": {},
     "output_type": "display_data"
    },
    {
     "data": {
      "application/vnd.plotly.v1+json": {
       "config": {
        "plotlyServerURL": "https://plot.ly"
       },
       "data": [
        {
         "customdata": [
          [
           16
          ],
          [
           20
          ],
          [
           22
          ],
          [
           7
          ],
          [
           28
          ],
          [
           30
          ],
          [
           6
          ],
          [
           11
          ],
          [
           6
          ],
          [
           17
          ],
          [
           7
          ],
          [
           60
          ],
          [
           11
          ],
          [
           159
          ],
          [
           60
          ],
          [
           38
          ],
          [
           27
          ],
          [
           19
          ],
          [
           39
          ],
          [
           8
          ],
          [
           8
          ],
          [
           32
          ]
         ],
         "hovertemplate": "Average Price (₹)=%{x}<br>Average Rating=%{y}<br>Product_Count=%{customdata[0]}<br>Avg_Reviews=%{marker.color}<extra></extra>",
         "legendgroup": "",
         "marker": {
          "color": [
           15574.56,
           62733.8,
           942.41,
           1082,
           15787.93,
           14487.87,
           2724,
           5170.55,
           421,
           868,
           7368.57,
           18370.67,
           3911.55,
           55784.3,
           5851.17,
           25594.92,
           16006.11,
           8111.53,
           30072.85,
           2507.25,
           1562.5,
           581.06
          ],
          "coloraxis": "coloraxis",
          "size": [
           16,
           20,
           22,
           7,
           28,
           30,
           6,
           11,
           6,
           17,
           7,
           60,
           11,
           159,
           60,
           38,
           27,
           19,
           39,
           8,
           8,
           32
          ],
          "sizemode": "area",
          "sizeref": 0.3975,
          "symbol": "circle"
         },
         "mode": "markers",
         "name": "",
         "orientation": "v",
         "showlegend": false,
         "type": "scatter",
         "x": [
          3348.75,
          3767.1,
          971.73,
          2697.57,
          6715.75,
          2012.27,
          2432.33,
          7052.36,
          1513,
          520.12,
          906,
          1097.8,
          1526.27,
          1354.13,
          2061.33,
          3075.26,
          513.07,
          256.37,
          781.59,
          476.5,
          1374,
          562.22
         ],
         "xaxis": "x",
         "y": [
          4.19,
          4.14,
          4.05,
          4.04,
          4.01,
          4.01,
          4,
          3.99,
          3.97,
          3.92,
          3.9,
          3.87,
          3.81,
          3.79,
          3.77,
          3.75,
          3.67,
          3.64,
          3.56,
          3.55,
          3.48,
          3.43
         ],
         "yaxis": "y"
        }
       ],
       "layout": {
        "coloraxis": {
         "colorbar": {
          "title": {
           "text": "Avg_Reviews"
          }
         },
         "colorscale": [
          [
           0,
           "#0d0887"
          ],
          [
           0.1111111111111111,
           "#46039f"
          ],
          [
           0.2222222222222222,
           "#7201a8"
          ],
          [
           0.3333333333333333,
           "#9c179e"
          ],
          [
           0.4444444444444444,
           "#bd3786"
          ],
          [
           0.5555555555555556,
           "#d8576b"
          ],
          [
           0.6666666666666666,
           "#ed7953"
          ],
          [
           0.7777777777777778,
           "#fb9f3a"
          ],
          [
           0.8888888888888888,
           "#fdca26"
          ],
          [
           1,
           "#f0f921"
          ]
         ]
        },
        "height": 600,
        "legend": {
         "itemsizing": "constant",
         "tracegroupgap": 0
        },
        "showlegend": true,
        "template": {
         "data": {
          "bar": [
           {
            "error_x": {
             "color": "#2a3f5f"
            },
            "error_y": {
             "color": "#2a3f5f"
            },
            "marker": {
             "line": {
              "color": "#E5ECF6",
              "width": 0.5
             },
             "pattern": {
              "fillmode": "overlay",
              "size": 10,
              "solidity": 0.2
             }
            },
            "type": "bar"
           }
          ],
          "barpolar": [
           {
            "marker": {
             "line": {
              "color": "#E5ECF6",
              "width": 0.5
             },
             "pattern": {
              "fillmode": "overlay",
              "size": 10,
              "solidity": 0.2
             }
            },
            "type": "barpolar"
           }
          ],
          "carpet": [
           {
            "aaxis": {
             "endlinecolor": "#2a3f5f",
             "gridcolor": "white",
             "linecolor": "white",
             "minorgridcolor": "white",
             "startlinecolor": "#2a3f5f"
            },
            "baxis": {
             "endlinecolor": "#2a3f5f",
             "gridcolor": "white",
             "linecolor": "white",
             "minorgridcolor": "white",
             "startlinecolor": "#2a3f5f"
            },
            "type": "carpet"
           }
          ],
          "choropleth": [
           {
            "colorbar": {
             "outlinewidth": 0,
             "ticks": ""
            },
            "type": "choropleth"
           }
          ],
          "contour": [
           {
            "colorbar": {
             "outlinewidth": 0,
             "ticks": ""
            },
            "colorscale": [
             [
              0,
              "#0d0887"
             ],
             [
              0.1111111111111111,
              "#46039f"
             ],
             [
              0.2222222222222222,
              "#7201a8"
             ],
             [
              0.3333333333333333,
              "#9c179e"
             ],
             [
              0.4444444444444444,
              "#bd3786"
             ],
             [
              0.5555555555555556,
              "#d8576b"
             ],
             [
              0.6666666666666666,
              "#ed7953"
             ],
             [
              0.7777777777777778,
              "#fb9f3a"
             ],
             [
              0.8888888888888888,
              "#fdca26"
             ],
             [
              1,
              "#f0f921"
             ]
            ],
            "type": "contour"
           }
          ],
          "contourcarpet": [
           {
            "colorbar": {
             "outlinewidth": 0,
             "ticks": ""
            },
            "type": "contourcarpet"
           }
          ],
          "heatmap": [
           {
            "colorbar": {
             "outlinewidth": 0,
             "ticks": ""
            },
            "colorscale": [
             [
              0,
              "#0d0887"
             ],
             [
              0.1111111111111111,
              "#46039f"
             ],
             [
              0.2222222222222222,
              "#7201a8"
             ],
             [
              0.3333333333333333,
              "#9c179e"
             ],
             [
              0.4444444444444444,
              "#bd3786"
             ],
             [
              0.5555555555555556,
              "#d8576b"
             ],
             [
              0.6666666666666666,
              "#ed7953"
             ],
             [
              0.7777777777777778,
              "#fb9f3a"
             ],
             [
              0.8888888888888888,
              "#fdca26"
             ],
             [
              1,
              "#f0f921"
             ]
            ],
            "type": "heatmap"
           }
          ],
          "heatmapgl": [
           {
            "colorbar": {
             "outlinewidth": 0,
             "ticks": ""
            },
            "colorscale": [
             [
              0,
              "#0d0887"
             ],
             [
              0.1111111111111111,
              "#46039f"
             ],
             [
              0.2222222222222222,
              "#7201a8"
             ],
             [
              0.3333333333333333,
              "#9c179e"
             ],
             [
              0.4444444444444444,
              "#bd3786"
             ],
             [
              0.5555555555555556,
              "#d8576b"
             ],
             [
              0.6666666666666666,
              "#ed7953"
             ],
             [
              0.7777777777777778,
              "#fb9f3a"
             ],
             [
              0.8888888888888888,
              "#fdca26"
             ],
             [
              1,
              "#f0f921"
             ]
            ],
            "type": "heatmapgl"
           }
          ],
          "histogram": [
           {
            "marker": {
             "pattern": {
              "fillmode": "overlay",
              "size": 10,
              "solidity": 0.2
             }
            },
            "type": "histogram"
           }
          ],
          "histogram2d": [
           {
            "colorbar": {
             "outlinewidth": 0,
             "ticks": ""
            },
            "colorscale": [
             [
              0,
              "#0d0887"
             ],
             [
              0.1111111111111111,
              "#46039f"
             ],
             [
              0.2222222222222222,
              "#7201a8"
             ],
             [
              0.3333333333333333,
              "#9c179e"
             ],
             [
              0.4444444444444444,
              "#bd3786"
             ],
             [
              0.5555555555555556,
              "#d8576b"
             ],
             [
              0.6666666666666666,
              "#ed7953"
             ],
             [
              0.7777777777777778,
              "#fb9f3a"
             ],
             [
              0.8888888888888888,
              "#fdca26"
             ],
             [
              1,
              "#f0f921"
             ]
            ],
            "type": "histogram2d"
           }
          ],
          "histogram2dcontour": [
           {
            "colorbar": {
             "outlinewidth": 0,
             "ticks": ""
            },
            "colorscale": [
             [
              0,
              "#0d0887"
             ],
             [
              0.1111111111111111,
              "#46039f"
             ],
             [
              0.2222222222222222,
              "#7201a8"
             ],
             [
              0.3333333333333333,
              "#9c179e"
             ],
             [
              0.4444444444444444,
              "#bd3786"
             ],
             [
              0.5555555555555556,
              "#d8576b"
             ],
             [
              0.6666666666666666,
              "#ed7953"
             ],
             [
              0.7777777777777778,
              "#fb9f3a"
             ],
             [
              0.8888888888888888,
              "#fdca26"
             ],
             [
              1,
              "#f0f921"
             ]
            ],
            "type": "histogram2dcontour"
           }
          ],
          "mesh3d": [
           {
            "colorbar": {
             "outlinewidth": 0,
             "ticks": ""
            },
            "type": "mesh3d"
           }
          ],
          "parcoords": [
           {
            "line": {
             "colorbar": {
              "outlinewidth": 0,
              "ticks": ""
             }
            },
            "type": "parcoords"
           }
          ],
          "pie": [
           {
            "automargin": true,
            "type": "pie"
           }
          ],
          "scatter": [
           {
            "fillpattern": {
             "fillmode": "overlay",
             "size": 10,
             "solidity": 0.2
            },
            "type": "scatter"
           }
          ],
          "scatter3d": [
           {
            "line": {
             "colorbar": {
              "outlinewidth": 0,
              "ticks": ""
             }
            },
            "marker": {
             "colorbar": {
              "outlinewidth": 0,
              "ticks": ""
             }
            },
            "type": "scatter3d"
           }
          ],
          "scattercarpet": [
           {
            "marker": {
             "colorbar": {
              "outlinewidth": 0,
              "ticks": ""
             }
            },
            "type": "scattercarpet"
           }
          ],
          "scattergeo": [
           {
            "marker": {
             "colorbar": {
              "outlinewidth": 0,
              "ticks": ""
             }
            },
            "type": "scattergeo"
           }
          ],
          "scattergl": [
           {
            "marker": {
             "colorbar": {
              "outlinewidth": 0,
              "ticks": ""
             }
            },
            "type": "scattergl"
           }
          ],
          "scattermapbox": [
           {
            "marker": {
             "colorbar": {
              "outlinewidth": 0,
              "ticks": ""
             }
            },
            "type": "scattermapbox"
           }
          ],
          "scatterpolar": [
           {
            "marker": {
             "colorbar": {
              "outlinewidth": 0,
              "ticks": ""
             }
            },
            "type": "scatterpolar"
           }
          ],
          "scatterpolargl": [
           {
            "marker": {
             "colorbar": {
              "outlinewidth": 0,
              "ticks": ""
             }
            },
            "type": "scatterpolargl"
           }
          ],
          "scatterternary": [
           {
            "marker": {
             "colorbar": {
              "outlinewidth": 0,
              "ticks": ""
             }
            },
            "type": "scatterternary"
           }
          ],
          "surface": [
           {
            "colorbar": {
             "outlinewidth": 0,
             "ticks": ""
            },
            "colorscale": [
             [
              0,
              "#0d0887"
             ],
             [
              0.1111111111111111,
              "#46039f"
             ],
             [
              0.2222222222222222,
              "#7201a8"
             ],
             [
              0.3333333333333333,
              "#9c179e"
             ],
             [
              0.4444444444444444,
              "#bd3786"
             ],
             [
              0.5555555555555556,
              "#d8576b"
             ],
             [
              0.6666666666666666,
              "#ed7953"
             ],
             [
              0.7777777777777778,
              "#fb9f3a"
             ],
             [
              0.8888888888888888,
              "#fdca26"
             ],
             [
              1,
              "#f0f921"
             ]
            ],
            "type": "surface"
           }
          ],
          "table": [
           {
            "cells": {
             "fill": {
              "color": "#EBF0F8"
             },
             "line": {
              "color": "white"
             }
            },
            "header": {
             "fill": {
              "color": "#C8D4E3"
             },
             "line": {
              "color": "white"
             }
            },
            "type": "table"
           }
          ]
         },
         "layout": {
          "annotationdefaults": {
           "arrowcolor": "#2a3f5f",
           "arrowhead": 0,
           "arrowwidth": 1
          },
          "autotypenumbers": "strict",
          "coloraxis": {
           "colorbar": {
            "outlinewidth": 0,
            "ticks": ""
           }
          },
          "colorscale": {
           "diverging": [
            [
             0,
             "#8e0152"
            ],
            [
             0.1,
             "#c51b7d"
            ],
            [
             0.2,
             "#de77ae"
            ],
            [
             0.3,
             "#f1b6da"
            ],
            [
             0.4,
             "#fde0ef"
            ],
            [
             0.5,
             "#f7f7f7"
            ],
            [
             0.6,
             "#e6f5d0"
            ],
            [
             0.7,
             "#b8e186"
            ],
            [
             0.8,
             "#7fbc41"
            ],
            [
             0.9,
             "#4d9221"
            ],
            [
             1,
             "#276419"
            ]
           ],
           "sequential": [
            [
             0,
             "#0d0887"
            ],
            [
             0.1111111111111111,
             "#46039f"
            ],
            [
             0.2222222222222222,
             "#7201a8"
            ],
            [
             0.3333333333333333,
             "#9c179e"
            ],
            [
             0.4444444444444444,
             "#bd3786"
            ],
            [
             0.5555555555555556,
             "#d8576b"
            ],
            [
             0.6666666666666666,
             "#ed7953"
            ],
            [
             0.7777777777777778,
             "#fb9f3a"
            ],
            [
             0.8888888888888888,
             "#fdca26"
            ],
            [
             1,
             "#f0f921"
            ]
           ],
           "sequentialminus": [
            [
             0,
             "#0d0887"
            ],
            [
             0.1111111111111111,
             "#46039f"
            ],
            [
             0.2222222222222222,
             "#7201a8"
            ],
            [
             0.3333333333333333,
             "#9c179e"
            ],
            [
             0.4444444444444444,
             "#bd3786"
            ],
            [
             0.5555555555555556,
             "#d8576b"
            ],
            [
             0.6666666666666666,
             "#ed7953"
            ],
            [
             0.7777777777777778,
             "#fb9f3a"
            ],
            [
             0.8888888888888888,
             "#fdca26"
            ],
            [
             1,
             "#f0f921"
            ]
           ]
          },
          "colorway": [
           "#636efa",
           "#EF553B",
           "#00cc96",
           "#ab63fa",
           "#FFA15A",
           "#19d3f3",
           "#FF6692",
           "#B6E880",
           "#FF97FF",
           "#FECB52"
          ],
          "font": {
           "color": "#2a3f5f"
          },
          "geo": {
           "bgcolor": "white",
           "lakecolor": "white",
           "landcolor": "#E5ECF6",
           "showlakes": true,
           "showland": true,
           "subunitcolor": "white"
          },
          "hoverlabel": {
           "align": "left"
          },
          "hovermode": "closest",
          "mapbox": {
           "style": "light"
          },
          "paper_bgcolor": "white",
          "plot_bgcolor": "#E5ECF6",
          "polar": {
           "angularaxis": {
            "gridcolor": "white",
            "linecolor": "white",
            "ticks": ""
           },
           "bgcolor": "#E5ECF6",
           "radialaxis": {
            "gridcolor": "white",
            "linecolor": "white",
            "ticks": ""
           }
          },
          "scene": {
           "xaxis": {
            "backgroundcolor": "#E5ECF6",
            "gridcolor": "white",
            "gridwidth": 2,
            "linecolor": "white",
            "showbackground": true,
            "ticks": "",
            "zerolinecolor": "white"
           },
           "yaxis": {
            "backgroundcolor": "#E5ECF6",
            "gridcolor": "white",
            "gridwidth": 2,
            "linecolor": "white",
            "showbackground": true,
            "ticks": "",
            "zerolinecolor": "white"
           },
           "zaxis": {
            "backgroundcolor": "#E5ECF6",
            "gridcolor": "white",
            "gridwidth": 2,
            "linecolor": "white",
            "showbackground": true,
            "ticks": "",
            "zerolinecolor": "white"
           }
          },
          "shapedefaults": {
           "line": {
            "color": "#2a3f5f"
           }
          },
          "ternary": {
           "aaxis": {
            "gridcolor": "white",
            "linecolor": "white",
            "ticks": ""
           },
           "baxis": {
            "gridcolor": "white",
            "linecolor": "white",
            "ticks": ""
           },
           "bgcolor": "#E5ECF6",
           "caxis": {
            "gridcolor": "white",
            "linecolor": "white",
            "ticks": ""
           }
          },
          "title": {
           "x": 0.05
          },
          "xaxis": {
           "automargin": true,
           "gridcolor": "white",
           "linecolor": "white",
           "ticks": "",
           "title": {
            "standoff": 15
           },
           "zerolinecolor": "white",
           "zerolinewidth": 2
          },
          "yaxis": {
           "automargin": true,
           "gridcolor": "white",
           "linecolor": "white",
           "ticks": "",
           "title": {
            "standoff": 15
           },
           "zerolinecolor": "white",
           "zerolinewidth": 2
          }
         }
        },
        "title": {
         "text": "Brand Positioning Matrix"
        },
        "xaxis": {
         "anchor": "y",
         "domain": [
          0,
          1
         ],
         "title": {
          "text": "Average Price (₹)"
         }
        },
        "yaxis": {
         "anchor": "x",
         "domain": [
          0,
          1
         ],
         "title": {
          "text": "Average Rating"
         }
        }
       }
      }
     },
     "metadata": {},
     "output_type": "display_data"
    },
    {
     "name": "stdout",
     "output_type": "stream",
     "text": [
      "Top 10 Brand Performance : \n",
      "            Avg_Price  Avg_Rating  Avg_Reviews  Product_Count\n",
      "Brand                                                        \n",
      "soundcore     3348.75        4.19     15574.56             16\n",
      "OnePlus       3767.10        4.14     62733.80             20\n",
      "truke          971.73        4.05       942.41             22\n",
      "CrossBeats    2697.57        4.04      1082.00              7\n",
      "Sony          6715.75        4.01     15787.93             28\n",
      "realme        2012.27        4.01     14487.87             30\n",
      "Redmi         2432.33        4.00      2724.00              6\n",
      "Samsung       7052.36        3.99      5170.55             11\n",
      "KZ            1513.00        3.97       421.00              6\n",
      "Portronics     520.12        3.92       868.00             17\n"
     ]
    }
   ],
   "source": [
    "# Interactive Price vs Rating Scatter Plot\n",
    "fig = px.scatter(df, x='Price', y='Rating', size='Review_Count', color='Brand',\n",
    "                 hover_data=['Title', 'Value_Score'], \n",
    "                 title='Price vs Rating Analysis (Size = Review Count)', \n",
    "                 labels={'Price' : 'Price (₹)', 'Rating' : 'Customer Rating'})\n",
    "fig.update_layout(height=600, showlegend=True)\n",
    "fig.show()\n",
    "\n",
    "# Brand Performance Matrix\n",
    "brand_metrics = df.groupby('Brand').agg({\n",
    "    'Price': 'mean', \n",
    "    'Rating': 'mean', \n",
    "    'Review_Count': 'mean', \n",
    "    'Title': 'count'\n",
    "}).round(2)\n",
    "brand_metrics.columns = ['Avg_Price', 'Avg_Rating', 'Avg_Reviews', 'Product_Count']\n",
    "brand_metrics = brand_metrics[brand_metrics['Product_Count'] > 5].sort_values(by='Avg_Rating', ascending=False)\n",
    "\n",
    "# Brand Positioning Chart\n",
    "fig = px.scatter(brand_metrics, x='Avg_Price', y='Avg_Rating', size='Product_Count', color='Avg_Reviews', \n",
    "                 hover_data=['Product_Count'], \n",
    "                 title='Brand Positioning Matrix', \n",
    "                 labels={'Avg_Price': 'Average Price (₹)', 'Avg_Rating': 'Average Rating'})\n",
    "fig.update_layout(height=600, showlegend=True)\n",
    "fig.show()\n",
    "\n",
    "print('Top 10 Brand Performance : ')\n",
    "print(brand_metrics.head(10))"
   ]
  },
  {
   "cell_type": "markdown",
   "metadata": {},
   "source": [
    "Market Segmentation Analysis"
   ]
  },
  {
   "cell_type": "code",
   "execution_count": 27,
   "metadata": {},
   "outputs": [
    {
     "name": "stderr",
     "output_type": "stream",
     "text": [
      "/tmp/ipykernel_5501/2283095165.py:2: FutureWarning:\n",
      "\n",
      "The default of observed=False is deprecated and will be changed to True in a future version of pandas. Pass observed=False to retain current behavior or observed=True to adopt the future default and silence this warning.\n",
      "\n"
     ]
    },
    {
     "data": {
      "image/png": "[encoded data removed]",
      "text/plain": [
       "<Figure size 1500x1200 with 4 Axes>"
      ]
     },
     "metadata": {},
     "output_type": "display_data"
    },
    {
     "name": "stdout",
     "output_type": "stream",
     "text": [
      "Market Segment Analysis : \n",
      "             Product_Count  Avg_Price  Avg_Rating  Avg_Reviews  \\\n",
      "Price_Range                                                      \n",
      "Budget                 138     362.83        3.69     24373.09   \n",
      "Mid-range              345     993.10        3.75     26161.17   \n",
      "Premium                197    2478.13        3.94     17493.59   \n",
      "Luxury                  43   11318.60        4.10      6458.70   \n",
      "\n",
      "             Avg_Value_Score  \n",
      "Price_Range                   \n",
      "Budget                 11.36  \n",
      "Mid-range               4.10  \n",
      "Premium                 1.75  \n",
      "Luxury                  0.47  \n"
     ]
    }
   ],
   "source": [
    "# Price segment analysis\n",
    "segment_analysis = df.groupby('Price_Range').agg({\n",
    "    'Title': 'count', \n",
    "    'Price': 'mean', \n",
    "    'Rating': 'mean', \n",
    "    'Review_Count': 'mean', \n",
    "    'Value_Score': 'mean'\n",
    "}).round(2)\n",
    "\n",
    "segment_analysis.columns = ['Product_Count', 'Avg_Price', 'Avg_Rating', 'Avg_Reviews', 'Avg_Value_Score']\n",
    "\n",
    "# Visualization\n",
    "fig, axes = plt.subplots(2, 2, figsize=(15, 12))\n",
    "\n",
    "# Product count by price segment\n",
    "segment_analysis['Product_Count'].plot(kind='bar', ax=axes[0,0], color='skyblue')\n",
    "axes[0,0].set_title('Product Count by Price Segment')\n",
    "axes[0,0].set_ylabel('Number of Products')\n",
    "axes[0,0].set_xlabel('Price Range')\n",
    "\n",
    "# Product distribution by price segment\n",
    "segment_analysis['Product_Count'].plot(kind='bar', ax=axes[0, 1], color='lightgreen')\n",
    "axes[0, 1].set_title('Average Rating by Price Segment')\n",
    "axes[0, 1].set_ylabel('Average_Rating')\n",
    "\n",
    "# Average reviews by segment\n",
    "segment_analysis['Avg_Reviews'].plot(kind='bar', ax=axes[1, 0], color='orange')\n",
    "axes[1, 0].set_title('Average Reviews by Price Segment')\n",
    "axes[1, 0].set_ylabel('Average_Review Count')\n",
    "\n",
    "# Value score by segment\n",
    "segment_analysis['Avg_Value_Score'].plot(kind='bar', ax=axes[1, 1], color='coral')\n",
    "axes[1, 1].set_title('Average Value Score by Price Segment')\n",
    "axes[1, 1].set_ylabel('Average Value Score')\n",
    "\n",
    "plt.tight_layout()\n",
    "plt.show()\n",
    "\n",
    "print('Market Segment Analysis : ')\n",
    "print(segment_analysis)"
   ]
  },
  {
   "cell_type": "markdown",
   "metadata": {},
   "source": [
    "Clustering Analysis"
   ]
  },
  {
   "cell_type": "code",
   "execution_count": 32,
   "metadata": {},
   "outputs": [
    {
     "name": "stderr",
     "output_type": "stream",
     "text": [
      "/home/supernova/anaconda3/lib/python3.11/site-packages/sklearn/cluster/_kmeans.py:870: FutureWarning:\n",
      "\n",
      "The default value of `n_init` will change from 10 to 'auto' in 1.4. Set the value of `n_init` explicitly to suppress the warning\n",
      "\n",
      "/home/supernova/anaconda3/lib/python3.11/site-packages/sklearn/cluster/_kmeans.py:870: FutureWarning:\n",
      "\n",
      "The default value of `n_init` will change from 10 to 'auto' in 1.4. Set the value of `n_init` explicitly to suppress the warning\n",
      "\n",
      "/home/supernova/anaconda3/lib/python3.11/site-packages/sklearn/cluster/_kmeans.py:870: FutureWarning:\n",
      "\n",
      "The default value of `n_init` will change from 10 to 'auto' in 1.4. Set the value of `n_init` explicitly to suppress the warning\n",
      "\n",
      "/home/supernova/anaconda3/lib/python3.11/site-packages/sklearn/cluster/_kmeans.py:870: FutureWarning:\n",
      "\n",
      "The default value of `n_init` will change from 10 to 'auto' in 1.4. Set the value of `n_init` explicitly to suppress the warning\n",
      "\n",
      "/home/supernova/anaconda3/lib/python3.11/site-packages/sklearn/cluster/_kmeans.py:870: FutureWarning:\n",
      "\n",
      "The default value of `n_init` will change from 10 to 'auto' in 1.4. Set the value of `n_init` explicitly to suppress the warning\n",
      "\n",
      "/home/supernova/anaconda3/lib/python3.11/site-packages/sklearn/cluster/_kmeans.py:870: FutureWarning:\n",
      "\n",
      "The default value of `n_init` will change from 10 to 'auto' in 1.4. Set the value of `n_init` explicitly to suppress the warning\n",
      "\n"
     ]
    },
    {
     "data": {
      "image/png": "[encoded data removed]",
      "text/plain": [
       "<Figure size 800x550 with 1 Axes>"
      ]
     },
     "metadata": {},
     "output_type": "display_data"
    }
   ],
   "source": [
    "features = df[['Price', 'Rating', 'Review_Count', 'Value_Score']]\n",
    "\n",
    "# Standardization\n",
    "scaler = StandardScaler()\n",
    "X_scaled = scaler.fit_transform(features)\n",
    "\n",
    "# Finding optimal value of k (number of clusters) using elbow method\n",
    "inertia = []\n",
    "for k in range(2, 8):\n",
    "    kmeans = KMeans(n_clusters=k, random_state=42)\n",
    "    kmeans.fit(X_scaled)\n",
    "    inertia.append(kmeans.inertia_)\n",
    "\n",
    "plt.plot(range(2, 8), inertia, marker='o')\n",
    "plt.xlabel('Number of Clusters (k)')\n",
    "plt.ylabel('Inertia')\n",
    "plt.title('Elbow Method for Optimal k')\n",
    "plt.show()"
   ]
  },
  {
   "cell_type": "markdown",
   "metadata": {},
   "source": [
    "Elbow at k=4.\n",
    "\n",
    "**Business Interpretation** - \n",
    "\n",
    "Cluster 1 : Budget/Value products\n",
    "\n",
    "Cluster 2 : Mid-range popular products\n",
    "\n",
    "Cluster 3 : Premium quality products\n",
    "\n",
    "Cluster 4 : Luxury/High-end products"
   ]
  },
  {
   "cell_type": "code",
   "execution_count": 33,
   "metadata": {},
   "outputs": [
    {
     "name": "stderr",
     "output_type": "stream",
     "text": [
      "/home/supernova/anaconda3/lib/python3.11/site-packages/sklearn/cluster/_kmeans.py:870: FutureWarning:\n",
      "\n",
      "The default value of `n_init` will change from 10 to 'auto' in 1.4. Set the value of `n_init` explicitly to suppress the warning\n",
      "\n"
     ]
    },
    {
     "name": "stdout",
     "output_type": "stream",
     "text": [
      "            Price  Rating  Review_Count  Value_Score\n",
      "Cluster                                             \n",
      "0         1103.30    3.98     242126.51         4.67\n",
      "1         1690.00    3.79       9533.01         3.34\n",
      "2        16774.05    4.14       7352.35         0.29\n",
      "3          319.96    3.81      16250.78        13.01\n"
     ]
    },
    {
     "name": "stderr",
     "output_type": "stream",
     "text": [
      "/home/supernova/anaconda3/lib/python3.11/site-packages/seaborn/_oldcore.py:1119: FutureWarning:\n",
      "\n",
      "use_inf_as_na option is deprecated and will be removed in a future version. Convert inf values to NaN before operating instead.\n",
      "\n",
      "/home/supernova/anaconda3/lib/python3.11/site-packages/seaborn/_oldcore.py:1119: FutureWarning:\n",
      "\n",
      "use_inf_as_na option is deprecated and will be removed in a future version. Convert inf values to NaN before operating instead.\n",
      "\n",
      "/home/supernova/anaconda3/lib/python3.11/site-packages/seaborn/_oldcore.py:1119: FutureWarning:\n",
      "\n",
      "use_inf_as_na option is deprecated and will be removed in a future version. Convert inf values to NaN before operating instead.\n",
      "\n",
      "/home/supernova/anaconda3/lib/python3.11/site-packages/seaborn/_oldcore.py:1119: FutureWarning:\n",
      "\n",
      "use_inf_as_na option is deprecated and will be removed in a future version. Convert inf values to NaN before operating instead.\n",
      "\n"
     ]
    },
    {
     "data": {
      "image/png": "[encoded data removed]",
      "text/plain": [
       "<Figure size 1057.75x1000 with 20 Axes>"
      ]
     },
     "metadata": {},
     "output_type": "display_data"
    }
   ],
   "source": [
    "# Choose optimal k, and fit the model\n",
    "kmeans = KMeans(n_clusters=4, random_state=42)\n",
    "df['Cluster'] = kmeans.fit_predict(X_scaled)\n",
    "\n",
    "# Cluster analysis\n",
    "print(df.groupby('Cluster')[['Price', 'Rating', 'Review_Count', 'Value_Score']].mean().round(2))\n",
    "\n",
    "# Visualize clusters\n",
    "sns.pairplot(df, hue='Cluster', vars=['Price', 'Rating', 'Review_Count', 'Value_Score'], palette='husl')\n",
    "plt.show()"
   ]
  },
  {
   "cell_type": "markdown",
   "metadata": {},
   "source": [
    "Regression Analysis "
   ]
  },
  {
   "cell_type": "code",
   "execution_count": 43,
   "metadata": {},
   "outputs": [
    {
     "name": "stdout",
     "output_type": "stream",
     "text": [
      "R^2 Score : 0.061\n",
      "Coefficients :  {'Rating': 1868.4615578535645, 'Review_Count': -0.005461842376106595}\n",
      "Intercept :  -5107.051630033595\n"
     ]
    }
   ],
   "source": [
    "# Predicting price from Rating, Review_Count\n",
    "X = df[['Rating', 'Review_Count']]\n",
    "y = df['Price']\n",
    "\n",
    "model = LinearRegression()\n",
    "model.fit(X, y)\n",
    "y_pred = model.predict(X)\n",
    "\n",
    "# Model evaluation\n",
    "print(f'R^2 Score : {r2_score(y, y_pred):.3f}')\n",
    "print('Coefficients : ', dict(zip(X.columns, model.coef_)))\n",
    "print('Intercept : ', model.intercept_)"
   ]
  },
  {
   "cell_type": "markdown",
   "metadata": {},
   "source": [
    "R^2 is quite low. Relationship between price and the other variables is not linear. Let's try using Random Forest to capture the non-linearity."
   ]
  },
  {
   "cell_type": "code",
   "execution_count": null,
   "metadata": {},
   "outputs": [
    {
     "name": "stdout",
     "output_type": "stream",
     "text": [
      "Train R²: 0.965\n",
      "Test R²: 0.467\n",
      "RMSE: 2476.18\n",
      "\n",
      "Feature Importances:\n",
      "Rating             0.260187\n",
      "Brand_Bose         0.240459\n",
      "Review_Count       0.198182\n",
      "Brand_Sony         0.094558\n",
      "Brand_Samsung      0.060093\n",
      "Brand_Apple        0.035066\n",
      "Brand_JBL          0.025827\n",
      "Brand_OnePlus      0.020726\n",
      "Brand_Marshall     0.011521\n",
      "Brand_soundcore    0.011496\n",
      "dtype: float64\n"
     ]
    }
   ],
   "source": [
    "# Feature Engineering\n",
    "# Since Brand isn't a numeric column, I'll convert it to one-hot format\n",
    "preprocessor = ColumnTransformer(\n",
    "    transformers=[\n",
    "        ('brand', OneHotEncoder(handle_unknown='ignore'), ['Brand'])\n",
    "    ],\n",
    "    remainder='passthrough'\n",
    ")\n",
    "\n",
    "X = df[['Brand', 'Rating', 'Review_Count']]\n",
    "y = df['Price']\n",
    "\n",
    "# Split data\n",
    "X_train, X_test, y_train, y_test = train_test_split(X, y, test_size=0.2, random_state=42)\n",
    "\n",
    "# Preprocess with Brand encoding\n",
    "X_train_processed = preprocessor.fit_transform(X_train)\n",
    "X_test_processed = preprocessor.transform(X_test)\n",
    "\n",
    "# Initialize and train Random Forest\n",
    "rf = RandomForestRegressor(n_estimators=100, random_state=42)\n",
    "rf.fit(X_train_processed, y_train)\n",
    "\n",
    "# Predictions\n",
    "y_pred_train = rf.predict(X_train_processed)\n",
    "y_pred_test = rf.predict(X_test_processed)\n",
    "\n",
    "# Evaluation\n",
    "print(f\"Train R²: {r2_score(y_train, y_pred_train):.3f}\")\n",
    "print(f\"Test R²: {r2_score(y_test, y_pred_test):.3f}\")\n",
    "print(f\"RMSE: {mean_squared_error(y_test, y_pred_test, squared=False):.2f}\")\n",
    "\n",
    "# Feature Importance\n",
    "feature_names = preprocessor.named_transformers_['brand'].get_feature_names_out(['Brand'])\n",
    "feature_names = list(feature_names) + ['Rating', 'Review_Count']\n",
    "\n",
    "importances = pd.Series(rf.feature_importances_, index=feature_names)\n",
    "print(\"\\nFeature Importances:\")\n",
    "print(importances.sort_values(ascending=False).head(10))\n"
   ]
  },
  {
   "cell_type": "markdown",
   "metadata": {},
   "source": [
    "Large difference between Train R^2 and Test^2 => Overfitting T^T\n",
    "Let's apply regularizationnnnn"
   ]
  },
  {
   "cell_type": "markdown",
   "metadata": {},
   "source": []
  },
  {
   "cell_type": "code",
   "execution_count": null,
   "metadata": {},
   "outputs": [
    {
     "name": "stdout",
     "output_type": "stream",
     "text": [
      "Train R²: 0.233\n",
      "Test R²: 0.205\n",
      "RMSE: 3023.99\n",
      "\n",
      "Feature Importances:\n",
      "Rating                 0.342698\n",
      "Review_Count           0.143702\n",
      "Brand_Sony             0.127213\n",
      "Brand_Samsung          0.099174\n",
      "Brand_OnePlus          0.063020\n",
      "Brand_JBL              0.048564\n",
      "Brand_Amazon Basics    0.026811\n",
      "Brand_boAt             0.024152\n",
      "Brand_Boult            0.020926\n",
      "Brand_ZEBRONICS        0.019149\n",
      "dtype: float64\n"
     ]
    }
   ],
   "source": [
    "rf = RandomForestRegressor(\n",
    "    n_estimators=100,\n",
    "    max_depth=8,\n",
    "    min_samples_leaf=5,\n",
    "    max_features='sqrt',\n",
    "    random_state=42\n",
    ")\n",
    "rf.fit(X_train_processed, y_train)\n",
    "\n",
    "y_pred_train = rf.predict(X_train_processed)\n",
    "y_pred_test = rf.predict(X_test_processed)\n",
    "\n",
    "print(f\"Train R²: {r2_score(y_train, y_pred_train):.3f}\")\n",
    "print(f\"Test R²: {r2_score(y_test, y_pred_test):.3f}\")\n",
    "print(f\"RMSE: {mean_squared_error(y_test, y_pred_test, squared=False):.2f}\")\n",
    "\n",
    "feature_names = preprocessor.named_transformers_['brand'].get_feature_names_out(['Brand'])\n",
    "feature_names = list(feature_names) + ['Rating', 'Review_Count']\n",
    "\n",
    "importances = pd.Series(rf.feature_importances_, index=feature_names)\n",
    "print(\"\\nFeature Importances:\")\n",
    "print(importances.sort_values(ascending=False).head(10))\n"
   ]
  },
  {
   "cell_type": "markdown",
   "metadata": {},
   "source": [
    "Now, the model underfits the data"
   ]
  },
  {
   "cell_type": "code",
   "execution_count": 45,
   "metadata": {},
   "outputs": [
    {
     "name": "stdout",
     "output_type": "stream",
     "text": [
      "Train R²: 0.792\n",
      "Test R²: 0.486\n",
      "RMSE: 2432.83\n"
     ]
    }
   ],
   "source": [
    "rf = RandomForestRegressor(\n",
    "    n_estimators=100,\n",
    "    max_depth=15,\n",
    "    min_samples_leaf=2,\n",
    "    max_features=0.8,\n",
    "    random_state=42\n",
    ")\n",
    "rf.fit(X_train_processed, y_train)\n",
    "\n",
    "y_pred_train = rf.predict(X_train_processed)\n",
    "y_pred_test = rf.predict(X_test_processed)\n",
    "\n",
    "print(f\"Train R²: {r2_score(y_train, y_pred_train):.3f}\")\n",
    "print(f\"Test R²: {r2_score(y_test, y_pred_test):.3f}\")\n",
    "print(f\"RMSE: {mean_squared_error(y_test, y_pred_test, squared=False):.2f}\")\n"
   ]
  },
  {
   "cell_type": "markdown",
   "metadata": {},
   "source": [
    "Test R^2 isn't great. I'll log transform Price"
   ]
  },
  {
   "cell_type": "code",
   "execution_count": 46,
   "metadata": {},
   "outputs": [
    {
     "name": "stdout",
     "output_type": "stream",
     "text": [
      "Train R²: 0.586\n",
      "Test R²: 0.330\n",
      "RMSE: 2776.82\n"
     ]
    }
   ],
   "source": [
    "import numpy as np\n",
    "\n",
    "# Log transform the target\n",
    "y_train_log = np.log1p(y_train)\n",
    "y_test_log = np.log1p(y_test)\n",
    "\n",
    "# Train on log-transformed prices\n",
    "rf = RandomForestRegressor(\n",
    "    n_estimators=100,\n",
    "    max_depth=15,\n",
    "    min_samples_leaf=2,\n",
    "    max_features=0.8,\n",
    "    random_state=42\n",
    ")\n",
    "rf.fit(X_train_processed, y_train_log)\n",
    "\n",
    "# Predict in log space and convert back\n",
    "y_pred_train_log = rf.predict(X_train_processed)\n",
    "y_pred_test_log = rf.predict(X_test_processed)\n",
    "\n",
    "y_pred_train = np.expm1(y_pred_train_log)\n",
    "y_pred_test = np.expm1(y_pred_test_log)\n",
    "\n",
    "# Evaluation on original price scale\n",
    "print(f\"Train R²: {r2_score(y_train, y_pred_train):.3f}\")\n",
    "print(f\"Test R²: {r2_score(y_test, y_pred_test):.3f}\")\n",
    "print(f\"RMSE: {mean_squared_error(y_test, y_pred_test, squared=False):.2f}\")\n"
   ]
  },
  {
   "cell_type": "markdown",
   "metadata": {},
   "source": [
    "Log transformation made it worse ugh."
   ]
  },
  {
   "cell_type": "code",
   "execution_count": 52,
   "metadata": {},
   "outputs": [
    {
     "name": "stdout",
     "output_type": "stream",
     "text": [
      "Train R²: 0.800\n",
      "Test R²: 0.506\n",
      "RMSE: 2383.79\n"
     ]
    }
   ],
   "source": [
    "rf = RandomForestRegressor(\n",
    "    n_estimators=100,\n",
    "    max_depth=30,\n",
    "    min_samples_leaf=2,\n",
    "    max_features=0.8,\n",
    "    random_state=42\n",
    ")\n",
    "rf.fit(X_train_processed, y_train)\n",
    "\n",
    "y_pred_train = rf.predict(X_train_processed)\n",
    "y_pred_test = rf.predict(X_test_processed)\n",
    "\n",
    "print(f\"Train R²: {r2_score(y_train, y_pred_train):.3f}\")\n",
    "print(f\"Test R²: {r2_score(y_test, y_pred_test):.3f}\")\n",
    "print(f\"RMSE: {mean_squared_error(y_test, y_pred_test, squared=False):.2f}\")\n"
   ]
  },
  {
   "cell_type": "markdown",
   "metadata": {},
   "source": [
    "model reached saturation"
   ]
  },
  {
   "cell_type": "code",
   "execution_count": 53,
   "metadata": {},
   "outputs": [
    {
     "data": {
      "text/html": [
       "<div>\n",
       "<style scoped>\n",
       "    .dataframe tbody tr th:only-of-type {\n",
       "        vertical-align: middle;\n",
       "    }\n",
       "\n",
       "    .dataframe tbody tr th {\n",
       "        vertical-align: top;\n",
       "    }\n",
       "\n",
       "    .dataframe thead th {\n",
       "        text-align: right;\n",
       "    }\n",
       "</style>\n",
       "<table border=\"1\" class=\"dataframe\">\n",
       "  <thead>\n",
       "    <tr style=\"text-align: right;\">\n",
       "      <th></th>\n",
       "      <th>Title</th>\n",
       "      <th>Brand</th>\n",
       "      <th>Price</th>\n",
       "      <th>MRP</th>\n",
       "      <th>Discount</th>\n",
       "      <th>Rating</th>\n",
       "      <th>Review_Count</th>\n",
       "      <th>Prime</th>\n",
       "      <th>ASIN</th>\n",
       "      <th>URL</th>\n",
       "      <th>Savings</th>\n",
       "      <th>Price_Range</th>\n",
       "      <th>Rating_Category</th>\n",
       "      <th>Value_Score</th>\n",
       "    </tr>\n",
       "  </thead>\n",
       "  <tbody>\n",
       "    <tr>\n",
       "      <th>0</th>\n",
       "      <td>Noise Newly Launched Airwave Max 5 Wireless Ov...</td>\n",
       "      <td>Noise</td>\n",
       "      <td>4999</td>\n",
       "      <td>5999.0</td>\n",
       "      <td>17.0</td>\n",
       "      <td>4.1</td>\n",
       "      <td>131</td>\n",
       "      <td>True</td>\n",
       "      <td>B0DGV6TB8D</td>\n",
       "      <td>https://www.amazon.in/dp/B0DGV6TB8D</td>\n",
       "      <td>1000.0</td>\n",
       "      <td>Premium</td>\n",
       "      <td>Good</td>\n",
       "      <td>0.820</td>\n",
       "    </tr>\n",
       "    <tr>\n",
       "      <th>1</th>\n",
       "      <td>Boult Audio Z20 Pro Truly Wireless Bluetooth E...</td>\n",
       "      <td>Boult</td>\n",
       "      <td>1099</td>\n",
       "      <td>5999.0</td>\n",
       "      <td>82.0</td>\n",
       "      <td>4.0</td>\n",
       "      <td>4321</td>\n",
       "      <td>True</td>\n",
       "      <td>B0D22QWQHR</td>\n",
       "      <td>https://www.amazon.in/dp/B0D22QWQHR</td>\n",
       "      <td>4900.0</td>\n",
       "      <td>Mid-range</td>\n",
       "      <td>Average</td>\n",
       "      <td>3.640</td>\n",
       "    </tr>\n",
       "    <tr>\n",
       "      <th>2</th>\n",
       "      <td>Sony MDR-EX255AP Wired in-Ear Headphones with ...</td>\n",
       "      <td>Sony</td>\n",
       "      <td>1990</td>\n",
       "      <td>1990.0</td>\n",
       "      <td>0.0</td>\n",
       "      <td>4.1</td>\n",
       "      <td>2849</td>\n",
       "      <td>True</td>\n",
       "      <td>B073JQQK1Q</td>\n",
       "      <td>https://www.amazon.in/Sony-MDR-EX255AP-Ear-Hea...</td>\n",
       "      <td>0.0</td>\n",
       "      <td>Premium</td>\n",
       "      <td>Good</td>\n",
       "      <td>2.060</td>\n",
       "    </tr>\n",
       "    <tr>\n",
       "      <th>3</th>\n",
       "      <td>Sony WI-XB400 Wireless Extra Bass in Ear Headp...</td>\n",
       "      <td>Sony</td>\n",
       "      <td>4990</td>\n",
       "      <td>4990.0</td>\n",
       "      <td>0.0</td>\n",
       "      <td>4.0</td>\n",
       "      <td>51527</td>\n",
       "      <td>True</td>\n",
       "      <td>B07WTX73MB</td>\n",
       "      <td>https://www.amazon.in/Sony-WI-XB400-Wireless-B...</td>\n",
       "      <td>0.0</td>\n",
       "      <td>Premium</td>\n",
       "      <td>Average</td>\n",
       "      <td>0.802</td>\n",
       "    </tr>\n",
       "    <tr>\n",
       "      <th>4</th>\n",
       "      <td>Bose New QuietComfort Ultra Wireless Noise Can...</td>\n",
       "      <td>Bose</td>\n",
       "      <td>25900</td>\n",
       "      <td>25900.0</td>\n",
       "      <td>0.0</td>\n",
       "      <td>3.6</td>\n",
       "      <td>7324</td>\n",
       "      <td>True</td>\n",
       "      <td>B0CD2FSRDD</td>\n",
       "      <td>https://www.amazon.in/Bose-QuietComfort-Cancel...</td>\n",
       "      <td>0.0</td>\n",
       "      <td>Luxury</td>\n",
       "      <td>Average</td>\n",
       "      <td>0.139</td>\n",
       "    </tr>\n",
       "  </tbody>\n",
       "</table>\n",
       "</div>"
      ],
      "text/plain": [
       "                                               Title  Brand  Price      MRP  \\\n",
       "0  Noise Newly Launched Airwave Max 5 Wireless Ov...  Noise   4999   5999.0   \n",
       "1  Boult Audio Z20 Pro Truly Wireless Bluetooth E...  Boult   1099   5999.0   \n",
       "2  Sony MDR-EX255AP Wired in-Ear Headphones with ...   Sony   1990   1990.0   \n",
       "3  Sony WI-XB400 Wireless Extra Bass in Ear Headp...   Sony   4990   4990.0   \n",
       "4  Bose New QuietComfort Ultra Wireless Noise Can...   Bose  25900  25900.0   \n",
       "\n",
       "   Discount  Rating  Review_Count  Prime        ASIN  \\\n",
       "0      17.0     4.1           131   True  B0DGV6TB8D   \n",
       "1      82.0     4.0          4321   True  B0D22QWQHR   \n",
       "2       0.0     4.1          2849   True  B073JQQK1Q   \n",
       "3       0.0     4.0         51527   True  B07WTX73MB   \n",
       "4       0.0     3.6          7324   True  B0CD2FSRDD   \n",
       "\n",
       "                                                 URL  Savings Price_Range  \\\n",
       "0                https://www.amazon.in/dp/B0DGV6TB8D   1000.0     Premium   \n",
       "1                https://www.amazon.in/dp/B0D22QWQHR   4900.0   Mid-range   \n",
       "2  https://www.amazon.in/Sony-MDR-EX255AP-Ear-Hea...      0.0     Premium   \n",
       "3  https://www.amazon.in/Sony-WI-XB400-Wireless-B...      0.0     Premium   \n",
       "4  https://www.amazon.in/Bose-QuietComfort-Cancel...      0.0      Luxury   \n",
       "\n",
       "  Rating_Category  Value_Score  \n",
       "0            Good        0.820  \n",
       "1         Average        3.640  \n",
       "2            Good        2.060  \n",
       "3         Average        0.802  \n",
       "4         Average        0.139  "
      ]
     },
     "execution_count": 53,
     "metadata": {},
     "output_type": "execute_result"
    }
   ],
   "source": [
    "df.head()"
   ]
  },
  {
   "cell_type": "code",
   "execution_count": 54,
   "metadata": {},
   "outputs": [],
   "source": [
    "df.to_csv('final_amazon_data_analysis.csv', index=False)"
   ]
  },
  {
   "cell_type": "code",
   "execution_count": null,
   "metadata": {},
   "outputs": [],
   "source": []
  }
 ],
 "metadata": {
  "kernelspec": {
   "display_name": "base",
   "language": "python",
   "name": "python3"
  },
  "language_info": {
   "codemirror_mode": {
    "name": "ipython",
    "version": 3
   },
   "file_extension": ".py",
   "mimetype": "text/x-python",
   "name": "python",
   "nbconvert_exporter": "python",
   "pygments_lexer": "ipython3",
   "version": "3.11.7"
  }
 },
 "nbformat": 4,
 "nbformat_minor": 2
}
